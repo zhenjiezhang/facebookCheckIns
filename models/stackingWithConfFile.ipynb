{
 "cells": [
  {
   "cell_type": "code",
   "execution_count": 17,
   "metadata": {
    "collapsed": true
   },
   "outputs": [],
   "source": [
    "import pandas as pd\n",
    "import numpy as np\n",
    "import os\n",
    "import time\n",
    "from IPython.core.interactiveshell import InteractiveShell\n",
    "InteractiveShell.ast_node_interactivity = \"all\"\n",
    "\n",
    "%matplotlib inline"
   ]
  },
  {
   "cell_type": "code",
   "execution_count": 16,
   "metadata": {
    "collapsed": true
   },
   "outputs": [],
   "source": [
    "def resultList(submitFiles, weights=[]):\n",
    "    if not weights:\n",
    "        weights=[1]*len(submitFiles)\n",
    "    allResults=[]\n",
    "        \n",
    "    base='../modelStacking/'\n",
    "    vs=np.vectorize(split)\n",
    "    \n",
    "    for f in submitFiles:\n",
    "        allResults.append([p.split() for p in (pd.read_csv(base+f).loc[:,'place_id'].values)])\n",
    "    return allResults\n",
    "    \n",
    "#     def computeTop3(candidates):\n",
    "        "
   ]
  },
  {
   "cell_type": "code",
   "execution_count": 18,
   "metadata": {
    "collapsed": false
   },
   "outputs": [
    {
     "name": "stdout",
     "output_type": "stream",
     "text": [
      "10.7216310501\n"
     ]
    }
   ],
   "source": [
    "t=time.time()\n",
    "res=resultList(['rf-sampleWeights-submit.csv'])\n",
    "print time.time()-t"
   ]
  },
  {
   "cell_type": "code",
   "execution_count": 21,
   "metadata": {
    "collapsed": false
   },
   "outputs": [
    {
     "data": {
      "text/plain": [
       "[['8017323210', '6131996960', '2397053449'],\n",
       " ['2465239230', '9801651394', '5801740503']]"
      ]
     },
     "execution_count": 21,
     "metadata": {},
     "output_type": "execute_result"
    }
   ],
   "source": [
    "res[0][:2]"
   ]
  },
  {
   "cell_type": "code",
   "execution_count": null,
   "metadata": {
    "collapsed": true
   },
   "outputs": [],
   "source": []
  }
 ],
 "metadata": {
  "kernelspec": {
   "display_name": "Python 2",
   "language": "python",
   "name": "python2"
  },
  "language_info": {
   "codemirror_mode": {
    "name": "ipython",
    "version": 2
   },
   "file_extension": ".py",
   "mimetype": "text/x-python",
   "name": "python",
   "nbconvert_exporter": "python",
   "pygments_lexer": "ipython2",
   "version": "2.7.11"
  }
 },
 "nbformat": 4,
 "nbformat_minor": 0
}
