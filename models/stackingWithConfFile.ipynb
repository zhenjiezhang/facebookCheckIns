{
 "cells": [
  {
   "cell_type": "code",
   "execution_count": 72,
   "metadata": {
    "collapsed": true
   },
   "outputs": [],
   "source": [
    "import pandas as pd\n",
    "import numpy as np\n",
    "import os\n",
    "import time\n",
    "from scipy.special import entr\n",
    "from IPython.core.interactiveshell import InteractiveShell\n",
    "InteractiveShell.ast_node_interactivity = \"all\"\n",
    "\n",
    "%matplotlib inline"
   ]
  },
  {
   "cell_type": "code",
   "execution_count": 76,
   "metadata": {
    "collapsed": false
   },
   "outputs": [
    {
     "name": "stdout",
     "output_type": "stream",
     "text": [
      "\n"
     ]
    }
   ],
   "source": [
    "def resultList(submitFiles, weights=[]):\n",
    "    if not weights:\n",
    "        weights=[1]*len(submitFiles)\n",
    "    allResults=[]\n",
    "        \n",
    "    base='../modelStacking/'\n",
    "    vs=np.vectorize(split)\n",
    "    \n",
    "    for f in submitFiles:\n",
    "        allResults.append([p.split() for p in (pd.read_csv(base+f).loc[:,'place_id'].values)])\n",
    "    allResults=[zip(*r) for r in zip(*allResults)]\n",
    "    \n",
    "#     print 'entropy of the files: ', entr(allResults).sum()\n",
    "    \n",
    "    for i in xrange(len(allResults)):\n",
    "        predList=list({p for rank in allResults[i] for p in rank})\n",
    "        predScores=[0]*len(predList)\n",
    "        \n",
    "        for rank in xrange(len(allResults[i])):\n",
    "            for ip in xrange(len(submitFiles)):\n",
    "                idx=predList.index(allResults[i][rank][ip])\n",
    "                predScores[idx]+=(10.0**(2-rank))*weights[ip]\n",
    "        allResults[i]=[z[1] for z in sorted(zip(predScores, predList), reverse=True)[:3]]\n",
    "\n",
    "    \n",
    "    return allResults\n",
    "    \n",
    "#     def computeTop3(candidates):\n",
    "        "
   ]
  },
  {
   "cell_type": "code",
   "execution_count": 77,
   "metadata": {
    "collapsed": false
   },
   "outputs": [
    {
     "name": "stdout",
     "output_type": "stream",
     "text": [
      "122.392412186\n"
     ]
    }
   ],
   "source": [
    "t=time.time()\n",
    "res=resultList(['rf-sampleWeights-submit-0.58352.csv', 'knn-higher-neighbors36-0.58129.csv', 'xgb-0.04-150-knn-param-58.029.csv'], weights=[1.1, 1.05, 1.0])\n",
    "print time.time()-t"
   ]
  },
  {
   "cell_type": "code",
   "execution_count": 81,
   "metadata": {
    "collapsed": false
   },
   "outputs": [
    {
     "data": {
      "text/plain": [
       "[['8017323210', '4393146716', '2647925924'],\n",
       " ['2465239230', '9801651394', '5801740503'],\n",
       " ['2516481553', '7862615088', '7295979691'],\n",
       " ['7995458948', '3243409743', '8643187406'],\n",
       " ['4764406629', '8711861736', '8277155346'],\n",
       " ['8370753254', '9727638738', '5003921802'],\n",
       " ['7283245557', '3165318731', '6058265401'],\n",
       " ['4346049470', '2482334547', '2247481267'],\n",
       " ['6470278079', '6421756522', '7464510556'],\n",
       " ['3894834079', '6980929490', '4495746994'],\n",
       " ['1776286518', '2852012701', '3641802545'],\n",
       " ['6955556885', '9490334480', '6227635771'],\n",
       " ['9031150064', '4000363114', '3819634898'],\n",
       " ['5313553144', '2434531540', '3420992015'],\n",
       " ['3756584599', '7405695170', '5653232021'],\n",
       " ['4390687315', '8442351461', '2437541306'],\n",
       " ['9440230828', '6368539484', '8015849918'],\n",
       " ['6318300870', '8792019238', '6631690276'],\n",
       " ['9309147360', '2865997311', '1104269715'],\n",
       " ['8151914846', '1692842864', '2310258183'],\n",
       " ['5937599993', '7247882702', '9703334114'],\n",
       " ['4289747407', '6990989086', '2228095458'],\n",
       " ['7840467506', '5708581121', '2777470953'],\n",
       " ['1422868699', '9579277377', '9882666614'],\n",
       " ['9366346488', '3221366284', '8983331957']]"
      ]
     },
     "execution_count": 81,
     "metadata": {},
     "output_type": "execute_result"
    }
   ],
   "source": [
    "res[:25]"
   ]
  },
  {
   "cell_type": "code",
   "execution_count": 69,
   "metadata": {
    "collapsed": false
   },
   "outputs": [
    {
     "data": {
      "text/plain": [
       "[['8017323210', '4393146716', '6131996960'],\n",
       " ['2465239230', '9801651394', '5801740503'],\n",
       " ['2516481553', '7862615088', '2653128693'],\n",
       " ['7995458948', '3243409743', '8643187406'],\n",
       " ['4764406629', '8277155346', '8711861736'],\n",
       " ['8370753254', '9727638738', '5003921802'],\n",
       " ['7283245557', '6058265401', '3165318731'],\n",
       " ['4346049470', '2482334547', '2247481267'],\n",
       " ['6470278079', '6421756522', '7464510556'],\n",
       " ['3894834079', '6980929490', '4495746994'],\n",
       " ['1776286518', '2852012701', '3641802545'],\n",
       " ['6955556885', '9490334480', '6227635771'],\n",
       " ['9031150064', '4000363114', '3819634898'],\n",
       " ['5313553144', '2434531540', '3420992015'],\n",
       " ['7405695170', '3756584599', '5653232021'],\n",
       " ['4390687315', '8442351461', '2437541306'],\n",
       " ['9440230828', '8015849918', '6368539484'],\n",
       " ['6318300870', '8792019238', '6631690276'],\n",
       " ['9309147360', '2865997311', '1104269715'],\n",
       " ['8151914846', '1692842864', '2310258183'],\n",
       " ['5937599993', '7247882702', '9728829127'],\n",
       " ['4289747407', '6990989086', '2228095458'],\n",
       " ['7840467506', '2777470953', '8745644984'],\n",
       " ['1422868699', '9579277377', '9882666614'],\n",
       " ['9366346488', '3221366284', '8983331957']]"
      ]
     },
     "execution_count": 69,
     "metadata": {},
     "output_type": "execute_result"
    }
   ],
   "source": [
    "res[:25]"
   ]
  },
  {
   "cell_type": "code",
   "execution_count": 78,
   "metadata": {
    "collapsed": false
   },
   "outputs": [],
   "source": [
    "submit=pd.Series([' '.join(r) for r in res])"
   ]
  },
  {
   "cell_type": "code",
   "execution_count": 79,
   "metadata": {
    "collapsed": false
   },
   "outputs": [],
   "source": [
    "submit.name='place_id'\n",
    "submit.index_label='row_id'\n",
    "submit.to_csv('../modelStacking/result.csv', index=True, header=True, index_label='row_id')"
   ]
  },
  {
   "cell_type": "code",
   "execution_count": 80,
   "metadata": {
    "collapsed": false
   },
   "outputs": [],
   "source": [
    "stacked=pd.read_csv('../modelStacking/result.csv')"
   ]
  },
  {
   "cell_type": "code",
   "execution_count": 67,
   "metadata": {
    "collapsed": false
   },
   "outputs": [
    {
     "data": {
      "text/html": [
       "<div>\n",
       "<table border=\"1\" class=\"dataframe\">\n",
       "  <thead>\n",
       "    <tr style=\"text-align: right;\">\n",
       "      <th></th>\n",
       "      <th>row_id</th>\n",
       "      <th>place_id</th>\n",
       "    </tr>\n",
       "  </thead>\n",
       "  <tbody>\n",
       "    <tr>\n",
       "      <th>0</th>\n",
       "      <td>0</td>\n",
       "      <td>8017323210 4393146716 6131996960</td>\n",
       "    </tr>\n",
       "    <tr>\n",
       "      <th>1</th>\n",
       "      <td>1</td>\n",
       "      <td>2465239230 9801651394 5801740503</td>\n",
       "    </tr>\n",
       "    <tr>\n",
       "      <th>2</th>\n",
       "      <td>2</td>\n",
       "      <td>2516481553 7862615088 2653128693</td>\n",
       "    </tr>\n",
       "    <tr>\n",
       "      <th>3</th>\n",
       "      <td>3</td>\n",
       "      <td>7995458948 3243409743 8643187406</td>\n",
       "    </tr>\n",
       "    <tr>\n",
       "      <th>4</th>\n",
       "      <td>4</td>\n",
       "      <td>4764406629 8277155346 8711861736</td>\n",
       "    </tr>\n",
       "  </tbody>\n",
       "</table>\n",
       "</div>"
      ],
      "text/plain": [
       "   row_id                          place_id\n",
       "0       0  8017323210 4393146716 6131996960\n",
       "1       1  2465239230 9801651394 5801740503\n",
       "2       2  2516481553 7862615088 2653128693\n",
       "3       3  7995458948 3243409743 8643187406\n",
       "4       4  4764406629 8277155346 8711861736"
      ]
     },
     "execution_count": 67,
     "metadata": {},
     "output_type": "execute_result"
    }
   ],
   "source": [
    "stacked.head()"
   ]
  },
  {
   "cell_type": "code",
   "execution_count": 37,
   "metadata": {
    "collapsed": false
   },
   "outputs": [
    {
     "data": {
      "text/plain": [
       "[['8017323210', '4393146716', '6131996960'],\n",
       " ['2465239230', '9801651394', '5801740503'],\n",
       " ['2516481553', '7862615088', '7295979691'],\n",
       " ['7995458948', '3243409743', '8643187406'],\n",
       " ['4764406629', '8277155346', '8711861736']]"
      ]
     },
     "execution_count": 37,
     "metadata": {},
     "output_type": "execute_result"
    }
   ],
   "source": [
    "res[:5]"
   ]
  },
  {
   "cell_type": "code",
   "execution_count": 28,
   "metadata": {
    "collapsed": false
   },
   "outputs": [
    {
     "data": {
      "text/plain": [
       "[[('8017323210', '4393146716'),\n",
       "  ('6131996960', '8017323210'),\n",
       "  ('2397053449', '6131996960')],\n",
       " [('2465239230', '2465239230'),\n",
       "  ('9801651394', '9801651394'),\n",
       "  ('5801740503', '5801740503')],\n",
       " [('2516481553', '2516481553'),\n",
       "  ('7862615088', '7862615088'),\n",
       "  ('2653128693', '7295979691')],\n",
       " [('7995458948', '7995458948'),\n",
       "  ('3243409743', '3243409743'),\n",
       "  ('8643187406', '8393706174')],\n",
       " [('4764406629', '4764406629'),\n",
       "  ('8277155346', '8277155346'),\n",
       "  ('8711861736', '8711861736')]]"
      ]
     },
     "execution_count": 28,
     "metadata": {},
     "output_type": "execute_result"
    }
   ],
   "source": [
    "res[:5]"
   ]
  },
  {
   "cell_type": "code",
   "execution_count": null,
   "metadata": {
    "collapsed": true
   },
   "outputs": [],
   "source": []
  }
 ],
 "metadata": {
  "kernelspec": {
   "display_name": "Python 2",
   "language": "python",
   "name": "python2"
  },
  "language_info": {
   "codemirror_mode": {
    "name": "ipython",
    "version": 2
   },
   "file_extension": ".py",
   "mimetype": "text/x-python",
   "name": "python",
   "nbconvert_exporter": "python",
   "pygments_lexer": "ipython2",
   "version": "2.7.11"
  }
 },
 "nbformat": 4,
 "nbformat_minor": 0
}
