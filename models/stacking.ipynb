{
 "cells": [
  {
   "cell_type": "code",
   "execution_count": 5,
   "metadata": {
    "collapsed": true
   },
   "outputs": [],
   "source": [
    "import pandas as pd\n",
    "import numpy as np\n",
    "import os"
   ]
  },
  {
   "cell_type": "code",
   "execution_count": 14,
   "metadata": {
    "collapsed": true
   },
   "outputs": [],
   "source": [
    "def produceProbSummary(resultFolder):\n",
    "    '''\n",
    "    produce a summary of prediction probilities from a folder of srt files (csv format)\n",
    "    input:\n",
    "    \n",
    "    resultFolder: string (folder in ../submissions/)\n",
    "    \n",
    "    output:\n",
    "    \n",
    "    results: pandas DataFrame containing:\n",
    "        row_id\n",
    "        pred0\n",
    "        pred1\n",
    "        pred2\n",
    "        conf0\n",
    "        conf1\n",
    "        conf2\n",
    "    \n",
    "    \n",
    "    '''\n",
    "    resultFolder='../submissions/'+resultFolder\n",
    "    \n",
    "    results=[]\n",
    "    for f in os.listdir(resultFolder):\n",
    "        if f.endswith('.rst'):\n",
    "            fi=resultFolder+'/'+f\n",
    "            results.append(pd.read_csv(fi))\n",
    "    results=pd.concat(results)\n",
    "    results.drop(['accuracy','regionalFBScore'], inplace=True)\n",
    "    results.sort_values(by=['originalIndex'], inplace=True)\n",
    "    return results"
   ]
  },
  {
   "cell_type": "code",
   "execution_count": 15,
   "metadata": {
    "collapsed": false
   },
   "outputs": [
    {
     "data": {
      "text/html": [
       "<div>\n",
       "<table border=\"1\" class=\"dataframe\">\n",
       "  <thead>\n",
       "    <tr style=\"text-align: right;\">\n",
       "      <th></th>\n",
       "      <th>Unnamed: 0</th>\n",
       "      <th>accuracy</th>\n",
       "      <th>conf0</th>\n",
       "      <th>conf1</th>\n",
       "      <th>conf2</th>\n",
       "      <th>originalIndex</th>\n",
       "      <th>pred0</th>\n",
       "      <th>pred1</th>\n",
       "      <th>pred2</th>\n",
       "      <th>regionalFBScore</th>\n",
       "      <th>x</th>\n",
       "      <th>y</th>\n",
       "    </tr>\n",
       "  </thead>\n",
       "  <tbody>\n",
       "    <tr>\n",
       "      <th>0</th>\n",
       "      <td>0</td>\n",
       "      <td>20.293838</td>\n",
       "      <td>0.316522</td>\n",
       "      <td>0.169611</td>\n",
       "      <td>0.159732</td>\n",
       "      <td>0</td>\n",
       "      <td>4393146716</td>\n",
       "      <td>8017323210</td>\n",
       "      <td>6131996960</td>\n",
       "      <td>-1</td>\n",
       "      <td>82.075</td>\n",
       "      <td>1333.584</td>\n",
       "    </tr>\n",
       "    <tr>\n",
       "      <th>0</th>\n",
       "      <td>0</td>\n",
       "      <td>15.440680</td>\n",
       "      <td>0.289022</td>\n",
       "      <td>0.089012</td>\n",
       "      <td>0.082195</td>\n",
       "      <td>1</td>\n",
       "      <td>2465239230</td>\n",
       "      <td>5801740503</td>\n",
       "      <td>9801651394</td>\n",
       "      <td>-1</td>\n",
       "      <td>3621.541</td>\n",
       "      <td>2479.498</td>\n",
       "    </tr>\n",
       "    <tr>\n",
       "      <th>0</th>\n",
       "      <td>0</td>\n",
       "      <td>17.923917</td>\n",
       "      <td>0.468894</td>\n",
       "      <td>0.288894</td>\n",
       "      <td>0.115907</td>\n",
       "      <td>2</td>\n",
       "      <td>2516481553</td>\n",
       "      <td>7862615088</td>\n",
       "      <td>7295979691</td>\n",
       "      <td>-1</td>\n",
       "      <td>3967.922</td>\n",
       "      <td>2300.354</td>\n",
       "    </tr>\n",
       "    <tr>\n",
       "      <th>0</th>\n",
       "      <td>0</td>\n",
       "      <td>17.923917</td>\n",
       "      <td>0.746153</td>\n",
       "      <td>0.110147</td>\n",
       "      <td>0.079010</td>\n",
       "      <td>3</td>\n",
       "      <td>7995458948</td>\n",
       "      <td>3243409743</td>\n",
       "      <td>8393706174</td>\n",
       "      <td>-1</td>\n",
       "      <td>489.510</td>\n",
       "      <td>1037.918</td>\n",
       "    </tr>\n",
       "    <tr>\n",
       "      <th>0</th>\n",
       "      <td>0</td>\n",
       "      <td>16.020600</td>\n",
       "      <td>0.368029</td>\n",
       "      <td>0.270289</td>\n",
       "      <td>0.148313</td>\n",
       "      <td>4</td>\n",
       "      <td>4764406629</td>\n",
       "      <td>8277155346</td>\n",
       "      <td>8711861736</td>\n",
       "      <td>-1</td>\n",
       "      <td>326.830</td>\n",
       "      <td>9530.892</td>\n",
       "    </tr>\n",
       "  </tbody>\n",
       "</table>\n",
       "</div>"
      ],
      "text/plain": [
       "   Unnamed: 0   accuracy     conf0     conf1     conf2  originalIndex  \\\n",
       "0           0  20.293838  0.316522  0.169611  0.159732              0   \n",
       "0           0  15.440680  0.289022  0.089012  0.082195              1   \n",
       "0           0  17.923917  0.468894  0.288894  0.115907              2   \n",
       "0           0  17.923917  0.746153  0.110147  0.079010              3   \n",
       "0           0  16.020600  0.368029  0.270289  0.148313              4   \n",
       "\n",
       "        pred0       pred1       pred2  regionalFBScore         x         y  \n",
       "0  4393146716  8017323210  6131996960               -1    82.075  1333.584  \n",
       "0  2465239230  5801740503  9801651394               -1  3621.541  2479.498  \n",
       "0  2516481553  7862615088  7295979691               -1  3967.922  2300.354  \n",
       "0  7995458948  3243409743  8393706174               -1   489.510  1037.918  \n",
       "0  4764406629  8277155346  8711861736               -1   326.830  9530.892  "
      ]
     },
     "execution_count": 15,
     "metadata": {},
     "output_type": "execute_result"
    }
   ],
   "source": [
    "produceProbSummary('knn-01').head()"
   ]
  },
  {
   "cell_type": "code",
   "execution_count": 19,
   "metadata": {
    "collapsed": true
   },
   "outputs": [],
   "source": [
    "def combineRecords(folders):\n",
    "    print 'reading folders'\n",
    "    results=[produceProbSummary(folder) for folder in folders]\n",
    "    print 'reading is done.  Analyzing files'\n",
    "    if len(list(set([len(r) for r in results])))!=1:\n",
    "        print \"unequal number of records in folders, aborting...\"\n",
    "        return\n",
    "    \n",
    "    places=['pred0', 'pred1', 'pred2']\n",
    "    confs=['conf0', 'conf1', 'conf2']\n",
    "    weights=[100, 10, 1]\n",
    "    place_confs=zip(places, confs, weights)\n",
    "    \n",
    "    ranks=[]\n",
    "    print 'making ranks'\n",
    "    for i in xrange(len(results[0])):\n",
    "        scores=dict()\n",
    "        for r in results:\n",
    "            rRec=r.iloc[i]\n",
    "            for p, c, w in place_confs:\n",
    "                if rRec[p] in scores:\n",
    "                    scores[rRec[p]]+=rRec[c]*w\n",
    "                else:\n",
    "                    scores[rRec[p]]=rRec[c]*w\n",
    "        scores=np.sort([[p,s] for p, s in scores], order='f1', axis=0)[-3:][::-1]\n",
    "        ranks.append(' '.join([str(s[0]) for s in scores]))\n",
    "        if i%1000000==0:\n",
    "            print i, 'lines are done'\n",
    "    \n",
    "    res=pd.DataFrame({row_id: xrange(len(results[0])), 'place_id': ranks})\n",
    "    print 'all done'\n",
    "    return res"
   ]
  },
  {
   "cell_type": "code",
   "execution_count": 20,
   "metadata": {
    "collapsed": false
   },
   "outputs": [
    {
     "name": "stdout",
     "output_type": "stream",
     "text": [
      "reading folders\n",
      "reading is done.  Analyzing files\n",
      "making ranks\n"
     ]
    },
    {
     "ename": "TypeError",
     "evalue": "'numpy.float64' object is not iterable",
     "output_type": "error",
     "traceback": [
      "\u001b[1;31m---------------------------------------------------------------------------\u001b[0m",
      "\u001b[1;31mTypeError\u001b[0m                                 Traceback (most recent call last)",
      "\u001b[1;32m<ipython-input-20-7489af6775aa>\u001b[0m in \u001b[0;36m<module>\u001b[1;34m()\u001b[0m\n\u001b[1;32m----> 1\u001b[1;33m \u001b[0mres\u001b[0m\u001b[1;33m=\u001b[0m\u001b[0mcombineRecords\u001b[0m\u001b[1;33m(\u001b[0m\u001b[1;33m[\u001b[0m\u001b[1;34m'knn-01'\u001b[0m\u001b[1;33m,\u001b[0m \u001b[1;34m'knn-02'\u001b[0m\u001b[1;33m]\u001b[0m\u001b[1;33m)\u001b[0m\u001b[1;33m\u001b[0m\u001b[0m\n\u001b[0m",
      "\u001b[1;32m<ipython-input-19-a55643e876d2>\u001b[0m in \u001b[0;36mcombineRecords\u001b[1;34m(folders)\u001b[0m\n\u001b[0;32m     23\u001b[0m                 \u001b[1;32melse\u001b[0m\u001b[1;33m:\u001b[0m\u001b[1;33m\u001b[0m\u001b[0m\n\u001b[0;32m     24\u001b[0m                     \u001b[0mscores\u001b[0m\u001b[1;33m[\u001b[0m\u001b[0mrRec\u001b[0m\u001b[1;33m[\u001b[0m\u001b[0mp\u001b[0m\u001b[1;33m]\u001b[0m\u001b[1;33m]\u001b[0m\u001b[1;33m=\u001b[0m\u001b[0mrRec\u001b[0m\u001b[1;33m[\u001b[0m\u001b[0mc\u001b[0m\u001b[1;33m]\u001b[0m\u001b[1;33m*\u001b[0m\u001b[0mw\u001b[0m\u001b[1;33m\u001b[0m\u001b[0m\n\u001b[1;32m---> 25\u001b[1;33m         \u001b[0mscores\u001b[0m\u001b[1;33m=\u001b[0m\u001b[0mnp\u001b[0m\u001b[1;33m.\u001b[0m\u001b[0msort\u001b[0m\u001b[1;33m(\u001b[0m\u001b[1;33m[\u001b[0m\u001b[1;33m[\u001b[0m\u001b[0mp\u001b[0m\u001b[1;33m,\u001b[0m\u001b[0ms\u001b[0m\u001b[1;33m]\u001b[0m \u001b[1;32mfor\u001b[0m \u001b[0mp\u001b[0m\u001b[1;33m,\u001b[0m \u001b[0ms\u001b[0m \u001b[1;32min\u001b[0m \u001b[0mscores\u001b[0m\u001b[1;33m]\u001b[0m\u001b[1;33m,\u001b[0m \u001b[0morder\u001b[0m\u001b[1;33m=\u001b[0m\u001b[1;34m'f1'\u001b[0m\u001b[1;33m,\u001b[0m \u001b[0maxis\u001b[0m\u001b[1;33m=\u001b[0m\u001b[1;36m0\u001b[0m\u001b[1;33m)\u001b[0m\u001b[1;33m[\u001b[0m\u001b[1;33m-\u001b[0m\u001b[1;36m3\u001b[0m\u001b[1;33m:\u001b[0m\u001b[1;33m]\u001b[0m\u001b[1;33m[\u001b[0m\u001b[1;33m:\u001b[0m\u001b[1;33m:\u001b[0m\u001b[1;33m-\u001b[0m\u001b[1;36m1\u001b[0m\u001b[1;33m]\u001b[0m\u001b[1;33m\u001b[0m\u001b[0m\n\u001b[0m\u001b[0;32m     26\u001b[0m         \u001b[0mranks\u001b[0m\u001b[1;33m.\u001b[0m\u001b[0mappend\u001b[0m\u001b[1;33m(\u001b[0m\u001b[1;34m' '\u001b[0m\u001b[1;33m.\u001b[0m\u001b[0mjoin\u001b[0m\u001b[1;33m(\u001b[0m\u001b[1;33m[\u001b[0m\u001b[0mstr\u001b[0m\u001b[1;33m(\u001b[0m\u001b[0ms\u001b[0m\u001b[1;33m[\u001b[0m\u001b[1;36m0\u001b[0m\u001b[1;33m]\u001b[0m\u001b[1;33m)\u001b[0m \u001b[1;32mfor\u001b[0m \u001b[0ms\u001b[0m \u001b[1;32min\u001b[0m \u001b[0mscores\u001b[0m\u001b[1;33m]\u001b[0m\u001b[1;33m)\u001b[0m\u001b[1;33m)\u001b[0m\u001b[1;33m\u001b[0m\u001b[0m\n\u001b[0;32m     27\u001b[0m         \u001b[1;32mif\u001b[0m \u001b[0mi\u001b[0m\u001b[1;33m%\u001b[0m\u001b[1;36m1000000\u001b[0m\u001b[1;33m==\u001b[0m\u001b[1;36m0\u001b[0m\u001b[1;33m:\u001b[0m\u001b[1;33m\u001b[0m\u001b[0m\n",
      "\u001b[1;31mTypeError\u001b[0m: 'numpy.float64' object is not iterable"
     ]
    }
   ],
   "source": [
    "res=combineRecords(['knn-01', 'knn-02'])"
   ]
  },
  {
   "cell_type": "code",
   "execution_count": 18,
   "metadata": {
    "collapsed": false
   },
   "outputs": [
    {
     "ename": "AttributeError",
     "evalue": "'NoneType' object has no attribute 'head'",
     "output_type": "error",
     "traceback": [
      "\u001b[1;31m---------------------------------------------------------------------------\u001b[0m",
      "\u001b[1;31mAttributeError\u001b[0m                            Traceback (most recent call last)",
      "\u001b[1;32m<ipython-input-18-c3cc570434d4>\u001b[0m in \u001b[0;36m<module>\u001b[1;34m()\u001b[0m\n\u001b[1;32m----> 1\u001b[1;33m \u001b[0mres\u001b[0m\u001b[1;33m.\u001b[0m\u001b[0mhead\u001b[0m\u001b[1;33m(\u001b[0m\u001b[1;33m)\u001b[0m\u001b[1;33m\u001b[0m\u001b[0m\n\u001b[0m",
      "\u001b[1;31mAttributeError\u001b[0m: 'NoneType' object has no attribute 'head'"
     ]
    }
   ],
   "source": [
    "res.head()"
   ]
  },
  {
   "cell_type": "code",
   "execution_count": null,
   "metadata": {
    "collapsed": true
   },
   "outputs": [],
   "source": []
  }
 ],
 "metadata": {
  "kernelspec": {
   "display_name": "Python 2",
   "language": "python",
   "name": "python2"
  },
  "language_info": {
   "codemirror_mode": {
    "name": "ipython",
    "version": 2
   },
   "file_extension": ".py",
   "mimetype": "text/x-python",
   "name": "python",
   "nbconvert_exporter": "python",
   "pygments_lexer": "ipython2",
   "version": "2.7.11"
  }
 },
 "nbformat": 4,
 "nbformat_minor": 0
}
