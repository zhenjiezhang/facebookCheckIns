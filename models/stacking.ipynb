{
 "cells": [
  {
   "cell_type": "code",
   "execution_count": 32,
   "metadata": {
    "collapsed": true
   },
   "outputs": [],
   "source": [
    "import pandas as pd\n",
    "import numpy as np\n",
    "import os\n",
    "from IPython.core.interactiveshell import InteractiveShell\n",
    "InteractiveShell.ast_node_interactivity = \"all\"\n",
    "\n",
    "%matplotlib inline"
   ]
  },
  {
   "cell_type": "code",
   "execution_count": 14,
   "metadata": {
    "collapsed": true
   },
   "outputs": [],
   "source": [
    "def produceProbSummary(resultFolder):\n",
    "    '''\n",
    "    produce a summary of prediction probilities from a folder of srt files (csv format)\n",
    "    input:\n",
    "    \n",
    "    resultFolder: string (folder in ../submissions/)\n",
    "    \n",
    "    output:\n",
    "    \n",
    "    results: pandas DataFrame containing:\n",
    "        row_id\n",
    "        pred0\n",
    "        pred1\n",
    "        pred2\n",
    "        conf0\n",
    "        conf1\n",
    "        conf2\n",
    "    \n",
    "    \n",
    "    '''\n",
    "    resultFolder='../submissions/'+resultFolder\n",
    "    \n",
    "    results=[]\n",
    "    for f in os.listdir(resultFolder):\n",
    "        if f.endswith('.rst'):\n",
    "            fi=resultFolder+'/'+f\n",
    "            results.append(pd.read_csv(fi))\n",
    "    results=pd.concat(results)\n",
    "    results.drop(['accuracy','regionalFBScore'], inplace=True)\n",
    "    results.sort_values(by=['originalIndex'], inplace=True)\n",
    "    return results"
   ]
  },
  {
   "cell_type": "code",
   "execution_count": 15,
   "metadata": {
    "collapsed": false
   },
   "outputs": [
    {
     "data": {
      "text/html": [
       "<div>\n",
       "<table border=\"1\" class=\"dataframe\">\n",
       "  <thead>\n",
       "    <tr style=\"text-align: right;\">\n",
       "      <th></th>\n",
       "      <th>Unnamed: 0</th>\n",
       "      <th>accuracy</th>\n",
       "      <th>conf0</th>\n",
       "      <th>conf1</th>\n",
       "      <th>conf2</th>\n",
       "      <th>originalIndex</th>\n",
       "      <th>pred0</th>\n",
       "      <th>pred1</th>\n",
       "      <th>pred2</th>\n",
       "      <th>regionalFBScore</th>\n",
       "      <th>x</th>\n",
       "      <th>y</th>\n",
       "    </tr>\n",
       "  </thead>\n",
       "  <tbody>\n",
       "    <tr>\n",
       "      <th>0</th>\n",
       "      <td>0</td>\n",
       "      <td>20.293838</td>\n",
       "      <td>0.316522</td>\n",
       "      <td>0.169611</td>\n",
       "      <td>0.159732</td>\n",
       "      <td>0</td>\n",
       "      <td>4393146716</td>\n",
       "      <td>8017323210</td>\n",
       "      <td>6131996960</td>\n",
       "      <td>-1</td>\n",
       "      <td>82.075</td>\n",
       "      <td>1333.584</td>\n",
       "    </tr>\n",
       "    <tr>\n",
       "      <th>0</th>\n",
       "      <td>0</td>\n",
       "      <td>15.440680</td>\n",
       "      <td>0.289022</td>\n",
       "      <td>0.089012</td>\n",
       "      <td>0.082195</td>\n",
       "      <td>1</td>\n",
       "      <td>2465239230</td>\n",
       "      <td>5801740503</td>\n",
       "      <td>9801651394</td>\n",
       "      <td>-1</td>\n",
       "      <td>3621.541</td>\n",
       "      <td>2479.498</td>\n",
       "    </tr>\n",
       "    <tr>\n",
       "      <th>0</th>\n",
       "      <td>0</td>\n",
       "      <td>17.923917</td>\n",
       "      <td>0.468894</td>\n",
       "      <td>0.288894</td>\n",
       "      <td>0.115907</td>\n",
       "      <td>2</td>\n",
       "      <td>2516481553</td>\n",
       "      <td>7862615088</td>\n",
       "      <td>7295979691</td>\n",
       "      <td>-1</td>\n",
       "      <td>3967.922</td>\n",
       "      <td>2300.354</td>\n",
       "    </tr>\n",
       "    <tr>\n",
       "      <th>0</th>\n",
       "      <td>0</td>\n",
       "      <td>17.923917</td>\n",
       "      <td>0.746153</td>\n",
       "      <td>0.110147</td>\n",
       "      <td>0.079010</td>\n",
       "      <td>3</td>\n",
       "      <td>7995458948</td>\n",
       "      <td>3243409743</td>\n",
       "      <td>8393706174</td>\n",
       "      <td>-1</td>\n",
       "      <td>489.510</td>\n",
       "      <td>1037.918</td>\n",
       "    </tr>\n",
       "    <tr>\n",
       "      <th>0</th>\n",
       "      <td>0</td>\n",
       "      <td>16.020600</td>\n",
       "      <td>0.368029</td>\n",
       "      <td>0.270289</td>\n",
       "      <td>0.148313</td>\n",
       "      <td>4</td>\n",
       "      <td>4764406629</td>\n",
       "      <td>8277155346</td>\n",
       "      <td>8711861736</td>\n",
       "      <td>-1</td>\n",
       "      <td>326.830</td>\n",
       "      <td>9530.892</td>\n",
       "    </tr>\n",
       "  </tbody>\n",
       "</table>\n",
       "</div>"
      ],
      "text/plain": [
       "   Unnamed: 0   accuracy     conf0     conf1     conf2  originalIndex  \\\n",
       "0           0  20.293838  0.316522  0.169611  0.159732              0   \n",
       "0           0  15.440680  0.289022  0.089012  0.082195              1   \n",
       "0           0  17.923917  0.468894  0.288894  0.115907              2   \n",
       "0           0  17.923917  0.746153  0.110147  0.079010              3   \n",
       "0           0  16.020600  0.368029  0.270289  0.148313              4   \n",
       "\n",
       "        pred0       pred1       pred2  regionalFBScore         x         y  \n",
       "0  4393146716  8017323210  6131996960               -1    82.075  1333.584  \n",
       "0  2465239230  5801740503  9801651394               -1  3621.541  2479.498  \n",
       "0  2516481553  7862615088  7295979691               -1  3967.922  2300.354  \n",
       "0  7995458948  3243409743  8393706174               -1   489.510  1037.918  \n",
       "0  4764406629  8277155346  8711861736               -1   326.830  9530.892  "
      ]
     },
     "execution_count": 15,
     "metadata": {},
     "output_type": "execute_result"
    }
   ],
   "source": [
    "produceProbSummary('knn-01').head()"
   ]
  },
  {
   "cell_type": "code",
   "execution_count": 27,
   "metadata": {
    "collapsed": true
   },
   "outputs": [],
   "source": [
    "def combineRecords(folders):\n",
    "    print 'reading folders'\n",
    "    results=[produceProbSummary(folder)[:1000] for folder in folders]\n",
    "    print 'reading is done.  Analyzing files'\n",
    "    if len(list(set([len(r) for r in results])))!=1:\n",
    "        print \"unequal number of records in folders, aborting...\"\n",
    "        return\n",
    "    \n",
    "    places=['pred0', 'pred1', 'pred2']\n",
    "    confs=['conf0', 'conf1', 'conf2']\n",
    "    weights=[100, 10, 1]\n",
    "    place_confs=zip(places, confs, weights)\n",
    "    \n",
    "    ranks=[]\n",
    "    print 'making ranks'\n",
    "    for i in xrange(len(results[0])):\n",
    "        scores=dict()\n",
    "        for r in results:\n",
    "            rRec=r.iloc[i]\n",
    "            for p, c, w in place_confs:\n",
    "                if rRec[p] in scores:\n",
    "                    scores[rRec[p]]+=rRec[c]*w\n",
    "                else:\n",
    "                    scores[rRec[p]]=rRec[c]*w\n",
    "        scores=sorted([[s,p] for p, s in scores.items()])[-3:][::-1]\n",
    "        ranks.append(' '.join([str(s[1]) for s in scores]))\n",
    "        if i%1000000==0:\n",
    "            print i, 'lines are done'\n",
    "    \n",
    "    res=pd.DataFrame({'row_id': xrange(len(results[0])), 'place_id': ranks})\n",
    "    print 'all done'\n",
    "    return res"
   ]
  },
  {
   "cell_type": "code",
   "execution_count": 28,
   "metadata": {
    "collapsed": false
   },
   "outputs": [
    {
     "name": "stdout",
     "output_type": "stream",
     "text": [
      "reading folders\n",
      "reading is done.  Analyzing files\n",
      "making ranks\n",
      "0 lines are done\n",
      "all done\n"
     ]
    }
   ],
   "source": [
    "res=combineRecords(['knn-01', 'knn-02'])"
   ]
  },
  {
   "cell_type": "code",
   "execution_count": 29,
   "metadata": {
    "collapsed": false
   },
   "outputs": [
    {
     "data": {
      "text/html": [
       "<div>\n",
       "<table border=\"1\" class=\"dataframe\">\n",
       "  <thead>\n",
       "    <tr style=\"text-align: right;\">\n",
       "      <th></th>\n",
       "      <th>place_id</th>\n",
       "      <th>row_id</th>\n",
       "    </tr>\n",
       "  </thead>\n",
       "  <tbody>\n",
       "    <tr>\n",
       "      <th>0</th>\n",
       "      <td>4393146716.0 6131996960.0 8017323210.0</td>\n",
       "      <td>0</td>\n",
       "    </tr>\n",
       "    <tr>\n",
       "      <th>1</th>\n",
       "      <td>2465239230.0 5801740503.0 4634106612.0</td>\n",
       "      <td>1</td>\n",
       "    </tr>\n",
       "    <tr>\n",
       "      <th>2</th>\n",
       "      <td>2516481553.0 7862615088.0 7295979691.0</td>\n",
       "      <td>2</td>\n",
       "    </tr>\n",
       "    <tr>\n",
       "      <th>3</th>\n",
       "      <td>7995458948.0 3243409743.0 8393706174.0</td>\n",
       "      <td>3</td>\n",
       "    </tr>\n",
       "    <tr>\n",
       "      <th>4</th>\n",
       "      <td>4764406629.0 8277155346.0 8711861736.0</td>\n",
       "      <td>4</td>\n",
       "    </tr>\n",
       "  </tbody>\n",
       "</table>\n",
       "</div>"
      ],
      "text/plain": [
       "                                 place_id  row_id\n",
       "0  4393146716.0 6131996960.0 8017323210.0       0\n",
       "1  2465239230.0 5801740503.0 4634106612.0       1\n",
       "2  2516481553.0 7862615088.0 7295979691.0       2\n",
       "3  7995458948.0 3243409743.0 8393706174.0       3\n",
       "4  4764406629.0 8277155346.0 8711861736.0       4"
      ]
     },
     "execution_count": 29,
     "metadata": {},
     "output_type": "execute_result"
    }
   ],
   "source": [
    "res.head()"
   ]
  },
  {
   "cell_type": "code",
   "execution_count": 31,
   "metadata": {
    "collapsed": false
   },
   "outputs": [],
   "source": [
    "f1=pd.read_csv('../submissions/knn-01.csv')\n",
    "f2=pd.read_csv('../submissions/knn-02.csv')"
   ]
  },
  {
   "cell_type": "code",
   "execution_count": 33,
   "metadata": {
    "collapsed": false
   },
   "outputs": [
    {
     "data": {
      "text/html": [
       "<div>\n",
       "<table border=\"1\" class=\"dataframe\">\n",
       "  <thead>\n",
       "    <tr style=\"text-align: right;\">\n",
       "      <th></th>\n",
       "      <th>row_id</th>\n",
       "      <th>place_id</th>\n",
       "    </tr>\n",
       "  </thead>\n",
       "  <tbody>\n",
       "    <tr>\n",
       "      <th>0</th>\n",
       "      <td>0</td>\n",
       "      <td>4393146716 8017323210 6131996960</td>\n",
       "    </tr>\n",
       "    <tr>\n",
       "      <th>1</th>\n",
       "      <td>1</td>\n",
       "      <td>2465239230 5801740503 9801651394</td>\n",
       "    </tr>\n",
       "    <tr>\n",
       "      <th>2</th>\n",
       "      <td>2</td>\n",
       "      <td>2516481553 7862615088 7295979691</td>\n",
       "    </tr>\n",
       "    <tr>\n",
       "      <th>3</th>\n",
       "      <td>3</td>\n",
       "      <td>7995458948 3243409743 8393706174</td>\n",
       "    </tr>\n",
       "    <tr>\n",
       "      <th>4</th>\n",
       "      <td>4</td>\n",
       "      <td>4764406629 8277155346 8711861736</td>\n",
       "    </tr>\n",
       "  </tbody>\n",
       "</table>\n",
       "</div>"
      ],
      "text/plain": [
       "   row_id                          place_id\n",
       "0       0  4393146716 8017323210 6131996960\n",
       "1       1  2465239230 5801740503 9801651394\n",
       "2       2  2516481553 7862615088 7295979691\n",
       "3       3  7995458948 3243409743 8393706174\n",
       "4       4  4764406629 8277155346 8711861736"
      ]
     },
     "execution_count": 33,
     "metadata": {},
     "output_type": "execute_result"
    },
    {
     "data": {
      "text/html": [
       "<div>\n",
       "<table border=\"1\" class=\"dataframe\">\n",
       "  <thead>\n",
       "    <tr style=\"text-align: right;\">\n",
       "      <th></th>\n",
       "      <th>row_id</th>\n",
       "      <th>place_id</th>\n",
       "    </tr>\n",
       "  </thead>\n",
       "  <tbody>\n",
       "    <tr>\n",
       "      <th>0</th>\n",
       "      <td>0</td>\n",
       "      <td>4393146716 6131996960 8017323210</td>\n",
       "    </tr>\n",
       "    <tr>\n",
       "      <th>1</th>\n",
       "      <td>1</td>\n",
       "      <td>2465239230 4634106612 5801740503</td>\n",
       "    </tr>\n",
       "    <tr>\n",
       "      <th>2</th>\n",
       "      <td>2</td>\n",
       "      <td>2516481553 7862615088 7295979691</td>\n",
       "    </tr>\n",
       "    <tr>\n",
       "      <th>3</th>\n",
       "      <td>3</td>\n",
       "      <td>7995458948 3243409743 8643187406</td>\n",
       "    </tr>\n",
       "    <tr>\n",
       "      <th>4</th>\n",
       "      <td>4</td>\n",
       "      <td>4764406629 8277155346 8711861736</td>\n",
       "    </tr>\n",
       "  </tbody>\n",
       "</table>\n",
       "</div>"
      ],
      "text/plain": [
       "   row_id                          place_id\n",
       "0       0  4393146716 6131996960 8017323210\n",
       "1       1  2465239230 4634106612 5801740503\n",
       "2       2  2516481553 7862615088 7295979691\n",
       "3       3  7995458948 3243409743 8643187406\n",
       "4       4  4764406629 8277155346 8711861736"
      ]
     },
     "execution_count": 33,
     "metadata": {},
     "output_type": "execute_result"
    }
   ],
   "source": [
    "f1.head()\n",
    "f2.head()"
   ]
  },
  {
   "cell_type": "code",
   "execution_count": null,
   "metadata": {
    "collapsed": true
   },
   "outputs": [],
   "source": []
  }
 ],
 "metadata": {
  "kernelspec": {
   "display_name": "Python 2",
   "language": "python",
   "name": "python2"
  },
  "language_info": {
   "codemirror_mode": {
    "name": "ipython",
    "version": 2
   },
   "file_extension": ".py",
   "mimetype": "text/x-python",
   "name": "python",
   "nbconvert_exporter": "python",
   "pygments_lexer": "ipython2",
   "version": "2.7.11"
  }
 },
 "nbformat": 4,
 "nbformat_minor": 0
}
