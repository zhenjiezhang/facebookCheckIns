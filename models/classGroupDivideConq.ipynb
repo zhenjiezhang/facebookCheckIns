{
 "cells": [
  {
   "cell_type": "code",
   "execution_count": 1,
   "metadata": {
    "collapsed": false
   },
   "outputs": [],
   "source": [
    "import operator\n",
    "import sys\n",
    "import time\n",
    "import pp\n",
    "from multiprocessing import Array, Manager\n",
    "\n",
    "from math import exp\n",
    "\n",
    "import pandas as pd\n",
    "from matplotlib import pyplot as plt\n",
    "from matplotlib import cm as cm\n",
    "import numpy as np\n",
    "from sklearn.naive_bayes import GaussianNB\n",
    "from sklearn.ensemble import RandomForestClassifier, GradientBoostingClassifier\n",
    "from sklearn.neighbors import KNeighborsClassifier\n",
    "from sklearn.covariance import EllipticEnvelope\n",
    "import xgboost as xgb\n",
    "from xgboost.sklearn import XGBClassifier\n",
    "\n",
    "from IPython.core.interactiveshell import InteractiveShell\n",
    "InteractiveShell.ast_node_interactivity = \"all\"\n",
    "\n",
    "%matplotlib inline\n"
   ]
  },
  {
   "cell_type": "code",
   "execution_count": 2,
   "metadata": {
    "collapsed": false
   },
   "outputs": [
    {
     "data": {
      "text/html": [
       "<div>\n",
       "<table border=\"1\" class=\"dataframe\">\n",
       "  <thead>\n",
       "    <tr style=\"text-align: right;\">\n",
       "      <th></th>\n",
       "      <th>row_id</th>\n",
       "      <th>x</th>\n",
       "      <th>y</th>\n",
       "      <th>accuracy</th>\n",
       "      <th>time</th>\n",
       "      <th>place_id</th>\n",
       "    </tr>\n",
       "  </thead>\n",
       "  <tbody>\n",
       "    <tr>\n",
       "      <th>count</th>\n",
       "      <td>2.911802e+07</td>\n",
       "      <td>2.911802e+07</td>\n",
       "      <td>2.911802e+07</td>\n",
       "      <td>2.911802e+07</td>\n",
       "      <td>2.911802e+07</td>\n",
       "      <td>2.911802e+07</td>\n",
       "    </tr>\n",
       "    <tr>\n",
       "      <th>mean</th>\n",
       "      <td>1.455901e+07</td>\n",
       "      <td>4.999770e+00</td>\n",
       "      <td>5.001814e+00</td>\n",
       "      <td>8.284912e+01</td>\n",
       "      <td>4.170104e+05</td>\n",
       "      <td>5.493787e+09</td>\n",
       "    </tr>\n",
       "    <tr>\n",
       "      <th>std</th>\n",
       "      <td>8.405649e+06</td>\n",
       "      <td>2.857601e+00</td>\n",
       "      <td>2.887505e+00</td>\n",
       "      <td>1.147518e+02</td>\n",
       "      <td>2.311761e+05</td>\n",
       "      <td>2.611088e+09</td>\n",
       "    </tr>\n",
       "    <tr>\n",
       "      <th>min</th>\n",
       "      <td>0.000000e+00</td>\n",
       "      <td>0.000000e+00</td>\n",
       "      <td>0.000000e+00</td>\n",
       "      <td>1.000000e+00</td>\n",
       "      <td>1.000000e+00</td>\n",
       "      <td>1.000016e+09</td>\n",
       "    </tr>\n",
       "    <tr>\n",
       "      <th>25%</th>\n",
       "      <td>7.279505e+06</td>\n",
       "      <td>2.534700e+00</td>\n",
       "      <td>2.496700e+00</td>\n",
       "      <td>2.700000e+01</td>\n",
       "      <td>2.030570e+05</td>\n",
       "      <td>3.222911e+09</td>\n",
       "    </tr>\n",
       "    <tr>\n",
       "      <th>50%</th>\n",
       "      <td>1.455901e+07</td>\n",
       "      <td>5.009100e+00</td>\n",
       "      <td>4.988300e+00</td>\n",
       "      <td>6.200000e+01</td>\n",
       "      <td>4.339220e+05</td>\n",
       "      <td>5.518573e+09</td>\n",
       "    </tr>\n",
       "    <tr>\n",
       "      <th>75%</th>\n",
       "      <td>2.183852e+07</td>\n",
       "      <td>7.461400e+00</td>\n",
       "      <td>7.510300e+00</td>\n",
       "      <td>7.500000e+01</td>\n",
       "      <td>6.204910e+05</td>\n",
       "      <td>7.764307e+09</td>\n",
       "    </tr>\n",
       "    <tr>\n",
       "      <th>max</th>\n",
       "      <td>2.911802e+07</td>\n",
       "      <td>1.000000e+01</td>\n",
       "      <td>1.000000e+01</td>\n",
       "      <td>1.033000e+03</td>\n",
       "      <td>7.862390e+05</td>\n",
       "      <td>9.999932e+09</td>\n",
       "    </tr>\n",
       "  </tbody>\n",
       "</table>\n",
       "</div>"
      ],
      "text/plain": [
       "             row_id             x             y      accuracy          time  \\\n",
       "count  2.911802e+07  2.911802e+07  2.911802e+07  2.911802e+07  2.911802e+07   \n",
       "mean   1.455901e+07  4.999770e+00  5.001814e+00  8.284912e+01  4.170104e+05   \n",
       "std    8.405649e+06  2.857601e+00  2.887505e+00  1.147518e+02  2.311761e+05   \n",
       "min    0.000000e+00  0.000000e+00  0.000000e+00  1.000000e+00  1.000000e+00   \n",
       "25%    7.279505e+06  2.534700e+00  2.496700e+00  2.700000e+01  2.030570e+05   \n",
       "50%    1.455901e+07  5.009100e+00  4.988300e+00  6.200000e+01  4.339220e+05   \n",
       "75%    2.183852e+07  7.461400e+00  7.510300e+00  7.500000e+01  6.204910e+05   \n",
       "max    2.911802e+07  1.000000e+01  1.000000e+01  1.033000e+03  7.862390e+05   \n",
       "\n",
       "           place_id  \n",
       "count  2.911802e+07  \n",
       "mean   5.493787e+09  \n",
       "std    2.611088e+09  \n",
       "min    1.000016e+09  \n",
       "25%    3.222911e+09  \n",
       "50%    5.518573e+09  \n",
       "75%    7.764307e+09  \n",
       "max    9.999932e+09  "
      ]
     },
     "execution_count": 2,
     "metadata": {},
     "output_type": "execute_result"
    }
   ],
   "source": [
    "_train_=pd.read_csv('../input/train.csv')\n",
    "_train_.describe()"
   ]
  },
  {
   "cell_type": "code",
   "execution_count": 3,
   "metadata": {
    "collapsed": false
   },
   "outputs": [],
   "source": [
    "# testData=_train_[:100000]\n",
    "# testData=testData.set_index('place_id').to_dict(orient='split')\n",
    "# print [(p, len(testData[p])) for p in testData if len(testData[p]>1)]"
   ]
  },
  {
   "cell_type": "code",
   "execution_count": 4,
   "metadata": {
    "collapsed": false
   },
   "outputs": [
    {
     "name": "stderr",
     "output_type": "stream",
     "text": [
      "/home/zhenjie/anaconda2/lib/python2.7/site-packages/ipykernel/__main__.py:1: FutureWarning: sort(columns=....) is deprecated, use sort_values(by=.....)\n",
      "  if __name__ == '__main__':\n",
      "/home/zhenjie/anaconda2/lib/python2.7/site-packages/ipykernel/__main__.py:5: UserWarning: Boolean Series key will be reindexed to match DataFrame index.\n",
      "/home/zhenjie/anaconda2/lib/python2.7/site-packages/pandas/core/indexing.py:284: SettingWithCopyWarning: \n",
      "A value is trying to be set on a copy of a slice from a DataFrame.\n",
      "Try using .loc[row_indexer,col_indexer] = value instead\n",
      "\n",
      "See the caveats in the documentation: http://pandas.pydata.org/pandas-docs/stable/indexing.html#indexing-view-versus-copy\n",
      "  self.obj[key] = _infer_fill_value(value)\n",
      "/home/zhenjie/anaconda2/lib/python2.7/site-packages/pandas/core/indexing.py:461: SettingWithCopyWarning: \n",
      "A value is trying to be set on a copy of a slice from a DataFrame.\n",
      "Try using .loc[row_indexer,col_indexer] = value instead\n",
      "\n",
      "See the caveats in the documentation: http://pandas.pydata.org/pandas-docs/stable/indexing.html#indexing-view-versus-copy\n",
      "  self.obj[item] = s\n"
     ]
    }
   ],
   "source": [
    "_train_.sort(['time'], inplace=True)\n",
    "train=_train_[:int(len(_train_)*0.9)]\n",
    "test=_train_[int(len(_train_)*0.9):]\n",
    "\n",
    "train=train[_train_['accuracy']>2]\n",
    "places=train['place_id'].unique()\n",
    "placeCounts=train['place_id'].value_counts()\n",
    "train=train[(placeCounts[train['place_id']]>10).values]\n",
    "\n",
    "\n",
    "\n",
    "train.loc[:,'day']=train.loc[:, 'time'].div(1440).map(int)\n",
    "train.loc[:,'weekday']=train.loc[:,'day']%7\n",
    "train.loc[:,'year']=train.loc[:,'day'].div(365).map(int)\n",
    "train.loc[:,'month']=(train.loc[:,'day']%365).div(30).map(int)\n",
    "train.loc[:,'hour']=train.loc[:,'time'].div(60).map(int)\n",
    "train.loc[:, 'hourInDay']=train.loc[:,'hour']%24\n",
    "\n",
    "\n",
    "test.loc[:, 'day']=test.loc[:,'time'].div(1440).map(int)\n",
    "test.loc[:, 'weekday']=test.loc[:, 'day']%7\n",
    "test.loc[:,'year']=test.loc[:,'day'].div(365).map(int)\n",
    "test.loc[:,'month']=(test.loc[:,'day']%365).div(30).map(int)\n",
    "test.loc[:, 'hour']=test.loc[:, 'time'].div(60).map(int)\n",
    "test.loc[:, 'hourInDay']=test.loc[:,'hour']%24\n",
    "\n"
   ]
  },
  {
   "cell_type": "code",
   "execution_count": 5,
   "metadata": {
    "collapsed": false
   },
   "outputs": [
    {
     "data": {
      "text/html": [
       "<div>\n",
       "<table border=\"1\" class=\"dataframe\">\n",
       "  <thead>\n",
       "    <tr style=\"text-align: right;\">\n",
       "      <th></th>\n",
       "      <th>row_id</th>\n",
       "      <th>x</th>\n",
       "      <th>y</th>\n",
       "      <th>accuracy</th>\n",
       "      <th>time</th>\n",
       "      <th>place_id</th>\n",
       "      <th>day</th>\n",
       "      <th>weekday</th>\n",
       "      <th>year</th>\n",
       "      <th>month</th>\n",
       "      <th>hour</th>\n",
       "      <th>hourInDay</th>\n",
       "    </tr>\n",
       "  </thead>\n",
       "  <tbody>\n",
       "    <tr>\n",
       "      <th>15280869</th>\n",
       "      <td>15280869</td>\n",
       "      <td>2.9374</td>\n",
       "      <td>1.0010</td>\n",
       "      <td>433</td>\n",
       "      <td>1</td>\n",
       "      <td>7186804346</td>\n",
       "      <td>0</td>\n",
       "      <td>0</td>\n",
       "      <td>0</td>\n",
       "      <td>0</td>\n",
       "      <td>0</td>\n",
       "      <td>0</td>\n",
       "    </tr>\n",
       "    <tr>\n",
       "      <th>23020268</th>\n",
       "      <td>23020268</td>\n",
       "      <td>5.3673</td>\n",
       "      <td>5.6998</td>\n",
       "      <td>25</td>\n",
       "      <td>1</td>\n",
       "      <td>7449653826</td>\n",
       "      <td>0</td>\n",
       "      <td>0</td>\n",
       "      <td>0</td>\n",
       "      <td>0</td>\n",
       "      <td>0</td>\n",
       "      <td>0</td>\n",
       "    </tr>\n",
       "    <tr>\n",
       "      <th>3977976</th>\n",
       "      <td>3977976</td>\n",
       "      <td>3.1148</td>\n",
       "      <td>3.6161</td>\n",
       "      <td>8</td>\n",
       "      <td>1</td>\n",
       "      <td>8090429732</td>\n",
       "      <td>0</td>\n",
       "      <td>0</td>\n",
       "      <td>0</td>\n",
       "      <td>0</td>\n",
       "      <td>0</td>\n",
       "      <td>0</td>\n",
       "    </tr>\n",
       "    <tr>\n",
       "      <th>27743788</th>\n",
       "      <td>27743788</td>\n",
       "      <td>3.7725</td>\n",
       "      <td>6.4504</td>\n",
       "      <td>65</td>\n",
       "      <td>2</td>\n",
       "      <td>4115006237</td>\n",
       "      <td>0</td>\n",
       "      <td>0</td>\n",
       "      <td>0</td>\n",
       "      <td>0</td>\n",
       "      <td>0</td>\n",
       "      <td>0</td>\n",
       "    </tr>\n",
       "    <tr>\n",
       "      <th>3836334</th>\n",
       "      <td>3836334</td>\n",
       "      <td>3.5102</td>\n",
       "      <td>3.6296</td>\n",
       "      <td>8</td>\n",
       "      <td>3</td>\n",
       "      <td>8090429732</td>\n",
       "      <td>0</td>\n",
       "      <td>0</td>\n",
       "      <td>0</td>\n",
       "      <td>0</td>\n",
       "      <td>0</td>\n",
       "      <td>0</td>\n",
       "    </tr>\n",
       "  </tbody>\n",
       "</table>\n",
       "</div>"
      ],
      "text/plain": [
       "            row_id       x       y  accuracy  time    place_id  day  weekday  \\\n",
       "15280869  15280869  2.9374  1.0010       433     1  7186804346    0        0   \n",
       "23020268  23020268  5.3673  5.6998        25     1  7449653826    0        0   \n",
       "3977976    3977976  3.1148  3.6161         8     1  8090429732    0        0   \n",
       "27743788  27743788  3.7725  6.4504        65     2  4115006237    0        0   \n",
       "3836334    3836334  3.5102  3.6296         8     3  8090429732    0        0   \n",
       "\n",
       "          year  month  hour  hourInDay  \n",
       "15280869     0      0     0          0  \n",
       "23020268     0      0     0          0  \n",
       "3977976      0      0     0          0  \n",
       "27743788     0      0     0          0  \n",
       "3836334      0      0     0          0  "
      ]
     },
     "execution_count": 5,
     "metadata": {},
     "output_type": "execute_result"
    }
   ],
   "source": [
    "train.head(5)"
   ]
  },
  {
   "cell_type": "code",
   "execution_count": 6,
   "metadata": {
    "collapsed": false
   },
   "outputs": [
    {
     "data": {
      "text/html": [
       "<div>\n",
       "<table border=\"1\" class=\"dataframe\">\n",
       "  <thead>\n",
       "    <tr style=\"text-align: right;\">\n",
       "      <th></th>\n",
       "      <th>count</th>\n",
       "      <th>yMin</th>\n",
       "      <th>yMax</th>\n",
       "      <th>yMean</th>\n",
       "      <th>yStd</th>\n",
       "      <th>xMin</th>\n",
       "      <th>xMax</th>\n",
       "      <th>xMean</th>\n",
       "      <th>xStd</th>\n",
       "      <th>dayMin</th>\n",
       "      <th>dayMax</th>\n",
       "      <th>dayMean</th>\n",
       "      <th>dayStd</th>\n",
       "      <th>weekdayMean</th>\n",
       "      <th>weekdayStd</th>\n",
       "      <th>monthMean</th>\n",
       "      <th>monthStd</th>\n",
       "    </tr>\n",
       "    <tr>\n",
       "      <th>place_id</th>\n",
       "      <th></th>\n",
       "      <th></th>\n",
       "      <th></th>\n",
       "      <th></th>\n",
       "      <th></th>\n",
       "      <th></th>\n",
       "      <th></th>\n",
       "      <th></th>\n",
       "      <th></th>\n",
       "      <th></th>\n",
       "      <th></th>\n",
       "      <th></th>\n",
       "      <th></th>\n",
       "      <th></th>\n",
       "      <th></th>\n",
       "      <th></th>\n",
       "      <th></th>\n",
       "    </tr>\n",
       "  </thead>\n",
       "  <tbody>\n",
       "    <tr>\n",
       "      <th>2477740908</th>\n",
       "      <td>46</td>\n",
       "      <td>9.9798</td>\n",
       "      <td>9.9999</td>\n",
       "      <td>9.993546</td>\n",
       "      <td>0.004361</td>\n",
       "      <td>6.1437</td>\n",
       "      <td>8.2402</td>\n",
       "      <td>6.691791</td>\n",
       "      <td>0.386038</td>\n",
       "      <td>38</td>\n",
       "      <td>344</td>\n",
       "      <td>142.521739</td>\n",
       "      <td>60.870624</td>\n",
       "      <td>2.521739</td>\n",
       "      <td>2.062783</td>\n",
       "      <td>4.304348</td>\n",
       "      <td>2.031634</td>\n",
       "    </tr>\n",
       "    <tr>\n",
       "      <th>7761482869</th>\n",
       "      <td>37</td>\n",
       "      <td>9.9745</td>\n",
       "      <td>9.9998</td>\n",
       "      <td>9.990730</td>\n",
       "      <td>0.006718</td>\n",
       "      <td>3.2890</td>\n",
       "      <td>3.3576</td>\n",
       "      <td>3.327376</td>\n",
       "      <td>0.014952</td>\n",
       "      <td>0</td>\n",
       "      <td>495</td>\n",
       "      <td>222.324324</td>\n",
       "      <td>154.704926</td>\n",
       "      <td>3.243243</td>\n",
       "      <td>2.087069</td>\n",
       "      <td>4.027027</td>\n",
       "      <td>3.201445</td>\n",
       "    </tr>\n",
       "    <tr>\n",
       "      <th>9258213522</th>\n",
       "      <td>43</td>\n",
       "      <td>9.9739</td>\n",
       "      <td>10.0000</td>\n",
       "      <td>9.989940</td>\n",
       "      <td>0.007391</td>\n",
       "      <td>7.2536</td>\n",
       "      <td>7.8883</td>\n",
       "      <td>7.343521</td>\n",
       "      <td>0.088275</td>\n",
       "      <td>197</td>\n",
       "      <td>486</td>\n",
       "      <td>397.674419</td>\n",
       "      <td>70.482933</td>\n",
       "      <td>3.069767</td>\n",
       "      <td>1.778112</td>\n",
       "      <td>3.465116</td>\n",
       "      <td>3.686196</td>\n",
       "    </tr>\n",
       "    <tr>\n",
       "      <th>9548289088</th>\n",
       "      <td>47</td>\n",
       "      <td>9.9733</td>\n",
       "      <td>9.9998</td>\n",
       "      <td>9.989281</td>\n",
       "      <td>0.007792</td>\n",
       "      <td>2.9601</td>\n",
       "      <td>9.2086</td>\n",
       "      <td>3.960717</td>\n",
       "      <td>1.197568</td>\n",
       "      <td>237</td>\n",
       "      <td>500</td>\n",
       "      <td>446.085106</td>\n",
       "      <td>76.959004</td>\n",
       "      <td>2.851064</td>\n",
       "      <td>2.293457</td>\n",
       "      <td>3.851064</td>\n",
       "      <td>2.321719</td>\n",
       "    </tr>\n",
       "    <tr>\n",
       "      <th>5981474631</th>\n",
       "      <td>125</td>\n",
       "      <td>9.9732</td>\n",
       "      <td>9.9999</td>\n",
       "      <td>9.990237</td>\n",
       "      <td>0.006934</td>\n",
       "      <td>2.2136</td>\n",
       "      <td>5.2542</td>\n",
       "      <td>3.160953</td>\n",
       "      <td>0.304759</td>\n",
       "      <td>102</td>\n",
       "      <td>501</td>\n",
       "      <td>239.624000</td>\n",
       "      <td>128.814800</td>\n",
       "      <td>4.256000</td>\n",
       "      <td>2.047437</td>\n",
       "      <td>5.176000</td>\n",
       "      <td>1.601733</td>\n",
       "    </tr>\n",
       "  </tbody>\n",
       "</table>\n",
       "</div>"
      ],
      "text/plain": [
       "            count    yMin     yMax     yMean      yStd    xMin    xMax  \\\n",
       "place_id                                                                 \n",
       "2477740908     46  9.9798   9.9999  9.993546  0.004361  6.1437  8.2402   \n",
       "7761482869     37  9.9745   9.9998  9.990730  0.006718  3.2890  3.3576   \n",
       "9258213522     43  9.9739  10.0000  9.989940  0.007391  7.2536  7.8883   \n",
       "9548289088     47  9.9733   9.9998  9.989281  0.007792  2.9601  9.2086   \n",
       "5981474631    125  9.9732   9.9999  9.990237  0.006934  2.2136  5.2542   \n",
       "\n",
       "               xMean      xStd  dayMin  dayMax     dayMean      dayStd  \\\n",
       "place_id                                                                 \n",
       "2477740908  6.691791  0.386038      38     344  142.521739   60.870624   \n",
       "7761482869  3.327376  0.014952       0     495  222.324324  154.704926   \n",
       "9258213522  7.343521  0.088275     197     486  397.674419   70.482933   \n",
       "9548289088  3.960717  1.197568     237     500  446.085106   76.959004   \n",
       "5981474631  3.160953  0.304759     102     501  239.624000  128.814800   \n",
       "\n",
       "            weekdayMean  weekdayStd  monthMean  monthStd  \n",
       "place_id                                                  \n",
       "2477740908     2.521739    2.062783   4.304348  2.031634  \n",
       "7761482869     3.243243    2.087069   4.027027  3.201445  \n",
       "9258213522     3.069767    1.778112   3.465116  3.686196  \n",
       "9548289088     2.851064    2.293457   3.851064  2.321719  \n",
       "5981474631     4.256000    2.047437   5.176000  1.601733  "
      ]
     },
     "execution_count": 6,
     "metadata": {},
     "output_type": "execute_result"
    }
   ],
   "source": [
    "g=train.groupby('place_id')\n",
    "summary=pd.DataFrame()\n",
    "summary['count']=g['y'].count()\n",
    "\n",
    "summary['yMin']=g['y'].min()\n",
    "summary['yMax']=g['y'].max()\n",
    "summary['yMean']=g['y'].mean()\n",
    "summary['yStd']=g['y'].std()\n",
    "\n",
    "summary['xMin']=g['x'].min()\n",
    "summary['xMax']=g['x'].max()\n",
    "summary['xMean']=g['x'].mean()\n",
    "summary['xStd']=g['x'].std()\n",
    "\n",
    "summary['dayMin']=g['day'].min()\n",
    "summary['dayMax']=g['day'].max()\n",
    "summary['dayMean']=g['day'].mean()\n",
    "summary['dayStd']=g['day'].std()\n",
    "\n",
    "summary['weekdayMean']=g['weekday'].mean()\n",
    "summary['weekdayStd']=g['weekday'].std()\n",
    "\n",
    "summary['monthMean']=g['month'].mean()\n",
    "summary['monthStd']=g['month'].std()\n",
    "\n",
    "summary.sort_values(by='yMin', inplace=True, ascending=False)\n",
    "summary.head(5)"
   ]
  },
  {
   "cell_type": "code",
   "execution_count": 7,
   "metadata": {
    "collapsed": false
   },
   "outputs": [
    {
     "data": {
      "text/plain": [
       "105498"
      ]
     },
     "execution_count": 7,
     "metadata": {},
     "output_type": "execute_result"
    }
   ],
   "source": [
    "len(summary)"
   ]
  },
  {
   "cell_type": "code",
   "execution_count": 8,
   "metadata": {
    "collapsed": true
   },
   "outputs": [],
   "source": [
    "fMaps=summary.to_dict()\n",
    "\n",
    "countMap=fMaps['count']\n",
    "\n",
    "yMaxMap=fMaps['yMax']\n",
    "yMinMap=fMaps['yMin']\n",
    "yMeanMap=fMaps['yMean']\n",
    "yStdMap=fMaps['yStd']\n",
    "\n",
    "xMaxMap=fMaps['xMax']\n",
    "xMinMap=fMaps['xMin']\n",
    "xMeanMap=fMaps['xMean']\n",
    "xStdMap=fMaps['xStd']\n",
    "\n",
    "dayMaxMap=fMaps['dayMax']\n",
    "dayMinMap=fMaps['dayMin']\n",
    "dayMeanMap=fMaps['dayMean']\n",
    "dayStdMap=fMaps['dayStd']\n",
    "\n",
    "weekdayMeanMap=fMaps['weekdayMean']\n",
    "weekdayStdMap=fMaps['weekdayStd']\n",
    "\n",
    "monthMeanMap=fMaps['monthMean']\n",
    "monthStdMap=fMaps['monthStd']"
   ]
  },
  {
   "cell_type": "code",
   "execution_count": 9,
   "metadata": {
    "collapsed": false
   },
   "outputs": [],
   "source": [
    "nClasses=100\n",
    "place_ids=set(summary.index[:nClasses])\n",
    "place_list=summary.index[:nClasses]\n",
    "\n",
    "subTrain=train[train['place_id'].isin(place_ids)]\n",
    "subTest=test[test['place_id'].isin(place_ids)]\n",
    "\n",
    "\n",
    "f=['x','y','accuracy', 'day', 'weekday', 'hourInDay']\n"
   ]
  },
  {
   "cell_type": "code",
   "execution_count": 11,
   "metadata": {
    "collapsed": false
   },
   "outputs": [
    {
     "data": {
      "text/plain": [
       "9.9846000000000004"
      ]
     },
     "execution_count": 11,
     "metadata": {},
     "output_type": "execute_result"
    }
   ],
   "source": [
    "summary.loc[1660219404,'yMax']\n"
   ]
  },
  {
   "cell_type": "code",
   "execution_count": 12,
   "metadata": {
    "collapsed": true
   },
   "outputs": [],
   "source": [
    "f=['x','y','accuracy', 'day', 'weekday', 'hourInDay']\n",
    "def regionalForestPred(pred, classes, regionalPoints, data):\n",
    "\n",
    "    \n",
    "    prob=[sorted(zip(p, classes))[-3:][::-1] for p in pred]\n",
    "    \n",
    "    \n",
    "    regionalPred=[]\n",
    "    for i in xrange(len(data)):\n",
    "        sampleY=data['y'].iloc[i]\n",
    "        sampleX=data['x'].iloc[i]\n",
    "        sampleDay=data['day'].iloc[i]\n",
    "\n",
    "        filteredPlaces=filter(lambda x: \\\n",
    "                              sampleY<=yMaxMap[x[1]]+yAllowance and sampleY>=yMinMap[x[1]]-yAllowance and \\\n",
    "                              sampleX<=xMaxMap[x[1]] and sampleX>=xMinMap[x[1]] and \\\n",
    "                              sampleDay<=dayMaxMap[x[1]] and sampleDay>=dayMinMap[x[1]], prob[i])\n",
    "        if filteredPlaces:\n",
    "            filteredPlaces=map(lambda x: [x[0]*regionalPoints, x[1]], filteredPlaces)\n",
    "        regionalPred.append(filteredPlaces)\n",
    "    return regionalPred"
   ]
  },
  {
   "cell_type": "code",
   "execution_count": 44,
   "metadata": {
    "collapsed": false
   },
   "outputs": [
    {
     "name": "stdout",
     "output_type": "stream",
     "text": [
      "total test data: 35650\n",
      "total regions: 2\n",
      "start regiona 1. Time: 0\n",
      "test Data in region 1: 29611.\n",
      "training on region 1.  Time elapsed: 0.166171073914\n",
      "predicting probability in region 1.  Time used in trainning: 606.689514875\n",
      "prediction done. Filtering predictoins.  Time used in prediction: 73.0591938496\n",
      "regional top 3 prediction accuracy:  0.419945290601\n",
      "regional test set in-regoin ration:  0.526898787613\n",
      "relevant accuracy:  0.797013203435\n",
      "sorting predictions into global index\n",
      "region 29611 fininshed.  Total time in regional 29611: 693.006731033\n",
      "\n",
      "start regiona 2. Time: 0\n",
      "test Data in region 2: 35618.\n",
      "training on region 2.  Time elapsed: 0.182766914368\n",
      "predicting probability in region 2.  Time used in trainning: 750.258466005\n",
      "prediction done. Filtering predictoins.  Time used in prediction: 86.8926529884\n",
      "regional top 3 prediction accuracy:  0.436745465776\n",
      "regional test set in-regoin ration:  0.561626144084\n",
      "relevant accuracy:  0.777644471106\n",
      "sorting predictions into global index\n",
      "region 35618 fininshed.  Total time in regional 35618: 852.983383179\n",
      "\n",
      "total predictions made: 65229, prediction/test fold: 1.82970546985\n",
      "total time spent: 1545.99090815\n"
     ]
    }
   ],
   "source": [
    "nClassesPerRegion=800\n",
    "regionalClfs=[]\n",
    "regionalYMax=[]\n",
    "regionalYMin=[]\n",
    "regionalPoints=[]\n",
    "yAllowance=0\n",
    "\n",
    "\n",
    "probas=[]\n",
    "\n",
    "print 'total test data: {}'.format(len(subTest))\n",
    "print 'total regions: {}'.format(nClasses/nClassesPerRegion)\n",
    "globalStartTime=time.time()\n",
    "\n",
    "nTotalPrediction=0\n",
    "\n",
    "for i in (range(nClasses/nClassesPerRegion+1 if nClasses%nClassesPerRegion else nClasses/nClassesPerRegion)):\n",
    "    print 'start regiona {}. Time: {}'.format(i+1, 0)\n",
    "    currentTime=startingTime=time.time()\n",
    "    \n",
    "#   all place_ids in this regional training set\n",
    "    regionalPlaces=place_list[i*nClassesPerRegion:(i+1)*nClassesPerRegion]\n",
    "#     regional training samples and the max and min of Y values\n",
    "    regionalTrain=subTrain[subTrain['place_id'].isin(regionalPlaces)]\n",
    "    regionalYMax.append(regionalTrain['y'].max())\n",
    "    regionalYMin.append(regionalTrain['y'].min())\n",
    "    \n",
    "#     test points that fall within the Ymin to Ymax region\n",
    "    regionalTest=subTest[(subTest['y']<=regionalYMax[-1]) & (subTest['y']>=regionalYMin[-1])]\n",
    "    nTotalPrediction+=len(regionalTest)\n",
    "    print 'test Data in region {}: {}.'.format(i+1, len(regionalTest))\n",
    "    currentTime=time.time()\n",
    "    \n",
    "# save the row number in the test set in order to index into the prediction array with the subTest index number.\n",
    "    regionalTest.loc[:,'regionalRow']=xrange(len(regionalTest))\n",
    "    \n",
    "    print 'training on region {}.  Time elapsed: {}'.format(i+1, time.time()-currentTime)\n",
    "    currentTime=time.time()\n",
    "    \n",
    "    \n",
    "    \n",
    "#     fit and get classifier\n",
    "#     regionalClf=RandomForestClassifier(n_jobs=8, n_estimators=50, max_features=None).fit(regionalTrain[f], regionalTrain['place_id'])\n",
    "    regionalClf=XGBClassifier(n_estimators=50, objective='multi:softprob').fit(regionalTrain[f], regionalTrain['place_id'])\n",
    "\n",
    "# number of training samples in this region.  Used to compare assesss the likehood comparison between differnt regional predictions\n",
    "    regionalPoints=len(regionalTrain)\n",
    "    print 'predicting probability in region {}.  Time used in trainning: {}'.format(i+1, time.time()-currentTime)\n",
    "    currentTime=time.time()\n",
    "\n",
    "# predicting class probability for test sampels\n",
    "    regionalPredict=regionalClf.predict_proba(regionalTest[f])\n",
    "    \n",
    "#     regionalPredict=zip(*regionalPredict)\n",
    "\n",
    "    \n",
    "    \n",
    "    print 'prediction done. Filtering predictoins.  Time used in prediction: {}'.format(time.time()-currentTime)\n",
    "    currentTime=time.time()\n",
    "# filter and rankthe predictions for test samples.  and computer the performance in the region.\n",
    "    regionalPredict=regionalForestPred(regionalPredict, regionalClf.classes_, regionalPoints, regionalTest)\n",
    "    regionalAccurcy=1.0*sum([regionalTest['place_id'].iloc[i] in [p[1] for p in regionalPredict[i]] for i in xrange(len(regionalTest))])/len(regionalTest)\n",
    "    regionalRelevance=1.0*sum([regionalTest['place_id'].iloc[i] in regionalPlaces for i in xrange(len(regionalTest))])/len(regionalTest)\n",
    "    print 'regional top 3 prediction accuracy: ', regionalAccurcy\n",
    "    print 'regional test set in-regoin ration: ', regionalRelevance\n",
    "    print 'relevant accuracy: ', regionalAccurcy/regionalRelevance\n",
    "    \n",
    "# save probability predictions for all samples in subTest.  When sample is not the region, set proba pred to empty.\n",
    "    print 'sorting predictions into global index'\n",
    "    regionalRowIndex=set(regionalTest.index)  \n",
    "    globalPredict=[regionalPredict[int(regionalTest.loc[int(t),'regionalRow'])] if t in regionalRowIndex else [] for t in subTest['row_id']]    \n",
    "    probas.append(globalPredict)\n",
    "    print 'region', i+1, 'fininshed.  Total time in regional {}: {}\\n'.format(i+1, time.time()-startingTime)\n",
    "    \n",
    "    \n",
    "\n",
    "print 'total predictions made: {}, prediction/test fold: {}'.format(nTotalPrediction, 1.0*nTotalPrediction/len(subTest))\n",
    "print 'total time spent: {}'.format(time.time()-globalStartTime)"
   ]
  },
  {
   "cell_type": "code",
   "execution_count": 17,
   "metadata": {
    "collapsed": false
   },
   "outputs": [
    {
     "data": {
      "text/plain": [
       "77140"
      ]
     },
     "execution_count": 17,
     "metadata": {},
     "output_type": "execute_result"
    }
   ],
   "source": [
    "len(probas[0])"
   ]
  },
  {
   "cell_type": "code",
   "execution_count": 45,
   "metadata": {
    "collapsed": false
   },
   "outputs": [
    {
     "name": "stdout",
     "output_type": "stream",
     "text": [
      "[5, 5, 4, 6, 6, 6]\n"
     ]
    }
   ],
   "source": [
    "# produce a list of (probability, place), each ranking top 3 of it's belonging region\n",
    "\n",
    "\n",
    "probasAll=[reduce(operator.add, [probas[i][m] for i in xrange(len(probas))]) for m in xrange(len(subTest))]\n",
    "# print probas[0]\n",
    "# the same list stripped off probabilities\n",
    "probasAll=[sorted(p)[::-1] for p in probasAll]\n",
    "topPlaces=[[p[i][1] for i in xrange(len(p))] for p in probasAll]\n",
    "print [len(probasAll[i]) for i in xrange(6)]"
   ]
  },
  {
   "cell_type": "code",
   "execution_count": 46,
   "metadata": {
    "collapsed": false
   },
   "outputs": [
    {
     "data": {
      "text/plain": [
       "0.7851612903225806"
      ]
     },
     "execution_count": 46,
     "metadata": {},
     "output_type": "execute_result"
    },
    {
     "data": {
      "text/plain": [
       "0.4724544179523142"
      ]
     },
     "execution_count": 46,
     "metadata": {},
     "output_type": "execute_result"
    },
    {
     "data": {
      "text/plain": [
       "0.7212061711079943"
      ]
     },
     "execution_count": 46,
     "metadata": {},
     "output_type": "execute_result"
    },
    {
     "data": {
      "text/plain": [
       "0.6174305750350632"
      ]
     },
     "execution_count": 46,
     "metadata": {},
     "output_type": "execute_result"
    }
   ],
   "source": [
    "# use probability in different regions to predict ranking\n",
    "evaluation=[subTest['place_id'].iloc[i] in topPlaces[i] for i in xrange(len(subTest))]\n",
    "1.0*sum(evaluation)/len(evaluation)\n",
    "score=0\n",
    "# have to use in topPlaces, because some itmes in topPlaces are empty.\n",
    "1.0*sum([subTest['place_id'].iloc[i] in topPlaces[i][:1] for i in xrange(len(subTest))])/len(evaluation)\n",
    "\n",
    "1.0*sum([subTest['place_id'].iloc[i] in topPlaces[i][:3] for i in xrange(len(subTest))])/len(evaluation)\n",
    "\n",
    "score+=sum([subTest['place_id'].iloc[i] in topPlaces[i][:1] for i in xrange(len(subTest))])\n",
    "score+=0.67*sum([subTest['place_id'].iloc[i] in topPlaces[i][1:2] for i in xrange(len(subTest))])\n",
    "score+=0.33*sum([subTest['place_id'].iloc[i] in topPlaces[i][2:3] for i in xrange(len(subTest))])\n",
    "\n",
    "1.0*score/len(evaluation)\n",
    "\n",
    "# gnb=GaussianNB()\n",
    "# print \"here is the gnb\"\n",
    "# gnb.fit(subTrain[f], subTrain['place_id'])\n",
    "# prob=gnb.predict_proba(subTest[f])"
   ]
  },
  {
   "cell_type": "code",
   "execution_count": 48,
   "metadata": {
    "collapsed": false
   },
   "outputs": [],
   "source": [
    "# use naive bayes to determine the ranking\n",
    "def probability(d, mean, std, cycle=0):\n",
    "    diff=min(abs(d-mean), cycle-abs(d-mean)) if cycle else d-mean\n",
    "    return (2.713**(-diff**2/2/std**2))/(6.28**0.5)/std\n",
    "\n",
    "subTestY=subTest['y'].tolist()\n",
    "subTestX=subTest['x'].tolist()\n",
    "subTestDay=subTest['day'].tolist()\n",
    "subTestWeekday=subTest['weekday'].tolist()\n",
    "subTestMonth=subTest['month'].tolist()\n",
    "\n",
    "\n",
    "\n",
    "\n",
    "ranked=[]\n",
    "for i in xrange(len(subTest)):\n",
    "    tp=topPlaces[i]\n",
    "    dist=sorted([[summary.loc[p,'count']*dayMaxMap[p]*probability(subTestY[i], yMeanMap[p], yStdMap[p])\\\n",
    "                  *probability(subTestX[i], xMeanMap[p], xStdMap[p])\\\n",
    "                  *probability(subTestDay[i], dayMeanMap[p], dayStdMap[p])\\\n",
    "                  *probability(subTestWeekday[i], weekdayMeanMap[p], weekdayStdMap[p], cycle=7)\\\n",
    "                  *probability(subTestMonth[i], monthMeanMap[p], monthStdMap[p], cycle=30),p] for p in tp])[::-1]\n",
    "    \n",
    "    ranked.append([p[1] for p in dist])\n",
    "    "
   ]
  },
  {
   "cell_type": "code",
   "execution_count": 49,
   "metadata": {
    "collapsed": false
   },
   "outputs": [
    {
     "data": {
      "text/plain": [
       "0.7047685834502104"
      ]
     },
     "execution_count": 49,
     "metadata": {},
     "output_type": "execute_result"
    },
    {
     "data": {
      "text/plain": [
       "0.5694471248246844"
      ]
     },
     "execution_count": 49,
     "metadata": {},
     "output_type": "execute_result"
    }
   ],
   "source": [
    "\n",
    "1.0*sum([subTest['place_id'].iloc[i] in ranked[i][:3] for i in xrange(len(subTest))])/len(evaluation)\n",
    "score=0\n",
    "score+=sum([subTest['place_id'].iloc[i] in ranked[i][:1] for i in xrange(len(subTest))])\n",
    "score+=0.67*sum([subTest['place_id'].iloc[i] in ranked[i][1:2] for i in xrange(len(subTest))])\n",
    "score+=0.33*sum([subTest['place_id'].iloc[i] in ranked[i][2:3] for i in xrange(len(subTest))])\n",
    "\n",
    "1.0*score/len(evaluation)"
   ]
  },
  {
   "cell_type": "code",
   "execution_count": 31,
   "metadata": {
    "collapsed": false
   },
   "outputs": [
    {
     "ename": "NameError",
     "evalue": "name 'knnPred' is not defined",
     "output_type": "error",
     "traceback": [
      "\u001b[1;31m---------------------------------------------------------------------------\u001b[0m",
      "\u001b[1;31mNameError\u001b[0m                                 Traceback (most recent call last)",
      "\u001b[1;32m<ipython-input-31-6eea49048faa>\u001b[0m in \u001b[0;36m<module>\u001b[1;34m()\u001b[0m\n\u001b[0;32m      4\u001b[0m \u001b[1;32mfor\u001b[0m \u001b[0mi\u001b[0m \u001b[1;32min\u001b[0m \u001b[0mxrange\u001b[0m\u001b[1;33m(\u001b[0m\u001b[0mlen\u001b[0m\u001b[1;33m(\u001b[0m\u001b[0msubTest\u001b[0m\u001b[1;33m)\u001b[0m\u001b[1;33m)\u001b[0m\u001b[1;33m:\u001b[0m\u001b[1;33m\u001b[0m\u001b[0m\n\u001b[0;32m      5\u001b[0m     \u001b[0mtp\u001b[0m\u001b[1;33m=\u001b[0m\u001b[0mtopPlaces\u001b[0m\u001b[1;33m[\u001b[0m\u001b[0mi\u001b[0m\u001b[1;33m]\u001b[0m\u001b[1;33m\u001b[0m\u001b[0m\n\u001b[1;32m----> 6\u001b[1;33m     \u001b[0mprob\u001b[0m\u001b[1;33m=\u001b[0m\u001b[0msorted\u001b[0m\u001b[1;33m(\u001b[0m\u001b[1;33m[\u001b[0m\u001b[1;33m[\u001b[0m\u001b[0mnbrClasses\u001b[0m\u001b[1;33m[\u001b[0m\u001b[0mknnPred\u001b[0m\u001b[1;33m[\u001b[0m\u001b[0mi\u001b[0m\u001b[1;33m]\u001b[0m\u001b[1;33m.\u001b[0m\u001b[0mindex\u001b[0m\u001b[1;33m(\u001b[0m\u001b[0mp\u001b[0m\u001b[1;33m)\u001b[0m\u001b[1;33m]\u001b[0m\u001b[1;33m[\u001b[0m\u001b[1;36m0\u001b[0m\u001b[1;33m]\u001b[0m \u001b[1;32mif\u001b[0m \u001b[0mp\u001b[0m \u001b[1;32min\u001b[0m \u001b[0mknnPred\u001b[0m\u001b[1;33m[\u001b[0m\u001b[0mi\u001b[0m\u001b[1;33m]\u001b[0m \u001b[1;32melse\u001b[0m \u001b[1;36m0\u001b[0m\u001b[1;33m,\u001b[0m\u001b[0mp\u001b[0m\u001b[1;33m]\u001b[0m \u001b[1;32mfor\u001b[0m \u001b[0mp\u001b[0m \u001b[1;32min\u001b[0m \u001b[0mtp\u001b[0m\u001b[1;33m]\u001b[0m\u001b[1;33m)\u001b[0m\u001b[1;33m[\u001b[0m\u001b[1;33m:\u001b[0m\u001b[1;33m:\u001b[0m\u001b[1;33m-\u001b[0m\u001b[1;36m1\u001b[0m\u001b[1;33m]\u001b[0m\u001b[1;33m\u001b[0m\u001b[0m\n\u001b[0m\u001b[0;32m      7\u001b[0m     \u001b[0mkNN\u001b[0m\u001b[1;33m.\u001b[0m\u001b[0mappend\u001b[0m\u001b[1;33m(\u001b[0m\u001b[1;33m[\u001b[0m\u001b[0mp\u001b[0m\u001b[1;33m[\u001b[0m\u001b[1;36m1\u001b[0m\u001b[1;33m]\u001b[0m \u001b[1;32mfor\u001b[0m \u001b[0mp\u001b[0m \u001b[1;32min\u001b[0m \u001b[0mprob\u001b[0m\u001b[1;33m]\u001b[0m\u001b[1;33m)\u001b[0m\u001b[1;33m\u001b[0m\u001b[0m\n\u001b[0;32m      8\u001b[0m \u001b[1;32mprint\u001b[0m \u001b[0mkNN\u001b[0m\u001b[1;33m[\u001b[0m\u001b[1;33m:\u001b[0m\u001b[1;36m3\u001b[0m\u001b[1;33m]\u001b[0m\u001b[1;33m\u001b[0m\u001b[0m\n",
      "\u001b[1;31mNameError\u001b[0m: name 'knnPred' is not defined"
     ]
    }
   ],
   "source": [
    "# use knn for each point prediction\n",
    "\n",
    "kNN=[]\n",
    "for i in xrange(len(subTest)):\n",
    "    tp=topPlaces[i]\n",
    "    prob=sorted([[nbrClasses[knnPred[i].index(p)][0] if p in knnPred[i] else 0,p] for p in tp])[::-1]\n",
    "    kNN.append([p[1] for p in prob])\n",
    "print kNN[:3]\n",
    "\n",
    "1.0*sum([subTest['place_id'].iloc[i] in kNN[i] for i in xrange(len(subTest))])/len(evaluation)\n",
    "1.0*sum([subTest['place_id'].iloc[i] in kNN[i][:3] for i in xrange(len(subTest))])/len(evaluation)\n",
    "score=0\n",
    "score+=sum([subTest['place_id'].iloc[i] in kNN[i][:1] for i in xrange(len(subTest))])\n",
    "score+=0.67*sum([subTest['place_id'].iloc[i] in kNN[i][1:2] for i in xrange(len(subTest))])\n",
    "score+=0.33*sum([subTest['place_id'].iloc[i] in kNN[i][2:3] for i in xrange(len(subTest))])\n",
    "\n",
    "1.0*score/len(evaluation)"
   ]
  },
  {
   "cell_type": "code",
   "execution_count": 50,
   "metadata": {
    "collapsed": false
   },
   "outputs": [
    {
     "data": {
      "text/plain": [
       "0.5027769985974755"
      ]
     },
     "execution_count": 50,
     "metadata": {},
     "output_type": "execute_result"
    },
    {
     "data": {
      "text/plain": [
       "0.7269284712482469"
      ]
     },
     "execution_count": 50,
     "metadata": {},
     "output_type": "execute_result"
    },
    {
     "data": {
      "text/plain": [
       "0.6295447405329594"
      ]
     },
     "execution_count": 50,
     "metadata": {},
     "output_type": "execute_result"
    }
   ],
   "source": [
    "rank=[]\n",
    "for i in xrange(len(subTest)):\n",
    "    tmp=[]\n",
    "    for np in xrange(len(topPlaces[i])):\n",
    "        tmp.append([2*np+ranked[i].index(topPlaces[i][np]),topPlaces[i][np]])\n",
    "    tmp.sort()\n",
    "    rank.append([t[1] for t in tmp])\n",
    "    \n",
    "1.0*sum([subTest['place_id'].iloc[i] in rank[i][:1] for i in xrange(len(subTest))])/len(evaluation) \n",
    "\n",
    "1.0*sum([subTest['place_id'].iloc[i] in rank[i][:3] for i in xrange(len(subTest))])/len(evaluation) \n",
    "score=0\n",
    "score+=sum([subTest['place_id'].iloc[i] in rank[i][:1] for i in xrange(len(subTest))])\n",
    "score+=0.67*sum([subTest['place_id'].iloc[i] in rank[i][1:2] for i in xrange(len(subTest))])\n",
    "score+=0.33*sum([subTest['place_id'].iloc[i] in rank[i][2:3] for i in xrange(len(subTest))])\n",
    "\n",
    "1.0*score/len(evaluation)"
   ]
  },
  {
   "cell_type": "code",
   "execution_count": null,
   "metadata": {
    "collapsed": false
   },
   "outputs": [],
   "source": [
    "# rf=RandomForestClassifier(n_jobs=8)\n",
    "# rf.fit(subTrain[f], subTrain['place_id'])\n",
    "# pred=rf.predict(subTest[f])\n",
    "# subTest.loc[:,'pred']=pred\n",
    "# accuracy=1.0*(subTest.loc[:,'place_id']==subTest.loc[:,'pred']).sum()/len(subTest)\n",
    "# print accuracy"
   ]
  },
  {
   "cell_type": "code",
   "execution_count": null,
   "metadata": {
    "collapsed": false
   },
   "outputs": [],
   "source": [
    "# gbc=GradientBoostingClassifier()\n",
    "# gbc.fit(subTrain[f], subTrain['place_id'])\n",
    "# pred=gbc.predict(subTest[f])\n",
    "# subTest.loc[:,'pred']=pred\n",
    "# accuracy=1.0*(subTest['place_id']==subTest['pred']).sum()/len(subTest)\n",
    "# print accuracy"
   ]
  },
  {
   "cell_type": "code",
   "execution_count": 12,
   "metadata": {
    "collapsed": false
   },
   "outputs": [
    {
     "ename": "TypeError",
     "evalue": "__init__() got an unexpected keyword argument 'weight'",
     "output_type": "error",
     "traceback": [
      "\u001b[1;31m---------------------------------------------------------------------------\u001b[0m",
      "\u001b[1;31mTypeError\u001b[0m                                 Traceback (most recent call last)",
      "\u001b[1;32m<ipython-input-12-ee432c0d5e22>\u001b[0m in \u001b[0;36m<module>\u001b[1;34m()\u001b[0m\n\u001b[0;32m     10\u001b[0m \u001b[0ms_w\u001b[0m\u001b[1;33m=\u001b[0m\u001b[1;33m(\u001b[0m\u001b[1;36m30\u001b[0m\u001b[1;33m-\u001b[0m\u001b[0msubTrain\u001b[0m\u001b[1;33m[\u001b[0m\u001b[1;34m'day'\u001b[0m\u001b[1;33m]\u001b[0m\u001b[1;33m.\u001b[0m\u001b[0mvalues\u001b[0m\u001b[1;33m/\u001b[0m\u001b[1;36m30.0\u001b[0m\u001b[1;33m)\u001b[0m\u001b[1;33m\u001b[0m\u001b[0m\n\u001b[0;32m     11\u001b[0m \u001b[1;33m\u001b[0m\u001b[0m\n\u001b[1;32m---> 12\u001b[1;33m \u001b[0mxgbclf\u001b[0m\u001b[1;33m=\u001b[0m\u001b[0mxgb\u001b[0m\u001b[1;33m.\u001b[0m\u001b[0mXGBClassifier\u001b[0m\u001b[1;33m(\u001b[0m\u001b[0mobjective\u001b[0m\u001b[1;33m=\u001b[0m\u001b[1;34m'multi:softprob'\u001b[0m\u001b[1;33m,\u001b[0m \u001b[0mweight\u001b[0m\u001b[1;33m=\u001b[0m\u001b[0ms_w\u001b[0m\u001b[1;33m)\u001b[0m\u001b[1;33m\u001b[0m\u001b[0m\n\u001b[0m\u001b[0;32m     13\u001b[0m \u001b[0mxgbclf\u001b[0m\u001b[1;33m.\u001b[0m\u001b[0mfit\u001b[0m\u001b[1;33m(\u001b[0m\u001b[0msubTrain\u001b[0m\u001b[1;33m[\u001b[0m\u001b[0mf\u001b[0m\u001b[1;33m]\u001b[0m\u001b[1;33m,\u001b[0m \u001b[0msubTrain\u001b[0m\u001b[1;33m[\u001b[0m\u001b[1;34m'place_id'\u001b[0m\u001b[1;33m]\u001b[0m\u001b[1;33m)\u001b[0m\u001b[1;33m\u001b[0m\u001b[0m\n\u001b[0;32m     14\u001b[0m \u001b[0mpred\u001b[0m\u001b[1;33m=\u001b[0m\u001b[0mxgbclf\u001b[0m\u001b[1;33m.\u001b[0m\u001b[0mpredict\u001b[0m\u001b[1;33m(\u001b[0m\u001b[0msubTest\u001b[0m\u001b[1;33m[\u001b[0m\u001b[0mf\u001b[0m\u001b[1;33m]\u001b[0m\u001b[1;33m)\u001b[0m\u001b[1;33m\u001b[0m\u001b[0m\n",
      "\u001b[1;31mTypeError\u001b[0m: __init__() got an unexpected keyword argument 'weight'"
     ]
    }
   ],
   "source": [
    "nClasses=100\n",
    "place_ids=set(summary.index[:nClasses])\n",
    "place_list=summary.index[:nClasses]\n",
    "\n",
    "subTrain=train[train['place_id'].isin(place_ids)]\n",
    "subTest=test[test['place_id'].isin(place_ids)]\n",
    "\n",
    "\n",
    "f=['x','y','accuracy', 'day', 'weekday', 'hourInDay']\n",
    "s_w=(30-subTrain['day'].values/30.0)\n",
    "\n",
    "xgbclf=xgb.XGBClassifier(objective='multi:softprob', weight=s_w)\n",
    "xgbclf.fit(subTrain[f], subTrain['place_id'])\n",
    "pred=xgbclf.predict(subTest[f])\n",
    "subTest.loc[:,'pred']=pred\n",
    "accuracy=1.0*(subTest['place_id']==subTest['pred']).sum()/len(subTest)\n",
    "print accuracy\n",
    "\n",
    "probas=xgbclf.predict\n"
   ]
  },
  {
   "cell_type": "code",
   "execution_count": 14,
   "metadata": {
    "collapsed": false
   },
   "outputs": [
    {
     "data": {
      "text/plain": [
       "['__call__',\n",
       " '__class__',\n",
       " '__cmp__',\n",
       " '__delattr__',\n",
       " '__doc__',\n",
       " '__format__',\n",
       " '__func__',\n",
       " '__get__',\n",
       " '__getattribute__',\n",
       " '__hash__',\n",
       " '__init__',\n",
       " '__new__',\n",
       " '__reduce__',\n",
       " '__reduce_ex__',\n",
       " '__repr__',\n",
       " '__self__',\n",
       " '__setattr__',\n",
       " '__sizeof__',\n",
       " '__str__',\n",
       " '__subclasshook__',\n",
       " 'im_class',\n",
       " 'im_func',\n",
       " 'im_self']"
      ]
     },
     "execution_count": 14,
     "metadata": {},
     "output_type": "execute_result"
    }
   ],
   "source": [
    "dir(xgb.XGBClassifier.__init__)"
   ]
  },
  {
   "cell_type": "code",
   "execution_count": 15,
   "metadata": {
    "collapsed": true
   },
   "outputs": [],
   "source": [
    "probas=xgbclf.predict_proba(subTest[f])"
   ]
  },
  {
   "cell_type": "code",
   "execution_count": null,
   "metadata": {
    "collapsed": true
   },
   "outputs": [],
   "source": []
  },
  {
   "cell_type": "code",
   "execution_count": null,
   "metadata": {
    "collapsed": false
   },
   "outputs": [],
   "source": [
    "# gnb=GaussianNB()\n",
    "# gnb.fit(_train_[['x','y','time']], _train_['place_id'])"
   ]
  },
  {
   "cell_type": "code",
   "execution_count": null,
   "metadata": {
    "collapsed": true
   },
   "outputs": [],
   "source": []
  },
  {
   "cell_type": "code",
   "execution_count": null,
   "metadata": {
    "collapsed": true
   },
   "outputs": [],
   "source": []
  },
  {
   "cell_type": "code",
   "execution_count": null,
   "metadata": {
    "collapsed": true
   },
   "outputs": [],
   "source": []
  }
 ],
 "metadata": {
  "kernelspec": {
   "display_name": "Python 2",
   "language": "python",
   "name": "python2"
  },
  "language_info": {
   "codemirror_mode": {
    "name": "ipython",
    "version": 2
   },
   "file_extension": ".py",
   "mimetype": "text/x-python",
   "name": "python",
   "nbconvert_exporter": "python",
   "pygments_lexer": "ipython2",
   "version": "2.7.11"
  }
 },
 "nbformat": 4,
 "nbformat_minor": 0
}
