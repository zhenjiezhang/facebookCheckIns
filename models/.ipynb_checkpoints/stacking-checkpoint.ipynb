{
 "cells": [
  {
   "cell_type": "code",
   "execution_count": 2,
   "metadata": {
    "collapsed": true
   },
   "outputs": [],
   "source": [
    "import pandas as pd\n",
    "import numpy as np\n",
    "import os"
   ]
  },
  {
   "cell_type": "code",
   "execution_count": 3,
   "metadata": {
    "collapsed": true
   },
   "outputs": [],
   "source": [
    "def produceProbSummary(resultFolder):\n",
    "    results=[]\n",
    "    for f in os.listdir(resultFolder):\n",
    "        if f.endswith('.rst'):\n",
    "            fi=resultFolder+'/'+f\n",
    "            results.append(pd.read_csv(fi))\n",
    "    results=pd.concat(results)\n",
    "    results.drop(['accuracy','regionalFBScore'])\n",
    "    results.sort_values(by=['originalIndex'], inplace=True)\n",
    "    return results"
   ]
  },
  {
   "cell_type": "code",
   "execution_count": 4,
   "metadata": {
    "collapsed": true
   },
   "outputs": [],
   "source": [
    "def combineRecords(folders):\n",
    "    results=[produceProbSummary(folder) for folder in folders]\n",
    "    if len(list(set([len(r) for r in results])))!=1:\n",
    "        print \"unequal number of records in folders, aborting...\"\n",
    "        return\n",
    "    \n",
    "    places=['pred0', 'pred1', 'pred2']\n",
    "    confs=['conf0', 'conf1', 'conf2']\n",
    "    weights=[100, 10, 1]\n",
    "    place_confs=zip(places, confs, weights)\n",
    "    \n",
    "    ranks=[]\n",
    "    for i in xrange(len(results[0])):\n",
    "        scores=dict()\n",
    "        for r in results:\n",
    "            rRec=r.iloc[i]\n",
    "            for p, c, w in place_confs:\n",
    "                if rRec[p] in scores:\n",
    "                    scores[rRec[p]]+=rRec[c]*w\n",
    "                else:\n",
    "                    scores[rRec[p]]=rRec[c]*w\n",
    "        scores=np.sort([[p,s] for p, s in scores], order='f1', axis=0)[-3:][::-1]\n",
    "        ranks.append(' '.join([str(s[0]) for s in scores]))\n",
    "    \n",
    "    res=pd.DataFrame({row_id: xrange(len(results[0])), 'place_id': ranks})\n",
    "    return res\n",
    "    \n",
    "        \n",
    "        \n",
    "                        \n",
    "                \n",
    "            \n",
    "    "
   ]
  },
  {
   "cell_type": "code",
   "execution_count": null,
   "metadata": {
    "collapsed": true
   },
   "outputs": [],
   "source": []
  }
 ],
 "metadata": {
  "kernelspec": {
   "display_name": "Python 2",
   "language": "python",
   "name": "python2"
  },
  "language_info": {
   "codemirror_mode": {
    "name": "ipython",
    "version": 2
   },
   "file_extension": ".py",
   "mimetype": "text/x-python",
   "name": "python",
   "nbconvert_exporter": "python",
   "pygments_lexer": "ipython2",
   "version": "2.7.11"
  }
 },
 "nbformat": 4,
 "nbformat_minor": 0
}
