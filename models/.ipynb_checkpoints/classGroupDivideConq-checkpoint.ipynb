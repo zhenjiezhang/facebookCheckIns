{
 "cells": [
  {
   "cell_type": "code",
   "execution_count": 23,
   "metadata": {
    "collapsed": false
   },
   "outputs": [],
   "source": [
    "import operator\n",
    "import sys\n",
    "import pp\n",
    "\n",
    "from math import exp\n",
    "\n",
    "import pandas as pd\n",
    "from matplotlib import pyplot as plt\n",
    "from matplotlib import cm as cm\n",
    "import numpy as np\n",
    "from sklearn.naive_bayes import GaussianNB\n",
    "from sklearn.ensemble import RandomForestClassifier, GradientBoostingClassifier\n",
    "from sklearn.neighbors import KNeighborsClassifier\n",
    "from sklearn.covariance import EllipticEnvelope\n",
    "import xgboost as xgb\n",
    "\n",
    "from IPython.core.interactiveshell import InteractiveShell\n",
    "InteractiveShell.ast_node_interactivity = \"all\"\n",
    "\n",
    "%matplotlib inline\n"
   ]
  },
  {
   "cell_type": "code",
   "execution_count": 2,
   "metadata": {
    "collapsed": false
   },
   "outputs": [
    {
     "data": {
      "text/html": [
       "<div>\n",
       "<table border=\"1\" class=\"dataframe\">\n",
       "  <thead>\n",
       "    <tr style=\"text-align: right;\">\n",
       "      <th></th>\n",
       "      <th>row_id</th>\n",
       "      <th>x</th>\n",
       "      <th>y</th>\n",
       "      <th>accuracy</th>\n",
       "      <th>time</th>\n",
       "      <th>place_id</th>\n",
       "    </tr>\n",
       "  </thead>\n",
       "  <tbody>\n",
       "    <tr>\n",
       "      <th>count</th>\n",
       "      <td>2.911802e+07</td>\n",
       "      <td>2.911802e+07</td>\n",
       "      <td>2.911802e+07</td>\n",
       "      <td>2.911802e+07</td>\n",
       "      <td>2.911802e+07</td>\n",
       "      <td>2.911802e+07</td>\n",
       "    </tr>\n",
       "    <tr>\n",
       "      <th>mean</th>\n",
       "      <td>1.455901e+07</td>\n",
       "      <td>4.999770e+00</td>\n",
       "      <td>5.001814e+00</td>\n",
       "      <td>8.284912e+01</td>\n",
       "      <td>4.170104e+05</td>\n",
       "      <td>5.493787e+09</td>\n",
       "    </tr>\n",
       "    <tr>\n",
       "      <th>std</th>\n",
       "      <td>8.405649e+06</td>\n",
       "      <td>2.857601e+00</td>\n",
       "      <td>2.887505e+00</td>\n",
       "      <td>1.147518e+02</td>\n",
       "      <td>2.311761e+05</td>\n",
       "      <td>2.611088e+09</td>\n",
       "    </tr>\n",
       "    <tr>\n",
       "      <th>min</th>\n",
       "      <td>0.000000e+00</td>\n",
       "      <td>0.000000e+00</td>\n",
       "      <td>0.000000e+00</td>\n",
       "      <td>1.000000e+00</td>\n",
       "      <td>1.000000e+00</td>\n",
       "      <td>1.000016e+09</td>\n",
       "    </tr>\n",
       "    <tr>\n",
       "      <th>25%</th>\n",
       "      <td>7.279505e+06</td>\n",
       "      <td>2.534700e+00</td>\n",
       "      <td>2.496700e+00</td>\n",
       "      <td>2.700000e+01</td>\n",
       "      <td>2.030570e+05</td>\n",
       "      <td>3.222911e+09</td>\n",
       "    </tr>\n",
       "    <tr>\n",
       "      <th>50%</th>\n",
       "      <td>1.455901e+07</td>\n",
       "      <td>5.009100e+00</td>\n",
       "      <td>4.988300e+00</td>\n",
       "      <td>6.200000e+01</td>\n",
       "      <td>4.339220e+05</td>\n",
       "      <td>5.518573e+09</td>\n",
       "    </tr>\n",
       "    <tr>\n",
       "      <th>75%</th>\n",
       "      <td>2.183852e+07</td>\n",
       "      <td>7.461400e+00</td>\n",
       "      <td>7.510300e+00</td>\n",
       "      <td>7.500000e+01</td>\n",
       "      <td>6.204910e+05</td>\n",
       "      <td>7.764307e+09</td>\n",
       "    </tr>\n",
       "    <tr>\n",
       "      <th>max</th>\n",
       "      <td>2.911802e+07</td>\n",
       "      <td>1.000000e+01</td>\n",
       "      <td>1.000000e+01</td>\n",
       "      <td>1.033000e+03</td>\n",
       "      <td>7.862390e+05</td>\n",
       "      <td>9.999932e+09</td>\n",
       "    </tr>\n",
       "  </tbody>\n",
       "</table>\n",
       "</div>"
      ],
      "text/plain": [
       "             row_id             x             y      accuracy          time  \\\n",
       "count  2.911802e+07  2.911802e+07  2.911802e+07  2.911802e+07  2.911802e+07   \n",
       "mean   1.455901e+07  4.999770e+00  5.001814e+00  8.284912e+01  4.170104e+05   \n",
       "std    8.405649e+06  2.857601e+00  2.887505e+00  1.147518e+02  2.311761e+05   \n",
       "min    0.000000e+00  0.000000e+00  0.000000e+00  1.000000e+00  1.000000e+00   \n",
       "25%    7.279505e+06  2.534700e+00  2.496700e+00  2.700000e+01  2.030570e+05   \n",
       "50%    1.455901e+07  5.009100e+00  4.988300e+00  6.200000e+01  4.339220e+05   \n",
       "75%    2.183852e+07  7.461400e+00  7.510300e+00  7.500000e+01  6.204910e+05   \n",
       "max    2.911802e+07  1.000000e+01  1.000000e+01  1.033000e+03  7.862390e+05   \n",
       "\n",
       "           place_id  \n",
       "count  2.911802e+07  \n",
       "mean   5.493787e+09  \n",
       "std    2.611088e+09  \n",
       "min    1.000016e+09  \n",
       "25%    3.222911e+09  \n",
       "50%    5.518573e+09  \n",
       "75%    7.764307e+09  \n",
       "max    9.999932e+09  "
      ]
     },
     "execution_count": 2,
     "metadata": {},
     "output_type": "execute_result"
    }
   ],
   "source": [
    "_train_=pd.read_csv('../input/train.csv')\n",
    "_train_.describe()"
   ]
  },
  {
   "cell_type": "code",
   "execution_count": 3,
   "metadata": {
    "collapsed": false
   },
   "outputs": [],
   "source": [
    "# testData=_train_[:100000]\n",
    "# testData=testData.set_index('place_id').to_dict(orient='split')\n",
    "# print [(p, len(testData[p])) for p in testData if len(testData[p]>1)]"
   ]
  },
  {
   "cell_type": "code",
   "execution_count": 4,
   "metadata": {
    "collapsed": false
   },
   "outputs": [
    {
     "data": {
      "text/plain": [
       "108390"
      ]
     },
     "execution_count": 4,
     "metadata": {},
     "output_type": "execute_result"
    }
   ],
   "source": [
    "places=_train_['place_id'].unique()\n",
    "len(places)"
   ]
  },
  {
   "cell_type": "code",
   "execution_count": 5,
   "metadata": {
    "collapsed": false
   },
   "outputs": [
    {
     "name": "stderr",
     "output_type": "stream",
     "text": [
      "/home/zhenjie/anaconda2/lib/python2.7/site-packages/pandas/core/indexing.py:284: SettingWithCopyWarning: \n",
      "A value is trying to be set on a copy of a slice from a DataFrame.\n",
      "Try using .loc[row_indexer,col_indexer] = value instead\n",
      "\n",
      "See the caveats in the documentation: http://pandas.pydata.org/pandas-docs/stable/indexing.html#indexing-view-versus-copy\n",
      "  self.obj[key] = _infer_fill_value(value)\n",
      "/home/zhenjie/anaconda2/lib/python2.7/site-packages/pandas/core/indexing.py:461: SettingWithCopyWarning: \n",
      "A value is trying to be set on a copy of a slice from a DataFrame.\n",
      "Try using .loc[row_indexer,col_indexer] = value instead\n",
      "\n",
      "See the caveats in the documentation: http://pandas.pydata.org/pandas-docs/stable/indexing.html#indexing-view-versus-copy\n",
      "  self.obj[item] = s\n"
     ]
    }
   ],
   "source": [
    "train=_train_[:int(len(_train_)*0.9)]\n",
    "test=_train_[int(len(_train_)*0.9):]\n",
    "\n",
    "\n",
    "\n",
    "train.loc[:,'day']=train.loc[:, 'time'].div(1440).map(int)\n",
    "train.loc[:,'weekday']=train.loc[:,'day']%7\n",
    "train.loc[:,'year']=train.loc[:,'day'].div(365).map(int)\n",
    "train.loc[:,'month']=(train.loc[:,'day']%365).div(30).map(int)\n",
    "train.loc[:,'hour']=train.loc[:,'time'].div(60).map(int)\n",
    "train.loc[:, 'hourInDay']=train.loc[:,'hour']%24\n",
    "\n",
    "\n",
    "test.loc[:, 'day']=test.loc[:,'time'].div(1440).map(int)\n",
    "test.loc[:, 'weekday']=test.loc[:, 'day']%7\n",
    "test.loc[:,'year']=test.loc[:,'day'].div(365).map(int)\n",
    "test.loc[:,'month']=(test.loc[:,'day']%365).div(30).map(int)\n",
    "test.loc[:, 'hour']=test.loc[:, 'time'].div(60).map(int)\n",
    "test.loc[:, 'hourInDay']=test.loc[:,'hour']%24\n",
    "\n"
   ]
  },
  {
   "cell_type": "code",
   "execution_count": 6,
   "metadata": {
    "collapsed": false
   },
   "outputs": [
    {
     "data": {
      "text/html": [
       "<div>\n",
       "<table border=\"1\" class=\"dataframe\">\n",
       "  <thead>\n",
       "    <tr style=\"text-align: right;\">\n",
       "      <th></th>\n",
       "      <th>row_id</th>\n",
       "      <th>x</th>\n",
       "      <th>y</th>\n",
       "      <th>accuracy</th>\n",
       "      <th>time</th>\n",
       "      <th>place_id</th>\n",
       "      <th>day</th>\n",
       "      <th>weekday</th>\n",
       "      <th>year</th>\n",
       "      <th>month</th>\n",
       "      <th>hour</th>\n",
       "      <th>hourInDay</th>\n",
       "    </tr>\n",
       "  </thead>\n",
       "  <tbody>\n",
       "    <tr>\n",
       "      <th>0</th>\n",
       "      <td>0</td>\n",
       "      <td>0.7941</td>\n",
       "      <td>9.0809</td>\n",
       "      <td>54</td>\n",
       "      <td>470702</td>\n",
       "      <td>8523065625</td>\n",
       "      <td>326</td>\n",
       "      <td>4</td>\n",
       "      <td>0</td>\n",
       "      <td>10</td>\n",
       "      <td>7845</td>\n",
       "      <td>21</td>\n",
       "    </tr>\n",
       "    <tr>\n",
       "      <th>1</th>\n",
       "      <td>1</td>\n",
       "      <td>5.9567</td>\n",
       "      <td>4.7968</td>\n",
       "      <td>13</td>\n",
       "      <td>186555</td>\n",
       "      <td>1757726713</td>\n",
       "      <td>129</td>\n",
       "      <td>3</td>\n",
       "      <td>0</td>\n",
       "      <td>4</td>\n",
       "      <td>3109</td>\n",
       "      <td>13</td>\n",
       "    </tr>\n",
       "    <tr>\n",
       "      <th>2</th>\n",
       "      <td>2</td>\n",
       "      <td>8.3078</td>\n",
       "      <td>7.0407</td>\n",
       "      <td>74</td>\n",
       "      <td>322648</td>\n",
       "      <td>1137537235</td>\n",
       "      <td>224</td>\n",
       "      <td>0</td>\n",
       "      <td>0</td>\n",
       "      <td>7</td>\n",
       "      <td>5377</td>\n",
       "      <td>1</td>\n",
       "    </tr>\n",
       "    <tr>\n",
       "      <th>3</th>\n",
       "      <td>3</td>\n",
       "      <td>7.3665</td>\n",
       "      <td>2.5165</td>\n",
       "      <td>65</td>\n",
       "      <td>704587</td>\n",
       "      <td>6567393236</td>\n",
       "      <td>489</td>\n",
       "      <td>6</td>\n",
       "      <td>1</td>\n",
       "      <td>4</td>\n",
       "      <td>11743</td>\n",
       "      <td>7</td>\n",
       "    </tr>\n",
       "    <tr>\n",
       "      <th>4</th>\n",
       "      <td>4</td>\n",
       "      <td>4.0961</td>\n",
       "      <td>1.1307</td>\n",
       "      <td>31</td>\n",
       "      <td>472130</td>\n",
       "      <td>7440663949</td>\n",
       "      <td>327</td>\n",
       "      <td>5</td>\n",
       "      <td>0</td>\n",
       "      <td>10</td>\n",
       "      <td>7868</td>\n",
       "      <td>20</td>\n",
       "    </tr>\n",
       "  </tbody>\n",
       "</table>\n",
       "</div>"
      ],
      "text/plain": [
       "   row_id       x       y  accuracy    time    place_id  day  weekday  year  \\\n",
       "0       0  0.7941  9.0809        54  470702  8523065625  326        4     0   \n",
       "1       1  5.9567  4.7968        13  186555  1757726713  129        3     0   \n",
       "2       2  8.3078  7.0407        74  322648  1137537235  224        0     0   \n",
       "3       3  7.3665  2.5165        65  704587  6567393236  489        6     1   \n",
       "4       4  4.0961  1.1307        31  472130  7440663949  327        5     0   \n",
       "\n",
       "   month   hour  hourInDay  \n",
       "0     10   7845         21  \n",
       "1      4   3109         13  \n",
       "2      7   5377          1  \n",
       "3      4  11743          7  \n",
       "4     10   7868         20  "
      ]
     },
     "execution_count": 6,
     "metadata": {},
     "output_type": "execute_result"
    }
   ],
   "source": [
    "train.head(5)"
   ]
  },
  {
   "cell_type": "code",
   "execution_count": 7,
   "metadata": {
    "collapsed": false
   },
   "outputs": [
    {
     "data": {
      "text/html": [
       "<div>\n",
       "<table border=\"1\" class=\"dataframe\">\n",
       "  <thead>\n",
       "    <tr style=\"text-align: right;\">\n",
       "      <th></th>\n",
       "      <th>count</th>\n",
       "      <th>yMin</th>\n",
       "      <th>yMax</th>\n",
       "      <th>yMean</th>\n",
       "      <th>yStd</th>\n",
       "      <th>xMin</th>\n",
       "      <th>xMax</th>\n",
       "      <th>xMean</th>\n",
       "      <th>xStd</th>\n",
       "      <th>dayMin</th>\n",
       "      <th>dayMax</th>\n",
       "      <th>dayMean</th>\n",
       "      <th>dayStd</th>\n",
       "      <th>weekdayMean</th>\n",
       "      <th>weekdayStd</th>\n",
       "      <th>monthMean</th>\n",
       "      <th>monthStd</th>\n",
       "    </tr>\n",
       "    <tr>\n",
       "      <th>place_id</th>\n",
       "      <th></th>\n",
       "      <th></th>\n",
       "      <th></th>\n",
       "      <th></th>\n",
       "      <th></th>\n",
       "      <th></th>\n",
       "      <th></th>\n",
       "      <th></th>\n",
       "      <th></th>\n",
       "      <th></th>\n",
       "      <th></th>\n",
       "      <th></th>\n",
       "      <th></th>\n",
       "      <th></th>\n",
       "      <th></th>\n",
       "      <th></th>\n",
       "      <th></th>\n",
       "    </tr>\n",
       "  </thead>\n",
       "  <tbody>\n",
       "    <tr>\n",
       "      <th>1660219404</th>\n",
       "      <td>1</td>\n",
       "      <td>9.9846</td>\n",
       "      <td>9.9846</td>\n",
       "      <td>9.984600</td>\n",
       "      <td>NaN</td>\n",
       "      <td>7.9023</td>\n",
       "      <td>7.9023</td>\n",
       "      <td>7.902300</td>\n",
       "      <td>NaN</td>\n",
       "      <td>101</td>\n",
       "      <td>101</td>\n",
       "      <td>101.000000</td>\n",
       "      <td>NaN</td>\n",
       "      <td>3.000000</td>\n",
       "      <td>NaN</td>\n",
       "      <td>3.000000</td>\n",
       "      <td>NaN</td>\n",
       "    </tr>\n",
       "    <tr>\n",
       "      <th>2477740908</th>\n",
       "      <td>42</td>\n",
       "      <td>9.9798</td>\n",
       "      <td>9.9999</td>\n",
       "      <td>9.993674</td>\n",
       "      <td>0.004453</td>\n",
       "      <td>6.1437</td>\n",
       "      <td>8.2402</td>\n",
       "      <td>6.706040</td>\n",
       "      <td>0.401444</td>\n",
       "      <td>38</td>\n",
       "      <td>344</td>\n",
       "      <td>142.285714</td>\n",
       "      <td>61.904445</td>\n",
       "      <td>2.452381</td>\n",
       "      <td>2.014610</td>\n",
       "      <td>4.285714</td>\n",
       "      <td>2.075240</td>\n",
       "    </tr>\n",
       "    <tr>\n",
       "      <th>9541264434</th>\n",
       "      <td>7</td>\n",
       "      <td>9.9761</td>\n",
       "      <td>9.9987</td>\n",
       "      <td>9.989829</td>\n",
       "      <td>0.007989</td>\n",
       "      <td>0.4995</td>\n",
       "      <td>1.9379</td>\n",
       "      <td>1.306243</td>\n",
       "      <td>0.569233</td>\n",
       "      <td>167</td>\n",
       "      <td>539</td>\n",
       "      <td>394.857143</td>\n",
       "      <td>155.560737</td>\n",
       "      <td>3.857143</td>\n",
       "      <td>2.734262</td>\n",
       "      <td>5.714286</td>\n",
       "      <td>2.497618</td>\n",
       "    </tr>\n",
       "    <tr>\n",
       "      <th>7761482869</th>\n",
       "      <td>36</td>\n",
       "      <td>9.9745</td>\n",
       "      <td>9.9998</td>\n",
       "      <td>9.990489</td>\n",
       "      <td>0.006649</td>\n",
       "      <td>3.2890</td>\n",
       "      <td>3.3576</td>\n",
       "      <td>3.327333</td>\n",
       "      <td>0.015162</td>\n",
       "      <td>0</td>\n",
       "      <td>495</td>\n",
       "      <td>227.250000</td>\n",
       "      <td>153.928810</td>\n",
       "      <td>3.250000</td>\n",
       "      <td>2.116264</td>\n",
       "      <td>4.111111</td>\n",
       "      <td>3.205155</td>\n",
       "    </tr>\n",
       "    <tr>\n",
       "      <th>8198347659</th>\n",
       "      <td>17</td>\n",
       "      <td>9.9740</td>\n",
       "      <td>9.9997</td>\n",
       "      <td>9.987865</td>\n",
       "      <td>0.006780</td>\n",
       "      <td>6.6265</td>\n",
       "      <td>8.7603</td>\n",
       "      <td>8.607647</td>\n",
       "      <td>0.510738</td>\n",
       "      <td>530</td>\n",
       "      <td>543</td>\n",
       "      <td>537.117647</td>\n",
       "      <td>3.722942</td>\n",
       "      <td>3.470588</td>\n",
       "      <td>1.874755</td>\n",
       "      <td>5.000000</td>\n",
       "      <td>0.000000</td>\n",
       "    </tr>\n",
       "  </tbody>\n",
       "</table>\n",
       "</div>"
      ],
      "text/plain": [
       "            count    yMin    yMax     yMean      yStd    xMin    xMax  \\\n",
       "place_id                                                                \n",
       "1660219404      1  9.9846  9.9846  9.984600       NaN  7.9023  7.9023   \n",
       "2477740908     42  9.9798  9.9999  9.993674  0.004453  6.1437  8.2402   \n",
       "9541264434      7  9.9761  9.9987  9.989829  0.007989  0.4995  1.9379   \n",
       "7761482869     36  9.9745  9.9998  9.990489  0.006649  3.2890  3.3576   \n",
       "8198347659     17  9.9740  9.9997  9.987865  0.006780  6.6265  8.7603   \n",
       "\n",
       "               xMean      xStd  dayMin  dayMax     dayMean      dayStd  \\\n",
       "place_id                                                                 \n",
       "1660219404  7.902300       NaN     101     101  101.000000         NaN   \n",
       "2477740908  6.706040  0.401444      38     344  142.285714   61.904445   \n",
       "9541264434  1.306243  0.569233     167     539  394.857143  155.560737   \n",
       "7761482869  3.327333  0.015162       0     495  227.250000  153.928810   \n",
       "8198347659  8.607647  0.510738     530     543  537.117647    3.722942   \n",
       "\n",
       "            weekdayMean  weekdayStd  monthMean  monthStd  \n",
       "place_id                                                  \n",
       "1660219404     3.000000         NaN   3.000000       NaN  \n",
       "2477740908     2.452381    2.014610   4.285714  2.075240  \n",
       "9541264434     3.857143    2.734262   5.714286  2.497618  \n",
       "7761482869     3.250000    2.116264   4.111111  3.205155  \n",
       "8198347659     3.470588    1.874755   5.000000  0.000000  "
      ]
     },
     "execution_count": 7,
     "metadata": {},
     "output_type": "execute_result"
    }
   ],
   "source": [
    "g=train.groupby('place_id')\n",
    "summary=pd.DataFrame()\n",
    "summary['count']=g['y'].count()\n",
    "\n",
    "summary['yMin']=g['y'].min()\n",
    "summary['yMax']=g['y'].max()\n",
    "summary['yMean']=g['y'].mean()\n",
    "summary['yStd']=g['y'].std()\n",
    "\n",
    "summary['xMin']=g['x'].min()\n",
    "summary['xMax']=g['x'].max()\n",
    "summary['xMean']=g['x'].mean()\n",
    "summary['xStd']=g['x'].std()\n",
    "\n",
    "summary['dayMin']=g['day'].min()\n",
    "summary['dayMax']=g['day'].max()\n",
    "summary['dayMean']=g['day'].mean()\n",
    "summary['dayStd']=g['day'].std()\n",
    "\n",
    "summary['weekdayMean']=g['weekday'].mean()\n",
    "summary['weekdayStd']=g['weekday'].std()\n",
    "\n",
    "summary['monthMean']=g['month'].mean()\n",
    "summary['monthStd']=g['month'].std()\n",
    "\n",
    "summary.sort_values(by='yMin', inplace=True, ascending=False)\n",
    "summary.head(5)"
   ]
  },
  {
   "cell_type": "code",
   "execution_count": 8,
   "metadata": {
    "collapsed": true
   },
   "outputs": [],
   "source": [
    "fMaps=summary.to_dict()\n",
    "\n",
    "countMap=fMaps['count']\n",
    "\n",
    "yMaxMap=fMaps['yMax']\n",
    "yMinMap=fMaps['yMin']\n",
    "yMeanMap=fMaps['yMean']\n",
    "yStdMap=fMaps['yStd']\n",
    "\n",
    "xMaxMap=fMaps['xMax']\n",
    "xMinMap=fMaps['xMin']\n",
    "xMeanMap=fMaps['xMean']\n",
    "xStdMap=fMaps['xStd']\n",
    "\n",
    "dayMaxMap=fMaps['dayMax']\n",
    "dayMinMap=fMaps['dayMin']\n",
    "dayMeanMap=fMaps['dayMean']\n",
    "dayStdMap=fMaps['dayStd']\n",
    "\n",
    "weekdayMeanMap=fMaps['weekdayMean']\n",
    "weekdayStdMap=fMaps['weekdayStd']\n",
    "\n",
    "monthMeanMap=fMaps['monthMean']\n",
    "monthStdMap=fMaps['monthStd']"
   ]
  },
  {
   "cell_type": "code",
   "execution_count": 9,
   "metadata": {
    "collapsed": false
   },
   "outputs": [],
   "source": [
    "nClasses=2000\n",
    "place_ids=set(summary.index[:nClasses])\n",
    "place_list=summary.index[:nClasses]\n",
    "\n",
    "subTrain=train[train['place_id'].isin(place_ids)]\n",
    "subTest=test[test['place_id'].isin(place_ids)]\n",
    "\n",
    "\n"
   ]
  },
  {
   "cell_type": "code",
   "execution_count": 10,
   "metadata": {
    "collapsed": false
   },
   "outputs": [
    {
     "data": {
      "text/plain": [
       "9.9846000000000004"
      ]
     },
     "execution_count": 10,
     "metadata": {},
     "output_type": "execute_result"
    }
   ],
   "source": [
    "summary.loc[1660219404,'yMax']\n"
   ]
  },
  {
   "cell_type": "code",
   "execution_count": 11,
   "metadata": {
    "collapsed": false
   },
   "outputs": [],
   "source": [
    "\n",
    "\n",
    "f=['x','y', 'weekday', 'day', 'hourInDay']\n",
    "\n",
    "\n",
    "# gnb=GaussianNB()\n",
    "# print \"here is the gnb\"\n",
    "# gnb.fit(subTrain[f], subTrain['place_id'])\n",
    "# prob=gnb.predict_proba(subTest[f])\n",
    "\n",
    "# tags=gnb.classes_\n",
    "\n",
    "\n",
    "# pred=np.array([sorted(zip(i,tags))[::-1] for i in prob])\n",
    "\n",
    "# pred3=pred[:,:3][:,:,1]\n",
    "# pred=pred[:,0][:,1]\n",
    "\n",
    "\n",
    "\n",
    "# subTest.loc[:,'pred']=pred\n",
    "\n",
    "\n",
    "\n",
    "# evaluation=[subTest['place_id'].iloc[i] in pred3[i] for i in xrange(len(pred3))]\n",
    "# 1.0*sum(evaluation)/len(evaluation)\n",
    "\n",
    "\n",
    "# accuracy=1.0*(subTest['place_id']==subTest['pred']).sum()/len(subTest)\n",
    "# print accuracy\n",
    "\n"
   ]
  },
  {
   "cell_type": "code",
   "execution_count": 12,
   "metadata": {
    "collapsed": false
   },
   "outputs": [
    {
     "data": {
      "text/plain": [
       "KNeighborsClassifier(algorithm='auto', leaf_size=30, metric='minkowski',\n",
       "           metric_params=None, n_jobs=1, n_neighbors=2000, p=2,\n",
       "           weights=<function <lambda> at 0x7fcbf4f9c410>)"
      ]
     },
     "execution_count": 12,
     "metadata": {},
     "output_type": "execute_result"
    }
   ],
   "source": [
    "# subTrain.loc[:,'y']=subTrain.loc[:,'y'].mul(2)\n",
    "\n",
    "# k-nearestNeighbors\n",
    "n_neighbors=2000\n",
    "weights=lambda x: 1/x\n",
    "knnClf=KNeighborsClassifier(n_neighbors, weights)\n",
    "knnClf.fit(subTrain[f], subTrain['place_id'])\n",
    "nbrClasses=knnClf.predict_proba(subTest[f])\n",
    "nbrClasses=[sorted([(1.0*p, knnClf.classes_[i]) for i,p in enumerate(nbrs) if p>0])[::-1] for nbrs in nbrClasses]\n",
    "knnPred=[[n[1] for n in nbrs] for nbrs in nbrClasses]\n",
    "# print knnPred[:3]\n",
    "\n",
    "# subTrain.loc[:,'y']=subTrain.loc[:,'y'].mul(0.5)\n",
    "\n"
   ]
  },
  {
   "cell_type": "code",
   "execution_count": 13,
   "metadata": {
    "collapsed": false
   },
   "outputs": [
    {
     "data": {
      "text/plain": [
       "0.915383633889078"
      ]
     },
     "execution_count": 13,
     "metadata": {},
     "output_type": "execute_result"
    },
    {
     "data": {
      "text/plain": [
       "0.24508761483497787"
      ]
     },
     "execution_count": 13,
     "metadata": {},
     "output_type": "execute_result"
    },
    {
     "data": {
      "text/plain": [
       "0.2951471588975842"
      ]
     },
     "execution_count": 13,
     "metadata": {},
     "output_type": "execute_result"
    },
    {
     "data": {
      "text/plain": [
       "0.2727564647839401"
      ]
     },
     "execution_count": 13,
     "metadata": {},
     "output_type": "execute_result"
    }
   ],
   "source": [
    "evaluation=[subTest['place_id'].iloc[i] in knnPred[i] for i in xrange(len(subTest))]\n",
    "1.0*sum(evaluation)/len(evaluation)\n",
    "score=0\n",
    "# have to use in topPlaces, because some itmes in topPlaces are empty.\n",
    "1.0*sum([subTest['place_id'].iloc[i] in knnPred[i][:1] for i in xrange(len(subTest))])/len(evaluation)\n",
    "\n",
    "1.0*sum([subTest['place_id'].iloc[i] in knnPred[i][:3] for i in xrange(len(subTest))])/len(evaluation)\n",
    "\n",
    "score+=sum([subTest['place_id'].iloc[i] in knnPred[i][:1] for i in xrange(len(subTest))])\n",
    "score+=0.67*sum([subTest['place_id'].iloc[i] in knnPred[i][1:2] for i in xrange(len(subTest))])\n",
    "score+=0.33*sum([subTest['place_id'].iloc[i] in knnPred[i][2:3] for i in xrange(len(subTest))])\n",
    "\n",
    "1.0*score/len(evaluation)"
   ]
  },
  {
   "cell_type": "code",
   "execution_count": 14,
   "metadata": {
    "collapsed": false
   },
   "outputs": [
    {
     "name": "stdout",
     "output_type": "stream",
     "text": [
      "region 1 fininshed\n",
      "region 2 fininshed\n",
      "region 3 fininshed\n",
      "region 4 fininshed\n",
      "region 5 fininshed\n",
      "region 6 fininshed\n",
      "region 7 fininshed\n",
      "region 8 fininshed\n",
      "region 9 fininshed\n",
      "region 10 fininshed\n"
     ]
    }
   ],
   "source": [
    "nClassesPerRegion=200\n",
    "regionalClfs=[]\n",
    "regionalYMax=[]\n",
    "regionalYMin=[]\n",
    "regionalPoints=[]\n",
    "yAllowance=0\n",
    "\n",
    "for i in xrange(nClasses/nClassesPerRegion+1 if nClasses%nClassesPerRegion else nClasses/nClassesPerRegion):\n",
    "    regionalPlaces=place_list[i*nClassesPerRegion:(i+1)*nClassesPerRegion]\n",
    "   \n",
    "    regionalTrain=subTrain[subTrain['place_id'].isin(regionalPlaces)]\n",
    "    regionalClfs.append(RandomForestClassifier(n_jobs=8).fit(regionalTrain[f], regionalTrain['place_id']))\n",
    "    \n",
    "    regionalYMax.append(regionalTrain['y'].max())\n",
    "    regionalYMin.append(regionalTrain['y'].min())\n",
    "    regionalPoints.append(len(regionalTrain))\n",
    "    print 'region', i+1, 'fininshed'"
   ]
  },
  {
   "cell_type": "code",
   "execution_count": 35,
   "metadata": {
    "collapsed": false
   },
   "outputs": [
    {
     "name": "stdout",
     "output_type": "stream",
     "text": [
      "predicted clf 1\n",
      "predicted clf 2\n",
      "predicted clf 3\n",
      "predicted clf 4\n",
      "predicted clf 5\n",
      "predicted clf 6\n",
      "predicted clf 7\n",
      "predicted clf 8\n",
      "predicted clf 9\n",
      "predicted clf 10\n"
     ]
    }
   ],
   "source": [
    "probas=[]\n",
    "\n",
    "\n",
    "\n",
    "jobServer=pp.Server(8, ppservers=())\n",
    "\n",
    "def regionalForestPred(clf, regionalPoints, data):\n",
    "    classes=clf.classes_\n",
    "    prob=clf.predict_proba(data[f])\n",
    "    prob=[sorted(zip(p, classes))[-3:][::-1] for p in prob]\n",
    "    \n",
    "    regionalPred=[]\n",
    "    for i in xrange(len(data)):\n",
    "        sampleY=data['y'].iloc[i]\n",
    "        sampleX=data['x'].iloc[i]\n",
    "        sampleDay=data['day'].iloc[i]\n",
    "\n",
    "        filteredPlaces=filter(lambda x: x[1] in knnPred[i] and \\\n",
    "                              sampleY<=yMaxMap[x[1]]+yAllowance and sampleY>=yMinMap[x[1]]-yAllowance and \\\n",
    "                              sampleX<=xMaxMap[x[1]] and sampleX>=xMinMap[x[1]] and \\\n",
    "                              sampleDay<=dayMaxMap[x[1]] and sampleDay>=dayMinMap[x[1]], prob[i])\n",
    "        if filteredPlaces:\n",
    "            filteredPlaces=map(lambda x: [x[0]*regionalPoints, x[1]], filteredPlaces)\n",
    "        regionalPred.append(filteredPlaces)\n",
    "    print 'done'\n",
    "    return regionalPred\n",
    "\n",
    "jobs=[jobServer.submit(regionalForestPred, (regionalClfs[i], regionalPoints[i], subTest)) for i in xrange(len(regionalClfs))]\n",
    "\n",
    "\n",
    "# for i in xrange(len(regionalClfs)):\n",
    "    \n",
    "#     classes=regionalClfs[i].classes_\n",
    "#     prob=regionalClfs[i].predict_proba(subTest[f])\n",
    "\n",
    "#     probas.append(regionalForestPred(regionalClfs[i], regionalPoints[i], subTest))\n",
    "#     print 'predicted clf', i+1\n",
    "#     probas.append([sorted(zip(p, classes))[-3:][::-1] for p in prob])\n",
    "    \n",
    "#     for j in xrange(len(subTest)):\n",
    "\n",
    "#         sampleY=subTest['y'].iloc[j]\n",
    "#         sampleX=subTest['x'].iloc[j]\n",
    "#         sampleDay=subTest['day'].iloc[j]\n",
    "\n",
    "#         filteredPlaces=filter(lambda x: x[1] in knnPred[j] and \\\n",
    "#                               sampleY<=yMaxMap[x[1]]+yAllowance and sampleY>=yMinMap[x[1]]-yAllowance and \\\n",
    "#                               sampleX<=xMaxMap[x[1]] and sampleX>=xMinMap[x[1]] and \\\n",
    "#                               sampleDay<=dayMaxMap[x[1]] and sampleDay>=dayMinMap[x[1]], probas[-1][j])\n",
    "#         if filteredPlaces:\n",
    "#             filteredPlaces=map(lambda x: [x[0]*regionalPoints[i], x[1]], filteredPlaces)\n",
    "#         probas[-1][j]=filteredPlaces\n",
    "#     print 'processed clf', i+1\n",
    "            \n"
   ]
  },
  {
   "cell_type": "code",
   "execution_count": 36,
   "metadata": {
    "collapsed": false
   },
   "outputs": [
    {
     "name": "stdout",
     "output_type": "stream",
     "text": [
      "[7, 14, 13, 15, 13, 13]\n"
     ]
    }
   ],
   "source": [
    "# produce a list of (probability, place), each ranking top 3 of it's belonging region\n",
    "probasAll=[reduce(operator.add, [probas[i][m] for i in xrange(len(probas))]) for m in xrange(len(subTest))]\n",
    "# print probas[0]\n",
    "# the same list stripped off probabilities\n",
    "probasAll=[sorted(p)[::-1] for p in probasAll]\n",
    "topPlaces=[[p[i][1] for i in xrange(len(p))] for p in probasAll]\n",
    "print [len(probasAll[i]) for i in xrange(6)]"
   ]
  },
  {
   "cell_type": "code",
   "execution_count": 37,
   "metadata": {
    "collapsed": false
   },
   "outputs": [
    {
     "data": {
      "text/plain": [
       "0.7954023477373257"
      ]
     },
     "execution_count": 37,
     "metadata": {},
     "output_type": "execute_result"
    },
    {
     "data": {
      "text/plain": [
       "0.41319326301463083"
      ]
     },
     "execution_count": 37,
     "metadata": {},
     "output_type": "execute_result"
    },
    {
     "data": {
      "text/plain": [
       "0.6181736985369173"
      ]
     },
     "execution_count": 37,
     "metadata": {},
     "output_type": "execute_result"
    },
    {
     "data": {
      "text/plain": [
       "0.5271038193263016"
      ]
     },
     "execution_count": 37,
     "metadata": {},
     "output_type": "execute_result"
    }
   ],
   "source": [
    "# use probability in different regions to predict ranking\n",
    "evaluation=[subTest['place_id'].iloc[i] in topPlaces[i] for i in xrange(len(subTest))]\n",
    "1.0*sum(evaluation)/len(evaluation)\n",
    "score=0\n",
    "# have to use in topPlaces, because some itmes in topPlaces are empty.\n",
    "1.0*sum([subTest['place_id'].iloc[i] in topPlaces[i][:1] for i in xrange(len(subTest))])/len(evaluation)\n",
    "\n",
    "1.0*sum([subTest['place_id'].iloc[i] in topPlaces[i][:3] for i in xrange(len(subTest))])/len(evaluation)\n",
    "\n",
    "score+=sum([subTest['place_id'].iloc[i] in topPlaces[i][:1] for i in xrange(len(subTest))])\n",
    "score+=0.67*sum([subTest['place_id'].iloc[i] in topPlaces[i][1:2] for i in xrange(len(subTest))])\n",
    "score+=0.33*sum([subTest['place_id'].iloc[i] in topPlaces[i][2:3] for i in xrange(len(subTest))])\n",
    "\n",
    "1.0*score/len(evaluation)\n",
    "\n",
    "# gnb=GaussianNB()\n",
    "# print \"here is the gnb\"\n",
    "# gnb.fit(subTrain[f], subTrain['place_id'])\n",
    "# prob=gnb.predict_proba(subTest[f])"
   ]
  },
  {
   "cell_type": "code",
   "execution_count": 18,
   "metadata": {
    "collapsed": false
   },
   "outputs": [],
   "source": [
    "# use naive bayes to determine the ranking\n",
    "def probability(d, mean, std, cycle=0):\n",
    "    diff=min(abs(d-mean), cycle-abs(d-mean)) if cycle else d-mean\n",
    "    return (2.713**(-diff**2/2/std**2))/(6.28**0.5)/std\n",
    "\n",
    "subTestY=subTest['y'].tolist()\n",
    "subTestX=subTest['x'].tolist()\n",
    "subTestDay=subTest['day'].tolist()\n",
    "subTestWeekday=subTest['weekday'].tolist()\n",
    "subTestMonth=subTest['month'].tolist()\n",
    "\n",
    "\n",
    "\n",
    "\n",
    "ranked=[]\n",
    "for i in xrange(len(subTest)):\n",
    "    tp=topPlaces[i]\n",
    "    dist=sorted([[summary.loc[p,'count']*dayMaxMap[p]*probability(subTestY[i], yMeanMap[p], yStdMap[p])\\\n",
    "                  *probability(subTestX[i], xMeanMap[p], xStdMap[p])\\\n",
    "                  *probability(subTestDay[i], dayMeanMap[p], dayStdMap[p])\\\n",
    "                  *probability(subTestWeekday[i], weekdayMeanMap[p], weekdayStdMap[p], cycle=7)\\\n",
    "                  *probability(subTestMonth[i], monthMeanMap[p], monthStdMap[p], cycle=30),p] for p in tp])[::-1]\n",
    "    \n",
    "    ranked.append([p[1] for p in dist])\n",
    "    "
   ]
  },
  {
   "cell_type": "code",
   "execution_count": 19,
   "metadata": {
    "collapsed": false
   },
   "outputs": [
    {
     "data": {
      "text/plain": [
       "0.5648179652943178"
      ]
     },
     "execution_count": 19,
     "metadata": {},
     "output_type": "execute_result"
    },
    {
     "data": {
      "text/plain": [
       "0.4513042276284451"
      ]
     },
     "execution_count": 19,
     "metadata": {},
     "output_type": "execute_result"
    }
   ],
   "source": [
    "\n",
    "1.0*sum([subTest['place_id'].iloc[i] in ranked[i][:3] for i in xrange(len(subTest))])/len(evaluation)\n",
    "score=0\n",
    "score+=sum([subTest['place_id'].iloc[i] in ranked[i][:1] for i in xrange(len(subTest))])\n",
    "score+=0.67*sum([subTest['place_id'].iloc[i] in ranked[i][1:2] for i in xrange(len(subTest))])\n",
    "score+=0.33*sum([subTest['place_id'].iloc[i] in ranked[i][2:3] for i in xrange(len(subTest))])\n",
    "\n",
    "1.0*score/len(evaluation)"
   ]
  },
  {
   "cell_type": "code",
   "execution_count": 45,
   "metadata": {
    "collapsed": false
   },
   "outputs": [
    {
     "name": "stdout",
     "output_type": "stream",
     "text": [
      "[[5544525156, 9909882773, 9033567575, 9215344980, 9906299581, 9861768249, 9790119750, 8723881048, 7355682129, 6267692854, 3553860280, 3070753978], [4712142007, 9754590986, 5401264894, 9301923034, 4467146862, 7045457480, 9646404771, 7946842219, 9241045310, 2477813102, 3150555945, 1441754159, 1426943234, 9679834642, 9616762163, 9060497243, 7409852209, 7401459369, 6861383706, 4923465252, 3887019166, 2536535867], [4679369021, 7228162996, 9381661252, 8853820375, 7213110903, 7818403175, 9019962397, 9094842425, 2322684633, 5396470493, 9671364661, 2532262550, 7273016206, 7314110010, 9452599527, 9414042487, 8470644131, 8301697131, 7575956804, 1261026497]]\n"
     ]
    },
    {
     "data": {
      "text/plain": [
       "0.8438669615515482"
      ]
     },
     "execution_count": 45,
     "metadata": {},
     "output_type": "execute_result"
    },
    {
     "data": {
      "text/plain": [
       "0.18265141204491323"
      ]
     },
     "execution_count": 45,
     "metadata": {},
     "output_type": "execute_result"
    },
    {
     "data": {
      "text/plain": [
       "0.12193518203470569"
      ]
     },
     "execution_count": 45,
     "metadata": {},
     "output_type": "execute_result"
    }
   ],
   "source": [
    "# use knn for each point prediction\n",
    "\n",
    "kNN=[]\n",
    "for i in xrange(len(subTest)):\n",
    "    tp=topPlaces[i]\n",
    "    prob=sorted([[nbrClasses[knnPred[i].index(p)][0] if p in knnPred[i] else 0,p] for p in tp])[::-1]\n",
    "    kNN.append([p[1] for p in prob])\n",
    "print kNN[:3]\n",
    "\n",
    "1.0*sum([subTest['place_id'].iloc[i] in kNN[i] for i in xrange(len(subTest))])/len(evaluation)\n",
    "1.0*sum([subTest['place_id'].iloc[i] in kNN[i][:3] for i in xrange(len(subTest))])/len(evaluation)\n",
    "score=0\n",
    "score+=sum([subTest['place_id'].iloc[i] in kNN[i][:1] for i in xrange(len(subTest))])\n",
    "score+=0.67*sum([subTest['place_id'].iloc[i] in kNN[i][1:2] for i in xrange(len(subTest))])\n",
    "score+=0.33*sum([subTest['place_id'].iloc[i] in kNN[i][2:3] for i in xrange(len(subTest))])\n",
    "\n",
    "1.0*score/len(evaluation)"
   ]
  },
  {
   "cell_type": "code",
   "execution_count": 20,
   "metadata": {
    "collapsed": false
   },
   "outputs": [
    {
     "data": {
      "text/plain": [
       "0.43428887376658726"
      ]
     },
     "execution_count": 20,
     "metadata": {},
     "output_type": "execute_result"
    },
    {
     "data": {
      "text/plain": [
       "0.6410768969037087"
      ]
     },
     "execution_count": 20,
     "metadata": {},
     "output_type": "execute_result"
    },
    {
     "data": {
      "text/plain": [
       "0.549316519224226"
      ]
     },
     "execution_count": 20,
     "metadata": {},
     "output_type": "execute_result"
    }
   ],
   "source": [
    "rank=[]\n",
    "for i in xrange(len(subTest)):\n",
    "    tmp=[]\n",
    "    for np in xrange(len(topPlaces[i])):\n",
    "        tmp.append([2*np+ranked[i].index(topPlaces[i][np]),topPlaces[i][np]])\n",
    "    tmp.sort()\n",
    "    rank.append([t[1] for t in tmp])\n",
    "    \n",
    "1.0*sum([subTest['place_id'].iloc[i] in rank[i][:1] for i in xrange(len(subTest))])/len(evaluation) \n",
    "\n",
    "1.0*sum([subTest['place_id'].iloc[i] in rank[i][:3] for i in xrange(len(subTest))])/len(evaluation) \n",
    "score=0\n",
    "score+=sum([subTest['place_id'].iloc[i] in rank[i][:1] for i in xrange(len(subTest))])\n",
    "score+=0.67*sum([subTest['place_id'].iloc[i] in rank[i][1:2] for i in xrange(len(subTest))])\n",
    "score+=0.33*sum([subTest['place_id'].iloc[i] in rank[i][2:3] for i in xrange(len(subTest))])\n",
    "\n",
    "1.0*score/len(evaluation)"
   ]
  },
  {
   "cell_type": "code",
   "execution_count": null,
   "metadata": {
    "collapsed": false
   },
   "outputs": [],
   "source": [
    "# rf=RandomForestClassifier(n_jobs=8)\n",
    "# rf.fit(subTrain[f], subTrain['place_id'])\n",
    "# pred=rf.predict(subTest[f])\n",
    "# subTest.loc[:,'pred']=pred\n",
    "# accuracy=1.0*(subTest.loc[:,'place_id']==subTest.loc[:,'pred']).sum()/len(subTest)\n",
    "# print accuracy"
   ]
  },
  {
   "cell_type": "code",
   "execution_count": 13,
   "metadata": {
    "collapsed": false
   },
   "outputs": [
    {
     "ename": "KeyboardInterrupt",
     "evalue": "",
     "output_type": "error",
     "traceback": [
      "\u001b[1;31m---------------------------------------------------------------------------\u001b[0m",
      "\u001b[1;31mKeyboardInterrupt\u001b[0m                         Traceback (most recent call last)",
      "\u001b[1;32m<ipython-input-13-efe67647c005>\u001b[0m in \u001b[0;36m<module>\u001b[1;34m()\u001b[0m\n\u001b[0;32m      1\u001b[0m \u001b[0mgbc\u001b[0m\u001b[1;33m=\u001b[0m\u001b[0mGradientBoostingClassifier\u001b[0m\u001b[1;33m(\u001b[0m\u001b[1;33m)\u001b[0m\u001b[1;33m\u001b[0m\u001b[0m\n\u001b[1;32m----> 2\u001b[1;33m \u001b[0mgbc\u001b[0m\u001b[1;33m.\u001b[0m\u001b[0mfit\u001b[0m\u001b[1;33m(\u001b[0m\u001b[0msubTrain\u001b[0m\u001b[1;33m[\u001b[0m\u001b[0mf\u001b[0m\u001b[1;33m]\u001b[0m\u001b[1;33m,\u001b[0m \u001b[0msubTrain\u001b[0m\u001b[1;33m[\u001b[0m\u001b[1;34m'place_id'\u001b[0m\u001b[1;33m]\u001b[0m\u001b[1;33m)\u001b[0m\u001b[1;33m\u001b[0m\u001b[0m\n\u001b[0m\u001b[0;32m      3\u001b[0m \u001b[0mpred\u001b[0m\u001b[1;33m=\u001b[0m\u001b[0mgbc\u001b[0m\u001b[1;33m.\u001b[0m\u001b[0mpredict\u001b[0m\u001b[1;33m(\u001b[0m\u001b[0msubTest\u001b[0m\u001b[1;33m[\u001b[0m\u001b[0mf\u001b[0m\u001b[1;33m]\u001b[0m\u001b[1;33m)\u001b[0m\u001b[1;33m\u001b[0m\u001b[0m\n\u001b[0;32m      4\u001b[0m \u001b[0msubTest\u001b[0m\u001b[1;33m.\u001b[0m\u001b[0mloc\u001b[0m\u001b[1;33m[\u001b[0m\u001b[1;33m:\u001b[0m\u001b[1;33m,\u001b[0m\u001b[1;34m'pred'\u001b[0m\u001b[1;33m]\u001b[0m\u001b[1;33m=\u001b[0m\u001b[0mpred\u001b[0m\u001b[1;33m\u001b[0m\u001b[0m\n\u001b[0;32m      5\u001b[0m \u001b[0maccuracy\u001b[0m\u001b[1;33m=\u001b[0m\u001b[1;36m1.0\u001b[0m\u001b[1;33m*\u001b[0m\u001b[1;33m(\u001b[0m\u001b[0msubTest\u001b[0m\u001b[1;33m[\u001b[0m\u001b[1;34m'place_id'\u001b[0m\u001b[1;33m]\u001b[0m\u001b[1;33m==\u001b[0m\u001b[0msubTest\u001b[0m\u001b[1;33m[\u001b[0m\u001b[1;34m'pred'\u001b[0m\u001b[1;33m]\u001b[0m\u001b[1;33m)\u001b[0m\u001b[1;33m.\u001b[0m\u001b[0msum\u001b[0m\u001b[1;33m(\u001b[0m\u001b[1;33m)\u001b[0m\u001b[1;33m/\u001b[0m\u001b[0mlen\u001b[0m\u001b[1;33m(\u001b[0m\u001b[0msubTest\u001b[0m\u001b[1;33m)\u001b[0m\u001b[1;33m\u001b[0m\u001b[0m\n",
      "\u001b[1;32m/home/zhenjie/anaconda2/lib/python2.7/site-packages/sklearn/ensemble/gradient_boosting.pyc\u001b[0m in \u001b[0;36mfit\u001b[1;34m(self, X, y, sample_weight, monitor)\u001b[0m\n\u001b[0;32m   1023\u001b[0m         \u001b[1;31m# fit the boosting stages\u001b[0m\u001b[1;33m\u001b[0m\u001b[1;33m\u001b[0m\u001b[0m\n\u001b[0;32m   1024\u001b[0m         n_stages = self._fit_stages(X, y, y_pred, sample_weight, random_state,\n\u001b[1;32m-> 1025\u001b[1;33m                                     begin_at_stage, monitor, X_idx_sorted)\n\u001b[0m\u001b[0;32m   1026\u001b[0m         \u001b[1;31m# change shape of arrays after fit (early-stopping or additional ests)\u001b[0m\u001b[1;33m\u001b[0m\u001b[1;33m\u001b[0m\u001b[0m\n\u001b[0;32m   1027\u001b[0m         \u001b[1;32mif\u001b[0m \u001b[0mn_stages\u001b[0m \u001b[1;33m!=\u001b[0m \u001b[0mself\u001b[0m\u001b[1;33m.\u001b[0m\u001b[0mestimators_\u001b[0m\u001b[1;33m.\u001b[0m\u001b[0mshape\u001b[0m\u001b[1;33m[\u001b[0m\u001b[1;36m0\u001b[0m\u001b[1;33m]\u001b[0m\u001b[1;33m:\u001b[0m\u001b[1;33m\u001b[0m\u001b[0m\n",
      "\u001b[1;32m/home/zhenjie/anaconda2/lib/python2.7/site-packages/sklearn/ensemble/gradient_boosting.pyc\u001b[0m in \u001b[0;36m_fit_stages\u001b[1;34m(self, X, y, y_pred, sample_weight, random_state, begin_at_stage, monitor, X_idx_sorted)\u001b[0m\n\u001b[0;32m   1078\u001b[0m             y_pred = self._fit_stage(i, X, y, y_pred, sample_weight,\n\u001b[0;32m   1079\u001b[0m                                      \u001b[0msample_mask\u001b[0m\u001b[1;33m,\u001b[0m \u001b[0mrandom_state\u001b[0m\u001b[1;33m,\u001b[0m \u001b[0mX_idx_sorted\u001b[0m\u001b[1;33m,\u001b[0m\u001b[1;33m\u001b[0m\u001b[0m\n\u001b[1;32m-> 1080\u001b[1;33m                                      X_csc, X_csr)\n\u001b[0m\u001b[0;32m   1081\u001b[0m \u001b[1;33m\u001b[0m\u001b[0m\n\u001b[0;32m   1082\u001b[0m             \u001b[1;31m# track deviance (= loss)\u001b[0m\u001b[1;33m\u001b[0m\u001b[1;33m\u001b[0m\u001b[0m\n",
      "\u001b[1;32m/home/zhenjie/anaconda2/lib/python2.7/site-packages/sklearn/ensemble/gradient_boosting.pyc\u001b[0m in \u001b[0;36m_fit_stage\u001b[1;34m(self, i, X, y, y_pred, sample_weight, sample_mask, random_state, X_idx_sorted, X_csc, X_csr)\u001b[0m\n\u001b[0;32m    758\u001b[0m \u001b[1;33m\u001b[0m\u001b[0m\n\u001b[0;32m    759\u001b[0m             residual = loss.negative_gradient(y, y_pred, k=k,\n\u001b[1;32m--> 760\u001b[1;33m                                               sample_weight=sample_weight)\n\u001b[0m\u001b[0;32m    761\u001b[0m \u001b[1;33m\u001b[0m\u001b[0m\n\u001b[0;32m    762\u001b[0m             \u001b[1;31m# induce regression tree on residuals\u001b[0m\u001b[1;33m\u001b[0m\u001b[1;33m\u001b[0m\u001b[0m\n",
      "\u001b[1;32m/home/zhenjie/anaconda2/lib/python2.7/site-packages/sklearn/ensemble/gradient_boosting.pyc\u001b[0m in \u001b[0;36mnegative_gradient\u001b[1;34m(self, y, pred, k, **kwargs)\u001b[0m\n\u001b[0;32m    561\u001b[0m         \u001b[1;34m\"\"\"Compute negative gradient for the ``k``-th class. \"\"\"\u001b[0m\u001b[1;33m\u001b[0m\u001b[0m\n\u001b[0;32m    562\u001b[0m         return y - np.nan_to_num(np.exp(pred[:, k] -\n\u001b[1;32m--> 563\u001b[1;33m                                         logsumexp(pred, axis=1)))\n\u001b[0m\u001b[0;32m    564\u001b[0m \u001b[1;33m\u001b[0m\u001b[0m\n\u001b[0;32m    565\u001b[0m     def _update_terminal_region(self, tree, terminal_regions, leaf, X, y,\n",
      "\u001b[1;32m/home/zhenjie/anaconda2/lib/python2.7/site-packages/sklearn/utils/extmath.pyc\u001b[0m in \u001b[0;36mlogsumexp\u001b[1;34m(arr, axis)\u001b[0m\n\u001b[0;32m    341\u001b[0m     \u001b[1;31m# the less errors\u001b[0m\u001b[1;33m\u001b[0m\u001b[1;33m\u001b[0m\u001b[0m\n\u001b[0;32m    342\u001b[0m     \u001b[0mvmax\u001b[0m \u001b[1;33m=\u001b[0m \u001b[0marr\u001b[0m\u001b[1;33m.\u001b[0m\u001b[0mmax\u001b[0m\u001b[1;33m(\u001b[0m\u001b[0maxis\u001b[0m\u001b[1;33m=\u001b[0m\u001b[1;36m0\u001b[0m\u001b[1;33m)\u001b[0m\u001b[1;33m\u001b[0m\u001b[0m\n\u001b[1;32m--> 343\u001b[1;33m     \u001b[0mout\u001b[0m \u001b[1;33m=\u001b[0m \u001b[0mnp\u001b[0m\u001b[1;33m.\u001b[0m\u001b[0mlog\u001b[0m\u001b[1;33m(\u001b[0m\u001b[0mnp\u001b[0m\u001b[1;33m.\u001b[0m\u001b[0msum\u001b[0m\u001b[1;33m(\u001b[0m\u001b[0mnp\u001b[0m\u001b[1;33m.\u001b[0m\u001b[0mexp\u001b[0m\u001b[1;33m(\u001b[0m\u001b[0marr\u001b[0m \u001b[1;33m-\u001b[0m \u001b[0mvmax\u001b[0m\u001b[1;33m)\u001b[0m\u001b[1;33m,\u001b[0m \u001b[0maxis\u001b[0m\u001b[1;33m=\u001b[0m\u001b[1;36m0\u001b[0m\u001b[1;33m)\u001b[0m\u001b[1;33m)\u001b[0m\u001b[1;33m\u001b[0m\u001b[0m\n\u001b[0m\u001b[0;32m    344\u001b[0m     \u001b[0mout\u001b[0m \u001b[1;33m+=\u001b[0m \u001b[0mvmax\u001b[0m\u001b[1;33m\u001b[0m\u001b[0m\n\u001b[0;32m    345\u001b[0m     \u001b[1;32mreturn\u001b[0m \u001b[0mout\u001b[0m\u001b[1;33m\u001b[0m\u001b[0m\n",
      "\u001b[1;31mKeyboardInterrupt\u001b[0m: "
     ]
    }
   ],
   "source": [
    "# gbc=GradientBoostingClassifier()\n",
    "# gbc.fit(subTrain[f], subTrain['place_id'])\n",
    "# pred=gbc.predict(subTest[f])\n",
    "# subTest.loc[:,'pred']=pred\n",
    "# accuracy=1.0*(subTest['place_id']==subTest['pred']).sum()/len(subTest)\n",
    "# print accuracy"
   ]
  },
  {
   "cell_type": "code",
   "execution_count": 16,
   "metadata": {
    "collapsed": false
   },
   "outputs": [
    {
     "data": {
      "text/plain": [
       "XGBClassifier(base_score=0.5, colsample_bylevel=1, colsample_bytree=1,\n",
       "       gamma=0, learning_rate=0.1, max_delta_step=0, max_depth=3,\n",
       "       min_child_weight=1, missing=None, n_estimators=100, nthread=-1,\n",
       "       objective='binary:logistic', reg_alpha=0, reg_lambda=1,\n",
       "       scale_pos_weight=1, seed=0, silent=True, subsample=1)"
      ]
     },
     "execution_count": 16,
     "metadata": {},
     "output_type": "execute_result"
    },
    {
     "name": "stdout",
     "output_type": "stream",
     "text": [
      "0.716690544413\n"
     ]
    }
   ],
   "source": [
    "xgbclf=xgb.XGBClassifier()\n",
    "xgbclf.fit(subTrain[f], subTrain['place_id'])\n",
    "pred=xgbclf.predict(subTest[f])\n",
    "subTest.loc[:,'pred']=pred\n",
    "accuracy=1.0*(subTest['place_id']==subTest['pred']).sum()/len(subTest)\n",
    "print accuracy\n"
   ]
  },
  {
   "cell_type": "code",
   "execution_count": null,
   "metadata": {
    "collapsed": false
   },
   "outputs": [],
   "source": [
    "# gnb=GaussianNB()\n",
    "# gnb.fit(_train_[['x','y','time']], _train_['place_id'])"
   ]
  },
  {
   "cell_type": "code",
   "execution_count": null,
   "metadata": {
    "collapsed": true
   },
   "outputs": [],
   "source": []
  },
  {
   "cell_type": "code",
   "execution_count": null,
   "metadata": {
    "collapsed": true
   },
   "outputs": [],
   "source": []
  },
  {
   "cell_type": "code",
   "execution_count": null,
   "metadata": {
    "collapsed": true
   },
   "outputs": [],
   "source": []
  }
 ],
 "metadata": {
  "kernelspec": {
   "display_name": "Python 2",
   "language": "python",
   "name": "python2"
  },
  "language_info": {
   "codemirror_mode": {
    "name": "ipython",
    "version": 2
   },
   "file_extension": ".py",
   "mimetype": "text/x-python",
   "name": "python",
   "nbconvert_exporter": "python",
   "pygments_lexer": "ipython2",
   "version": "2.7.11"
  }
 },
 "nbformat": 4,
 "nbformat_minor": 0
}
