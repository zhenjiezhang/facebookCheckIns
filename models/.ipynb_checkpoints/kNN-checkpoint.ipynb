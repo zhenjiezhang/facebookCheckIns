{
 "cells": [
  {
   "cell_type": "code",
   "execution_count": 1,
   "metadata": {
    "collapsed": true
   },
   "outputs": [],
   "source": [
    "from math import exp\n",
    "\n",
    "import pandas as pd\n",
    "import numpy as np\n",
    "from sklearn.naive_bayes import GaussianNB\n",
    "from IPython.core.interactiveshell import InteractiveShell\n",
    "InteractiveShell.ast_node_interactivity = \"all\"\n",
    "\n",
    "%matplotlib inline"
   ]
  },
  {
   "cell_type": "code",
   "execution_count": null,
   "metadata": {
    "collapsed": true
   },
   "outputs": [],
   "source": [
    "_train_=pd.read_csv('../input/train.csv')\n",
    "_train_.describe()\n",
    "places=_train_['place_id'].unique()\n",
    "\n",
    "train=_train_[:int(len(_train_)*0.9)]\n",
    "test=_train_[int(len(_train_)*0.9):]\n",
    "\n",
    "\n",
    "\n",
    "train.loc[:,'day']=train.loc[:, 'time'].div(1440).map(int)\n",
    "train.loc[:,'weekday']=train.loc[:,'day']%7\n",
    "train.loc[:,'year']=train.loc[:,'day'].div(365).map(int)\n",
    "train.loc[:,'month']=(train.loc[:,'day']%365).div(30).map(int)\n",
    "train.loc[:,'hour']=train.loc[:,'time'].div(60).map(int)\n",
    "train.loc[:, 'hourInDay']=train.loc[:,'hour']%24\n",
    "\n",
    "\n",
    "test.loc[:, 'day']=test.loc[:,'time'].div(1440).map(int)\n",
    "test.loc[:, 'weekday']=test.loc[:, 'day']%7\n",
    "test.loc[:,'year']=test.loc[:,'day'].div(365).map(int)\n",
    "test.loc[:,'month']=(test.loc[:,'day']%365).div(30).map(int)\n",
    "test.loc[:, 'hour']=test.loc[:, 'time'].div(60).map(int)\n",
    "test.loc[:, 'hourInDay']=test.loc[:,'hour']%24"
   ]
  },
  {
   "cell_type": "code",
   "execution_count": null,
   "metadata": {
    "collapsed": true
   },
   "outputs": [],
   "source": [
    "g=train.groupby('place_id')\n",
    "summary=pd.DataFrame()\n",
    "summary['count']=g['y'].count()\n",
    "\n",
    "summary['yMin']=g['y'].min()\n",
    "summary['yMax']=g['y'].max()\n",
    "summary['yMean']=g['y'].mean()\n",
    "summary['yStd']=g['y'].std()\n",
    "\n",
    "summary['xMin']=g['x'].min()\n",
    "summary['xMax']=g['x'].max()\n",
    "summary['xMean']=g['x'].mean()\n",
    "summary['xStd']=g['x'].std()\n",
    "\n",
    "summary['dayMin']=g['day'].min()\n",
    "summary['dayMax']=g['day'].max()\n",
    "summary['dayMean']=g['day'].mean()\n",
    "summary['dayStd']=g['day'].std()\n",
    "\n",
    "summary['weekdayMean']=g['weekday'].mean()\n",
    "summary['weekdayStd']=g['weekday'].std()\n",
    "\n",
    "summary['monthMean']=g['month'].mean()\n",
    "summary['monthStd']=g['month'].std()\n",
    "\n",
    "summary.sort_values(by='yMin', inplace=True, ascending=False)\n",
    "summary.head(5)"
   ]
  }
 ],
 "metadata": {
  "kernelspec": {
   "display_name": "Python 2",
   "language": "python",
   "name": "python2"
  },
  "language_info": {
   "codemirror_mode": {
    "name": "ipython",
    "version": 2
   },
   "file_extension": ".py",
   "mimetype": "text/x-python",
   "name": "python",
   "nbconvert_exporter": "python",
   "pygments_lexer": "ipython2",
   "version": "2.7.11"
  }
 },
 "nbformat": 4,
 "nbformat_minor": 0
}
