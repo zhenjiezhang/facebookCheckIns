{
 "cells": [
  {
   "cell_type": "code",
   "execution_count": 14,
   "metadata": {
    "collapsed": false
   },
   "outputs": [],
   "source": [
    "import os\n",
    "import math\n",
    "\n",
    "import time\n",
    "import pandas as pd\n",
    "from matplotlib import pyplot as plt\n",
    "from matplotlib import cm as cm\n",
    "import numpy as np\n",
    "from sklearn.naive_bayes import GaussianNB\n",
    "from sklearn.ensemble import RandomForestClassifier, GradientBoostingClassifier\n",
    "from sklearn.neighbors import KNeighborsClassifier\n",
    "from sklearn.covariance import EllipticEnvelope\n",
    "import xgboost as xgb\n",
    "from xgboost.sklearn import XGBClassifier\n",
    "\n",
    "import pickle\n",
    "\n",
    "from IPython.core.interactiveshell import InteractiveShell\n",
    "InteractiveShell.ast_node_interactivity = \"all\"\n",
    "\n",
    "%matplotlib inline"
   ]
  },
  {
   "cell_type": "code",
   "execution_count": 15,
   "metadata": {
    "collapsed": false
   },
   "outputs": [
    {
     "name": "stderr",
     "output_type": "stream",
     "text": [
      "/home/zhenjie/anaconda2/lib/python2.7/site-packages/ipykernel/__main__.py:4: FutureWarning: sort(columns=....) is deprecated, use sort_values(by=.....)\n"
     ]
    }
   ],
   "source": [
    "_train_=pd.read_csv('../input/train.csv')\n",
    "places=_train_['place_id'].unique()\n",
    "\n",
    "_train_.sort(['time'], inplace=True)\n",
    "trainRatio=0.7\n",
    "train=_train_[:int(len(_train_)*trainRatio)]\n",
    "train=train[train['accuracy']>2]\n",
    "\n",
    "placeCounts=train['place_id'].value_counts()\n",
    "\n",
    "\n",
    "\n",
    "valid=_train_[int(len(_train_)*trainRatio):]"
   ]
  },
  {
   "cell_type": "code",
   "execution_count": 16,
   "metadata": {
    "collapsed": false
   },
   "outputs": [],
   "source": [
    "train=train[(placeCounts[train['place_id']]>10).values]"
   ]
  },
  {
   "cell_type": "code",
   "execution_count": null,
   "metadata": {
    "collapsed": true
   },
   "outputs": [],
   "source": []
  },
  {
   "cell_type": "code",
   "execution_count": 17,
   "metadata": {
    "collapsed": false
   },
   "outputs": [],
   "source": [
    "def featureFactory(dataFrame):\n",
    "    dataFrame.loc[:,'day']=dataFrame.loc[:, 'time'].div(1440).map(int)\n",
    "    dataFrame.loc[:,'weekday']=dataFrame.loc[:,'day']%7\n",
    "    dataFrame.loc[:,'year']=dataFrame.loc[:,'day'].div(365).map(int)\n",
    "    dataFrame.loc[:,'month']=(dataFrame.loc[:,'day']%365).div(30).map(int)\n",
    "    dataFrame.loc[:,'hour']=dataFrame.loc[:,'time'].div(60).map(int)\n",
    "    dataFrame.loc[:, 'hourInDay']=dataFrame.loc[:,'hour']%24\n",
    "    \n",
    "    dataFrame.loc[:, 'originalIndex']=xrange(len(dataFrame))\n",
    "\n",
    "    \n",
    "featureFactory(train)\n",
    "featureFactory(valid)\n"
   ]
  },
  {
   "cell_type": "code",
   "execution_count": 18,
   "metadata": {
    "collapsed": false
   },
   "outputs": [],
   "source": [
    "test=pd.read_csv('../input/test.csv')\n",
    "featureFactory(test)"
   ]
  },
  {
   "cell_type": "code",
   "execution_count": 19,
   "metadata": {
    "collapsed": false
   },
   "outputs": [],
   "source": [
    "featureFactory(test)"
   ]
  },
  {
   "cell_type": "code",
   "execution_count": 20,
   "metadata": {
    "collapsed": false
   },
   "outputs": [
    {
     "data": {
      "text/html": [
       "<div>\n",
       "<table border=\"1\" class=\"dataframe\">\n",
       "  <thead>\n",
       "    <tr style=\"text-align: right;\">\n",
       "      <th></th>\n",
       "      <th>xMean</th>\n",
       "      <th>xStd</th>\n",
       "      <th>yMean</th>\n",
       "      <th>yStd</th>\n",
       "      <th>hourInDayMean</th>\n",
       "      <th>hourInDayStd</th>\n",
       "      <th>monthMean</th>\n",
       "      <th>monthStd</th>\n",
       "      <th>dayMean</th>\n",
       "      <th>dayStd</th>\n",
       "    </tr>\n",
       "    <tr>\n",
       "      <th>place_id</th>\n",
       "      <th></th>\n",
       "      <th></th>\n",
       "      <th></th>\n",
       "      <th></th>\n",
       "      <th></th>\n",
       "      <th></th>\n",
       "      <th></th>\n",
       "      <th></th>\n",
       "      <th></th>\n",
       "      <th></th>\n",
       "    </tr>\n",
       "  </thead>\n",
       "  <tbody>\n",
       "    <tr>\n",
       "      <th>1000015801</th>\n",
       "      <td>2.689782</td>\n",
       "      <td>0.168262</td>\n",
       "      <td>5.550973</td>\n",
       "      <td>0.014583</td>\n",
       "      <td>16.183099</td>\n",
       "      <td>5.524775</td>\n",
       "      <td>3.323944</td>\n",
       "      <td>3.003687</td>\n",
       "      <td>129.704225</td>\n",
       "      <td>103.774948</td>\n",
       "    </tr>\n",
       "    <tr>\n",
       "      <th>1000017288</th>\n",
       "      <td>7.327345</td>\n",
       "      <td>0.338355</td>\n",
       "      <td>4.346280</td>\n",
       "      <td>0.010608</td>\n",
       "      <td>12.743902</td>\n",
       "      <td>4.147916</td>\n",
       "      <td>4.841463</td>\n",
       "      <td>3.342467</td>\n",
       "      <td>185.317073</td>\n",
       "      <td>110.229713</td>\n",
       "    </tr>\n",
       "    <tr>\n",
       "      <th>1000025138</th>\n",
       "      <td>0.987664</td>\n",
       "      <td>0.043769</td>\n",
       "      <td>5.570396</td>\n",
       "      <td>0.010413</td>\n",
       "      <td>12.619952</td>\n",
       "      <td>3.580766</td>\n",
       "      <td>5.674584</td>\n",
       "      <td>3.766525</td>\n",
       "      <td>233.244656</td>\n",
       "      <td>110.803449</td>\n",
       "    </tr>\n",
       "    <tr>\n",
       "      <th>1000052096</th>\n",
       "      <td>2.846386</td>\n",
       "      <td>0.443136</td>\n",
       "      <td>5.833500</td>\n",
       "      <td>0.011343</td>\n",
       "      <td>9.780029</td>\n",
       "      <td>3.357571</td>\n",
       "      <td>4.534009</td>\n",
       "      <td>3.555349</td>\n",
       "      <td>184.413893</td>\n",
       "      <td>118.278274</td>\n",
       "    </tr>\n",
       "    <tr>\n",
       "      <th>1000063498</th>\n",
       "      <td>3.867737</td>\n",
       "      <td>1.084438</td>\n",
       "      <td>7.547868</td>\n",
       "      <td>0.022191</td>\n",
       "      <td>16.684211</td>\n",
       "      <td>2.688507</td>\n",
       "      <td>7.052632</td>\n",
       "      <td>3.487656</td>\n",
       "      <td>266.210526</td>\n",
       "      <td>93.450866</td>\n",
       "    </tr>\n",
       "  </tbody>\n",
       "</table>\n",
       "</div>"
      ],
      "text/plain": [
       "               xMean      xStd     yMean      yStd  hourInDayMean  \\\n",
       "place_id                                                            \n",
       "1000015801  2.689782  0.168262  5.550973  0.014583      16.183099   \n",
       "1000017288  7.327345  0.338355  4.346280  0.010608      12.743902   \n",
       "1000025138  0.987664  0.043769  5.570396  0.010413      12.619952   \n",
       "1000052096  2.846386  0.443136  5.833500  0.011343       9.780029   \n",
       "1000063498  3.867737  1.084438  7.547868  0.022191      16.684211   \n",
       "\n",
       "            hourInDayStd  monthMean  monthStd     dayMean      dayStd  \n",
       "place_id                                                               \n",
       "1000015801      5.524775   3.323944  3.003687  129.704225  103.774948  \n",
       "1000017288      4.147916   4.841463  3.342467  185.317073  110.229713  \n",
       "1000025138      3.580766   5.674584  3.766525  233.244656  110.803449  \n",
       "1000052096      3.357571   4.534009  3.555349  184.413893  118.278274  \n",
       "1000063498      2.688507   7.052632  3.487656  266.210526   93.450866  "
      ]
     },
     "execution_count": 20,
     "metadata": {},
     "output_type": "execute_result"
    },
    {
     "name": "stdout",
     "output_type": "stream",
     "text": [
      "116.685582161\n"
     ]
    }
   ],
   "source": [
    "g=train.groupby('place_id')\n",
    "places=pd.DataFrame()\n",
    "places['xMean']=g['x'].mean()\n",
    "places['xStd']=g['x'].std()\n",
    "\n",
    "places['yMean']=g['y'].mean()\n",
    "places['yStd']=g['y'].std()\n",
    "\n",
    "places['hourInDayMean']=g['hourInDay'].mean()\n",
    "places['hourInDayStd']=g['hourInDay'].std()\n",
    "\n",
    "places['monthMean']=g['month'].mean()\n",
    "places['monthStd']=g['month'].std()\n",
    "\n",
    "places['dayMean']=g['day'].mean()\n",
    "places['dayStd']=g['day'].std()\n",
    "\n",
    "places.head()\n",
    "\n",
    "sTime=time.time()\n",
    "\n",
    "train=train[(abs(train['y']-places.loc[train['place_id'], 'yMean'].values)<5*places.loc[train['place_id'], 'yStd'].values)\\\n",
    "         & (abs(train['x']-places.loc[train['place_id'], 'xMean'].values)<5*places.loc[train['place_id'], 'xStd'].values)\\\n",
    "           \n",
    "           ]\n",
    "\n",
    "print time.time()-sTime"
   ]
  },
  {
   "cell_type": "code",
   "execution_count": 31,
   "metadata": {
    "collapsed": false
   },
   "outputs": [
    {
     "name": "stdout",
     "output_type": "stream",
     "text": [
      "8735407\n"
     ]
    }
   ],
   "source": [
    "nXRegions=50\n",
    "nYRegions=50\n",
    "xMin=0\n",
    "xMax=10.1\n",
    "yMin=0\n",
    "yMax=10.1\n",
    "nXRegions=nXRegions*int(xMax-xMin)/10\n",
    "nYRegions=nYRegions*int(yMax-yMin)/10\n",
    "train=train[(train['x']<xMax) & (train['x']>=xMin) & (train['y']<yMax) & (train['y']>=yMin)]\n",
    "valid=valid[(valid['x']<xMax) & (valid['x']>=xMin) & (valid['y']<yMax) & (valid['y']>=yMin)]\n",
    "\n",
    "\n",
    "f=['x','y','accuracy', 'time', 'weekday', 'hourInDay', 'month', 'year']\n",
    "print len(valid)"
   ]
  },
  {
   "cell_type": "code",
   "execution_count": 22,
   "metadata": {
    "collapsed": false
   },
   "outputs": [
    {
     "data": {
      "text/plain": [
       "count    8.735407e+06\n",
       "mean     1.990981e+01\n",
       "std      1.341564e+00\n",
       "min      1.756667e+01\n",
       "25%      1.873333e+01\n",
       "50%      1.993333e+01\n",
       "75%      2.110000e+01\n",
       "max      2.216667e+01\n",
       "Name: day, dtype: float64"
      ]
     },
     "execution_count": 22,
     "metadata": {},
     "output_type": "execute_result"
    }
   ],
   "source": [
    "(valid['day'].div(30)+4).describe()"
   ]
  },
  {
   "cell_type": "code",
   "execution_count": 23,
   "metadata": {
    "collapsed": true
   },
   "outputs": [],
   "source": [
    "# def regionalForestPred(pred, classes, regionalPoints, data):\n",
    "\n",
    "    \n",
    "#     prob=[sorted(zip(p, classes))[-3:][::-1] for p in pred]\n",
    "    \n",
    "    \n",
    "#     regionalPred=[]\n",
    "#     for i in xrange(len(data)):\n",
    "#         sampleY=data['y'].iloc[i]\n",
    "#         sampleX=data['x'].iloc[i]\n",
    "#         sampleDay=data['day'].iloc[i]\n",
    "\n",
    "#         filteredPlaces=filter(lambda x: \\\n",
    "#                               sampleY<=yMaxMap[x[1]]+yAllowance and sampleY>=yMinMap[x[1]]-yAllowance and \\\n",
    "#                               sampleX<=xMaxMap[x[1]] and sampleX>=xMinMap[x[1]] and \\\n",
    "#                               sampleDay<=dayMaxMap[x[1]] and sampleDay>=dayMinMap[x[1]], prob[i])\n",
    "#         if filteredPlaces:\n",
    "#             filteredPlaces=map(lambda x: [x[0]*regionalPoints, x[1]], filteredPlaces)\n",
    "#         regionalPred.append(filteredPlaces)\n",
    "#     return regionalPred"
   ]
  },
  {
   "cell_type": "code",
   "execution_count": 52,
   "metadata": {
    "collapsed": false,
    "scrolled": true
   },
   "outputs": [],
   "source": [
    "def train_test(modelSerialization=False, resultSerialization=False, model='rf', predictSet=valid):\n",
    "    \n",
    "    \n",
    "\n",
    "    if modelSerialization or resultSerialization:\n",
    "        base='./'\n",
    "        folderName=model+'-'+time.strftime('%c')\n",
    "        folderPath=base+folderName+'/'\n",
    "        if not os.path.exists(folderPath):\n",
    "            os.makedirs(folderPath)\n",
    "            \n",
    "        \n",
    "    count=0\n",
    "    accuracies=[]\n",
    "    FBscores=[]\n",
    "    \n",
    "    startTime=time.time()\n",
    "    trainingTimes=[]\n",
    "    predictionTimes=[]\n",
    "    \n",
    "    testNum=0\n",
    "\n",
    "    roundNum=5\n",
    "    for xNum, yNum in ((xn, yn) for xn in xrange(nXRegions) for yn in xrange(nYRegions)):\n",
    "\n",
    "        xStep=round(1.0*(xMax-xMin)/nXRegions,roundNum)\n",
    "        xStart=round(xNum*xStep,roundNum)\n",
    "        xEnd=round(xStart+xStep,roundNum)\n",
    "\n",
    "        yStep=round(1.0*(yMax-yMin)/nYRegions,roundNum)\n",
    "        yStart=round(yNum*yStep,roundNum)\n",
    "        yEnd=round(yStart+yStep,roundNum)\n",
    "\n",
    "        regionalTrain=train[(train['x']<xEnd) & (train['x']>=xStart) & (train['y']<yEnd) & (train['y']>=yStart)]\n",
    "#         regionalTrain['sampleWeight']=\n",
    "\n",
    "        if len(regionalTrain):\n",
    "            regionalPredictSet=predictSet[(predictSet['x']<xEnd) & (predictSet['x']>=xStart) & (predictSet['y']<yEnd) & (predictSet['y']>=yStart)]\n",
    "            testNum+=len(regionalPredictSet)\n",
    "            \n",
    "            s_w_rf=1.2**(15-regionalTrain['day'].values/30.0)\n",
    "#             s_w_rf=62-regionalTrain['day'].values/7.0\n",
    "\n",
    "#             s_w=1**(15-regionalTrain['day'].values/30.0)\n",
    "            \n",
    "            trainingStartTime=time.time()\n",
    "#             clf=RandomForestClassifier(n_jobs=-1, n_estimators=300, max_features=None).fit(regionalTrain[f], regionalTrain['place_id'])   \n",
    "#             clf=RandomForestClassifier(n_jobs=-1, n_estimators=1000, random_state=0).fit(regionalTrain[f], regionalTrain['place_id'], sample_weight=s_w_rf)  \n",
    "            clf=RandomForestClassifier(n_jobs=-1, n_estimators=300, random_state=0).fit(regionalTrain[f], regionalTrain['place_id'], sample_weight=s_w_rf)  \n",
    "\n",
    "#             clf=XGBClassifier(learning_rate=0.02, n_estimators=250, objective='multi:softprob', max_depth=3, seed=0).fit(regionalTrain[f], regionalTrain['place_id'], sample_weight=s_w)\n",
    "\n",
    "            trainingTimes.append(time.time()-trainingStartTime)\n",
    "            \n",
    "            \n",
    "            if modelSerialization:\n",
    "                modelFileName='{:04d}-{}-{}-{}-{}.clf'.format(count, xStart, xEnd, yStart, yEnd)\n",
    "                modelFilePath=folderPath+modelFileName\n",
    "                with open(modelFilePath, 'ab+') as fo:\n",
    "                    pickle.dump(clf, fo, pickle.HIGHEST_PROTOCOL)\n",
    "            \n",
    "            \n",
    "            predictionStartTime=time.time()\n",
    "            prob=clf.predict_proba(regionalPredictSet[f])\n",
    "            predictionTimes.append(time.time()-predictionStartTime)\n",
    "            \n",
    "            pred=[sorted(zip(p, clf.classes_))[-3:][::-1] for p in prob]\n",
    "            prediction=[zip(*p)[1] for p in pred]\n",
    "            confidence=[zip(*p)[0] for p in pred]\n",
    "            \n",
    "            \n",
    "                \n",
    "            fbscoreForSerialization=-1\n",
    "            if 'place_id' in predictSet.columns:\n",
    "                regionalAccuracy=1.0*sum([regionalPredictSet['place_id'].iloc[i] in prediction[i] for i in xrange(len(regionalPredictSet))])/len(regionalPredictSet)\n",
    "                regionalConfidence=[sum(z)/len(regionalPredictSet) for z in zip(*confidence)]\n",
    "                regionalConfidence3=sum(regionalConfidence)\n",
    "\n",
    "                fbAccuracy=0\n",
    "                fbAccuracy+=1.0*sum([regionalPredictSet['place_id'].iloc[i] in prediction[i][:1] for i in xrange(len(regionalPredictSet))])/len(regionalPredictSet)\n",
    "                fbAccuracy+=1.0/2*sum([regionalPredictSet['place_id'].iloc[i] in prediction[i][1:2] for i in xrange(len(regionalPredictSet))])/len(regionalPredictSet)\n",
    "                fbAccuracy+=1.0/3*sum([regionalPredictSet['place_id'].iloc[i] in prediction[i][2:3] for i in xrange(len(regionalPredictSet))])/len(regionalPredictSet)\n",
    "                FBscores.append(fbAccuracy)\n",
    "                print 'region {}: {},{} accuracy: {},  fbAccu: {}, confidence: {}:'.format(count, xNum, yNum, regionalAccuracy, fbAccuracy, regionalConfidence3)\n",
    "                accuracies.append(regionalAccuracy)\n",
    "                if resultSerialization:\n",
    "                    fbscoreForSerialization=fbAccuracy\n",
    "                \n",
    "            if resultSerialization:\n",
    "                resultFileName='{:04d}-{}-{}-{}-{}.rst'.format(count, xStart, xEnd, yStart, yEnd)\n",
    "                resultFilePath=folderPath+resultFileName\n",
    "                predColumns=zip(*prediction)\n",
    "                confColumns=zip(*confidence)\n",
    "\n",
    "                \n",
    "                if len(predColumns[2])!=len(prediction):\n",
    "                    print 'missing values',count, len(predColumns[0])\n",
    "                \n",
    "                results=pd.DataFrame({'originalIndex': regionalPredictSet['originalIndex'].tolist(),\\\n",
    "                                      'x':regionalPredictSet['x'].tolist(), 'y':regionalPredictSet['y'].tolist(), \\\n",
    "                                      'accuracy':regionalPredictSet['accuracy'].tolist(), 'pred0':predColumns[0], \\\n",
    "                                      'pred1':predColumns[1], 'pred2':predColumns[2], 'conf0': confColumns[0], \\\n",
    "                                      'conf1': confColumns[1], 'conf2': confColumns[2], 'regionalFBScore': [fbscoreForSerialization]*len(regionalPredictSet)})\n",
    "\n",
    "                results.to_csv(resultFilePath)\n",
    "\n",
    "\n",
    "\n",
    "        count+=1\n",
    "        if count%10==0:\n",
    "\n",
    "            print '{} : total time {} s.'.format(count, time.time()-startTime)\n",
    "            print 'Average training Time: ', sum(trainingTimes)/len(trainingTimes)\n",
    "            print 'Average prediction Time: ', sum(predictionTimes)/len(predictionTimes)\n",
    "            print 'Average FB Score', np.mean(FBscores)\n",
    "            print \n",
    "            \n",
    "            startTime=time.time()\n",
    "            trainingTimes=[]\n",
    "            predictionTimes=[]\n",
    "\n",
    "\n",
    "    print \n",
    "    print np.mean(accuracies)\n",
    "    print np.var(accuracies)\n",
    "    print\n",
    "    print np.mean(FBscores)\n",
    "    print testNum\n",
    "    print 'done'\n",
    "    \n",
    "    \n",
    "    \n",
    "    "
   ]
  },
  {
   "cell_type": "code",
   "execution_count": 53,
   "metadata": {
    "collapsed": false
   },
   "outputs": [
    {
     "name": "stdout",
     "output_type": "stream",
     "text": [
      "region 0: 0,0 accuracy: 0.667797568561,  fbAccu: 0.579681462633, confidence: 0.597089906701:\n",
      "region 1: 0,1 accuracy: 0.653834308593,  fbAccu: 0.564931731855, confidence: 0.584311364336:\n",
      "region 2: 0,2 accuracy: 0.630360531309,  fbAccu: 0.525932953827, confidence: 0.547810246679:\n",
      "region 3: 0,3 accuracy: 0.678403105073,  fbAccu: 0.586914333241, confidence: 0.580571111727:\n",
      "region 4: 0,4 accuracy: 0.679130874179,  fbAccu: 0.580133063837, confidence: 0.630763516928:\n",
      "region 5: 0,5 accuracy: 0.67328,  fbAccu: 0.593013333333, confidence: 0.62491904:\n",
      "region 6: 0,6 accuracy: 0.728243021346,  fbAccu: 0.614668856048, confidence: 0.606283661741:\n",
      "region 7: 0,7 accuracy: 0.667805519054,  fbAccu: 0.565746824354, confidence: 0.595761103811:\n",
      "region 8: 0,8 accuracy: 0.642563399589,  fbAccu: 0.540495773361, confidence: 0.572132282385:\n",
      "region 9: 0,9 accuracy: 0.664014146773,  fbAccu: 0.576186265841, confidence: 0.574706454465:\n",
      "10 : total time 404.564847946 s.\n",
      "Average training Time:  23.9833799124\n",
      "Average prediction Time:  8.38573269844\n",
      "Average FB Score 0.572770459833\n",
      "\n",
      "region 10: 0,10 accuracy: 0.634516680924,  fbAccu: 0.530759908754, confidence: 0.61129491018:\n",
      "region 11: 0,11 accuracy: 0.680643127364,  fbAccu: 0.575924758302, confidence: 0.572911412358:\n",
      "region 12: 0,12 accuracy: 0.638447319778,  fbAccu: 0.539556377079, confidence: 0.570361182994:\n",
      "region 13: 0,13 accuracy: 0.666159000914,  fbAccu: 0.576657528683, confidence: 0.587076454462:\n",
      "region 14: 0,14 accuracy: 0.675591098748,  fbAccu: 0.597705146036, confidence: 0.631713143255:\n",
      "region 15: 0,15 accuracy: 0.683435141933,  fbAccu: 0.586836746916, confidence: 0.633353575278:\n",
      "region 16: 0,16 accuracy: 0.640548228601,  fbAccu: 0.547237307129, confidence: 0.570583656581:\n",
      "region 17: 0,17 accuracy: 0.743692307692,  fbAccu: 0.637538461538, confidence: 0.650802769231:\n",
      "region 18: 0,18 accuracy: 0.799045747965,  fbAccu: 0.709280568809, confidence: 0.669650014033:\n",
      "region 19: 0,19 accuracy: 0.703083989501,  fbAccu: 0.607174103237, confidence: 0.614804133858:\n",
      "20 : total time 305.921154976 s.\n",
      "Average training Time:  16.1811335087\n",
      "Average prediction Time:  10.3889816046\n",
      "Average FB Score 0.581818775241\n",
      "\n"
     ]
    },
    {
     "ename": "KeyboardInterrupt",
     "evalue": "",
     "output_type": "error",
     "traceback": [
      "\u001b[1;31m---------------------------------------------------------------------------\u001b[0m",
      "\u001b[1;31mKeyboardInterrupt\u001b[0m                         Traceback (most recent call last)",
      "\u001b[1;32m<ipython-input-53-3855514b1c67>\u001b[0m in \u001b[0;36m<module>\u001b[1;34m()\u001b[0m\n\u001b[1;32m----> 1\u001b[1;33m \u001b[0mtrain_test\u001b[0m\u001b[1;33m(\u001b[0m\u001b[0mmodelSerialization\u001b[0m\u001b[1;33m=\u001b[0m\u001b[0mFalse\u001b[0m\u001b[1;33m,\u001b[0m \u001b[0mresultSerialization\u001b[0m\u001b[1;33m=\u001b[0m\u001b[0mTrue\u001b[0m\u001b[1;33m,\u001b[0m \u001b[0mpredictSet\u001b[0m\u001b[1;33m=\u001b[0m\u001b[0mvalid\u001b[0m\u001b[1;33m)\u001b[0m\u001b[1;33m\u001b[0m\u001b[0m\n\u001b[0m",
      "\u001b[1;32m<ipython-input-52-c92c017de0d6>\u001b[0m in \u001b[0;36mtrain_test\u001b[1;34m(modelSerialization, resultSerialization, model, predictSet)\u001b[0m\n\u001b[0;32m     60\u001b[0m \u001b[1;33m\u001b[0m\u001b[0m\n\u001b[0;32m     61\u001b[0m             \u001b[0mpredictionStartTime\u001b[0m\u001b[1;33m=\u001b[0m\u001b[0mtime\u001b[0m\u001b[1;33m.\u001b[0m\u001b[0mtime\u001b[0m\u001b[1;33m(\u001b[0m\u001b[1;33m)\u001b[0m\u001b[1;33m\u001b[0m\u001b[0m\n\u001b[1;32m---> 62\u001b[1;33m             \u001b[0mprob\u001b[0m\u001b[1;33m=\u001b[0m\u001b[0mclf\u001b[0m\u001b[1;33m.\u001b[0m\u001b[0mpredict_proba\u001b[0m\u001b[1;33m(\u001b[0m\u001b[0mregionalPredictSet\u001b[0m\u001b[1;33m[\u001b[0m\u001b[0mf\u001b[0m\u001b[1;33m]\u001b[0m\u001b[1;33m)\u001b[0m\u001b[1;33m\u001b[0m\u001b[0m\n\u001b[0m\u001b[0;32m     63\u001b[0m             \u001b[0mpredictionTimes\u001b[0m\u001b[1;33m.\u001b[0m\u001b[0mappend\u001b[0m\u001b[1;33m(\u001b[0m\u001b[0mtime\u001b[0m\u001b[1;33m.\u001b[0m\u001b[0mtime\u001b[0m\u001b[1;33m(\u001b[0m\u001b[1;33m)\u001b[0m\u001b[1;33m-\u001b[0m\u001b[0mpredictionStartTime\u001b[0m\u001b[1;33m)\u001b[0m\u001b[1;33m\u001b[0m\u001b[0m\n\u001b[0;32m     64\u001b[0m \u001b[1;33m\u001b[0m\u001b[0m\n",
      "\u001b[1;32m/home/zhenjie/anaconda2/lib/python2.7/site-packages/sklearn/ensemble/forest.pyc\u001b[0m in \u001b[0;36mpredict_proba\u001b[1;34m(self, X)\u001b[0m\n\u001b[0;32m    545\u001b[0m             delayed(_parallel_helper)(e, 'predict_proba', X,\n\u001b[0;32m    546\u001b[0m                                       check_input=False)\n\u001b[1;32m--> 547\u001b[1;33m             for e in self.estimators_)\n\u001b[0m\u001b[0;32m    548\u001b[0m \u001b[1;33m\u001b[0m\u001b[0m\n\u001b[0;32m    549\u001b[0m         \u001b[1;31m# Reduce\u001b[0m\u001b[1;33m\u001b[0m\u001b[1;33m\u001b[0m\u001b[0m\n",
      "\u001b[1;32m/home/zhenjie/anaconda2/lib/python2.7/site-packages/sklearn/externals/joblib/parallel.pyc\u001b[0m in \u001b[0;36m__call__\u001b[1;34m(self, iterable)\u001b[0m\n\u001b[0;32m    816\u001b[0m         \u001b[1;32mfinally\u001b[0m\u001b[1;33m:\u001b[0m\u001b[1;33m\u001b[0m\u001b[0m\n\u001b[0;32m    817\u001b[0m             \u001b[1;32mif\u001b[0m \u001b[1;32mnot\u001b[0m \u001b[0mself\u001b[0m\u001b[1;33m.\u001b[0m\u001b[0m_managed_pool\u001b[0m\u001b[1;33m:\u001b[0m\u001b[1;33m\u001b[0m\u001b[0m\n\u001b[1;32m--> 818\u001b[1;33m                 \u001b[0mself\u001b[0m\u001b[1;33m.\u001b[0m\u001b[0m_terminate_pool\u001b[0m\u001b[1;33m(\u001b[0m\u001b[1;33m)\u001b[0m\u001b[1;33m\u001b[0m\u001b[0m\n\u001b[0m\u001b[0;32m    819\u001b[0m             \u001b[0mself\u001b[0m\u001b[1;33m.\u001b[0m\u001b[0m_jobs\u001b[0m \u001b[1;33m=\u001b[0m \u001b[0mlist\u001b[0m\u001b[1;33m(\u001b[0m\u001b[1;33m)\u001b[0m\u001b[1;33m\u001b[0m\u001b[0m\n\u001b[0;32m    820\u001b[0m         \u001b[0moutput\u001b[0m \u001b[1;33m=\u001b[0m \u001b[0mself\u001b[0m\u001b[1;33m.\u001b[0m\u001b[0m_output\u001b[0m\u001b[1;33m\u001b[0m\u001b[0m\n",
      "\u001b[1;32m/home/zhenjie/anaconda2/lib/python2.7/site-packages/sklearn/externals/joblib/parallel.pyc\u001b[0m in \u001b[0;36m_terminate_pool\u001b[1;34m(self)\u001b[0m\n\u001b[0;32m    547\u001b[0m         \u001b[1;32mif\u001b[0m \u001b[0mself\u001b[0m\u001b[1;33m.\u001b[0m\u001b[0m_pool\u001b[0m \u001b[1;32mis\u001b[0m \u001b[1;32mnot\u001b[0m \u001b[0mNone\u001b[0m\u001b[1;33m:\u001b[0m\u001b[1;33m\u001b[0m\u001b[0m\n\u001b[0;32m    548\u001b[0m             \u001b[0mself\u001b[0m\u001b[1;33m.\u001b[0m\u001b[0m_pool\u001b[0m\u001b[1;33m.\u001b[0m\u001b[0mclose\u001b[0m\u001b[1;33m(\u001b[0m\u001b[1;33m)\u001b[0m\u001b[1;33m\u001b[0m\u001b[0m\n\u001b[1;32m--> 549\u001b[1;33m             \u001b[0mself\u001b[0m\u001b[1;33m.\u001b[0m\u001b[0m_pool\u001b[0m\u001b[1;33m.\u001b[0m\u001b[0mterminate\u001b[0m\u001b[1;33m(\u001b[0m\u001b[1;33m)\u001b[0m  \u001b[1;31m# terminate does a join()\u001b[0m\u001b[1;33m\u001b[0m\u001b[0m\n\u001b[0m\u001b[0;32m    550\u001b[0m             \u001b[0mself\u001b[0m\u001b[1;33m.\u001b[0m\u001b[0m_pool\u001b[0m \u001b[1;33m=\u001b[0m \u001b[0mNone\u001b[0m\u001b[1;33m\u001b[0m\u001b[0m\n\u001b[0;32m    551\u001b[0m             \u001b[1;32mif\u001b[0m \u001b[0mself\u001b[0m\u001b[1;33m.\u001b[0m\u001b[0mbackend\u001b[0m \u001b[1;33m==\u001b[0m \u001b[1;34m'multiprocessing'\u001b[0m\u001b[1;33m:\u001b[0m\u001b[1;33m\u001b[0m\u001b[0m\n",
      "\u001b[1;32m/home/zhenjie/anaconda2/lib/python2.7/multiprocessing/pool.pyc\u001b[0m in \u001b[0;36mterminate\u001b[1;34m(self)\u001b[0m\n\u001b[0;32m    463\u001b[0m         \u001b[0mself\u001b[0m\u001b[1;33m.\u001b[0m\u001b[0m_state\u001b[0m \u001b[1;33m=\u001b[0m \u001b[0mTERMINATE\u001b[0m\u001b[1;33m\u001b[0m\u001b[0m\n\u001b[0;32m    464\u001b[0m         \u001b[0mself\u001b[0m\u001b[1;33m.\u001b[0m\u001b[0m_worker_handler\u001b[0m\u001b[1;33m.\u001b[0m\u001b[0m_state\u001b[0m \u001b[1;33m=\u001b[0m \u001b[0mTERMINATE\u001b[0m\u001b[1;33m\u001b[0m\u001b[0m\n\u001b[1;32m--> 465\u001b[1;33m         \u001b[0mself\u001b[0m\u001b[1;33m.\u001b[0m\u001b[0m_terminate\u001b[0m\u001b[1;33m(\u001b[0m\u001b[1;33m)\u001b[0m\u001b[1;33m\u001b[0m\u001b[0m\n\u001b[0m\u001b[0;32m    466\u001b[0m \u001b[1;33m\u001b[0m\u001b[0m\n\u001b[0;32m    467\u001b[0m     \u001b[1;32mdef\u001b[0m \u001b[0mjoin\u001b[0m\u001b[1;33m(\u001b[0m\u001b[0mself\u001b[0m\u001b[1;33m)\u001b[0m\u001b[1;33m:\u001b[0m\u001b[1;33m\u001b[0m\u001b[0m\n",
      "\u001b[1;32m/home/zhenjie/anaconda2/lib/python2.7/multiprocessing/util.pyc\u001b[0m in \u001b[0;36m__call__\u001b[1;34m(self, wr)\u001b[0m\n\u001b[0;32m    205\u001b[0m                 sub_debug('finalizer calling %s with args %s and kwargs %s',\n\u001b[0;32m    206\u001b[0m                           self._callback, self._args, self._kwargs)\n\u001b[1;32m--> 207\u001b[1;33m                 \u001b[0mres\u001b[0m \u001b[1;33m=\u001b[0m \u001b[0mself\u001b[0m\u001b[1;33m.\u001b[0m\u001b[0m_callback\u001b[0m\u001b[1;33m(\u001b[0m\u001b[1;33m*\u001b[0m\u001b[0mself\u001b[0m\u001b[1;33m.\u001b[0m\u001b[0m_args\u001b[0m\u001b[1;33m,\u001b[0m \u001b[1;33m**\u001b[0m\u001b[0mself\u001b[0m\u001b[1;33m.\u001b[0m\u001b[0m_kwargs\u001b[0m\u001b[1;33m)\u001b[0m\u001b[1;33m\u001b[0m\u001b[0m\n\u001b[0m\u001b[0;32m    208\u001b[0m             \u001b[0mself\u001b[0m\u001b[1;33m.\u001b[0m\u001b[0m_weakref\u001b[0m \u001b[1;33m=\u001b[0m \u001b[0mself\u001b[0m\u001b[1;33m.\u001b[0m\u001b[0m_callback\u001b[0m \u001b[1;33m=\u001b[0m \u001b[0mself\u001b[0m\u001b[1;33m.\u001b[0m\u001b[0m_args\u001b[0m \u001b[1;33m=\u001b[0m\u001b[0;31m \u001b[0m\u001b[0;31m\\\u001b[0m\u001b[1;33m\u001b[0m\u001b[0m\n\u001b[0;32m    209\u001b[0m                             \u001b[0mself\u001b[0m\u001b[1;33m.\u001b[0m\u001b[0m_kwargs\u001b[0m \u001b[1;33m=\u001b[0m \u001b[0mself\u001b[0m\u001b[1;33m.\u001b[0m\u001b[0m_key\u001b[0m \u001b[1;33m=\u001b[0m \u001b[0mNone\u001b[0m\u001b[1;33m\u001b[0m\u001b[0m\n",
      "\u001b[1;32m/home/zhenjie/anaconda2/lib/python2.7/multiprocessing/pool.pyc\u001b[0m in \u001b[0;36m_terminate_pool\u001b[1;34m(cls, taskqueue, inqueue, outqueue, pool, worker_handler, task_handler, result_handler, cache)\u001b[0m\n\u001b[0;32m    504\u001b[0m         \u001b[0mdebug\u001b[0m\u001b[1;33m(\u001b[0m\u001b[1;34m'joining worker handler'\u001b[0m\u001b[1;33m)\u001b[0m\u001b[1;33m\u001b[0m\u001b[0m\n\u001b[0;32m    505\u001b[0m         \u001b[1;32mif\u001b[0m \u001b[0mthreading\u001b[0m\u001b[1;33m.\u001b[0m\u001b[0mcurrent_thread\u001b[0m\u001b[1;33m(\u001b[0m\u001b[1;33m)\u001b[0m \u001b[1;32mis\u001b[0m \u001b[1;32mnot\u001b[0m \u001b[0mworker_handler\u001b[0m\u001b[1;33m:\u001b[0m\u001b[1;33m\u001b[0m\u001b[0m\n\u001b[1;32m--> 506\u001b[1;33m             \u001b[0mworker_handler\u001b[0m\u001b[1;33m.\u001b[0m\u001b[0mjoin\u001b[0m\u001b[1;33m(\u001b[0m\u001b[1;36m1e100\u001b[0m\u001b[1;33m)\u001b[0m\u001b[1;33m\u001b[0m\u001b[0m\n\u001b[0m\u001b[0;32m    507\u001b[0m \u001b[1;33m\u001b[0m\u001b[0m\n\u001b[0;32m    508\u001b[0m         \u001b[1;31m# Terminate workers which haven't already finished.\u001b[0m\u001b[1;33m\u001b[0m\u001b[1;33m\u001b[0m\u001b[0m\n",
      "\u001b[1;32m/home/zhenjie/anaconda2/lib/python2.7/threading.pyc\u001b[0m in \u001b[0;36mjoin\u001b[1;34m(self, timeout)\u001b[0m\n\u001b[0;32m    949\u001b[0m                             \u001b[0mself\u001b[0m\u001b[1;33m.\u001b[0m\u001b[0m_note\u001b[0m\u001b[1;33m(\u001b[0m\u001b[1;34m\"%s.join(): timed out\"\u001b[0m\u001b[1;33m,\u001b[0m \u001b[0mself\u001b[0m\u001b[1;33m)\u001b[0m\u001b[1;33m\u001b[0m\u001b[0m\n\u001b[0;32m    950\u001b[0m                         \u001b[1;32mbreak\u001b[0m\u001b[1;33m\u001b[0m\u001b[0m\n\u001b[1;32m--> 951\u001b[1;33m                     \u001b[0mself\u001b[0m\u001b[1;33m.\u001b[0m\u001b[0m__block\u001b[0m\u001b[1;33m.\u001b[0m\u001b[0mwait\u001b[0m\u001b[1;33m(\u001b[0m\u001b[0mdelay\u001b[0m\u001b[1;33m)\u001b[0m\u001b[1;33m\u001b[0m\u001b[0m\n\u001b[0m\u001b[0;32m    952\u001b[0m                 \u001b[1;32melse\u001b[0m\u001b[1;33m:\u001b[0m\u001b[1;33m\u001b[0m\u001b[0m\n\u001b[0;32m    953\u001b[0m                     \u001b[1;32mif\u001b[0m \u001b[0m__debug__\u001b[0m\u001b[1;33m:\u001b[0m\u001b[1;33m\u001b[0m\u001b[0m\n",
      "\u001b[1;32m/home/zhenjie/anaconda2/lib/python2.7/threading.pyc\u001b[0m in \u001b[0;36mwait\u001b[1;34m(self, timeout)\u001b[0m\n\u001b[0;32m    357\u001b[0m                         \u001b[1;32mbreak\u001b[0m\u001b[1;33m\u001b[0m\u001b[0m\n\u001b[0;32m    358\u001b[0m                     \u001b[0mdelay\u001b[0m \u001b[1;33m=\u001b[0m \u001b[0mmin\u001b[0m\u001b[1;33m(\u001b[0m\u001b[0mdelay\u001b[0m \u001b[1;33m*\u001b[0m \u001b[1;36m2\u001b[0m\u001b[1;33m,\u001b[0m \u001b[0mremaining\u001b[0m\u001b[1;33m,\u001b[0m \u001b[1;36m.05\u001b[0m\u001b[1;33m)\u001b[0m\u001b[1;33m\u001b[0m\u001b[0m\n\u001b[1;32m--> 359\u001b[1;33m                     \u001b[0m_sleep\u001b[0m\u001b[1;33m(\u001b[0m\u001b[0mdelay\u001b[0m\u001b[1;33m)\u001b[0m\u001b[1;33m\u001b[0m\u001b[0m\n\u001b[0m\u001b[0;32m    360\u001b[0m                 \u001b[1;32mif\u001b[0m \u001b[1;32mnot\u001b[0m \u001b[0mgotit\u001b[0m\u001b[1;33m:\u001b[0m\u001b[1;33m\u001b[0m\u001b[0m\n\u001b[0;32m    361\u001b[0m                     \u001b[1;32mif\u001b[0m \u001b[0m__debug__\u001b[0m\u001b[1;33m:\u001b[0m\u001b[1;33m\u001b[0m\u001b[0m\n",
      "\u001b[1;31mKeyboardInterrupt\u001b[0m: "
     ]
    }
   ],
   "source": [
    "train_test(modelSerialization=False, resultSerialization=True, predictSet=valid)"
   ]
  },
  {
   "cell_type": "code",
   "execution_count": 12,
   "metadata": {
    "collapsed": false
   },
   "outputs": [],
   "source": [
    "def makeSubmission(resultFolder):\n",
    "    results=[]\n",
    "    for f in os.listdir(resultFolder):\n",
    "        if f.endswith('.rst'):\n",
    "            fi=resultFolder+'/'+f\n",
    "            results.append(pd.read_csv(fi))\n",
    "    results=pd.concat(results)\n",
    "        \n",
    "    results.sort(['originalIndex'], inplace=True)\n",
    "    return results"
   ]
  },
  {
   "cell_type": "code",
   "execution_count": 13,
   "metadata": {
    "collapsed": false
   },
   "outputs": [
    {
     "name": "stderr",
     "output_type": "stream",
     "text": [
      "/home/zhenjie/anaconda2/lib/python2.7/site-packages/ipykernel/__main__.py:9: FutureWarning: sort(columns=....) is deprecated, use sort_values(by=.....)\n"
     ]
    }
   ],
   "source": [
    "results=makeSubmission('../submissions/xgb-0.03-50Trees/')\n",
    "predictions=results[['pred0','pred1','pred2']]\n",
    "submit=pd.DataFrame()\n",
    "# submit.loc[:,'row_id']=np.arange(len(predictions))\n",
    "submit.loc[:,'place_id']=predictions[['pred0', 'pred1', 'pred2']].apply(lambda x: ' '.join([str(nx) for nx in x]), axis=1)\n",
    "submit.loc[:,'row_id']=np.arange(len(predictions))\n"
   ]
  },
  {
   "cell_type": "code",
   "execution_count": 14,
   "metadata": {
    "collapsed": false
   },
   "outputs": [],
   "source": [
    "submit=submit[['row_id','place_id' ]]\n",
    "submit.set_index('row_id', inplace=True)\n",
    "submit.to_csv('../submissions/xgb0.03_50Trees.csv')\n"
   ]
  },
  {
   "cell_type": "code",
   "execution_count": 267,
   "metadata": {
    "collapsed": false
   },
   "outputs": [
    {
     "data": {
      "text/html": [
       "<div>\n",
       "<table border=\"1\" class=\"dataframe\">\n",
       "  <thead>\n",
       "    <tr style=\"text-align: right;\">\n",
       "      <th></th>\n",
       "      <th>row_id</th>\n",
       "      <th>place_id</th>\n",
       "    </tr>\n",
       "  </thead>\n",
       "  <tbody>\n",
       "    <tr>\n",
       "      <th>0</th>\n",
       "      <td>0</td>\n",
       "      <td>8017323210 1985125281 4393146716</td>\n",
       "    </tr>\n",
       "    <tr>\n",
       "      <th>1</th>\n",
       "      <td>1</td>\n",
       "      <td>2465239230 5437803702 2921898487</td>\n",
       "    </tr>\n",
       "    <tr>\n",
       "      <th>2</th>\n",
       "      <td>2</td>\n",
       "      <td>2516481553 6692804575 7862615088</td>\n",
       "    </tr>\n",
       "    <tr>\n",
       "      <th>3</th>\n",
       "      <td>3</td>\n",
       "      <td>7995458948 3243409743 8393706174</td>\n",
       "    </tr>\n",
       "    <tr>\n",
       "      <th>4</th>\n",
       "      <td>4</td>\n",
       "      <td>8711861736 2766376680 9619154293</td>\n",
       "    </tr>\n",
       "  </tbody>\n",
       "</table>\n",
       "</div>"
      ],
      "text/plain": [
       "   row_id                          place_id\n",
       "0       0  8017323210 1985125281 4393146716\n",
       "1       1  2465239230 5437803702 2921898487\n",
       "2       2  2516481553 6692804575 7862615088\n",
       "3       3  7995458948 3243409743 8393706174\n",
       "4       4  8711861736 2766376680 9619154293"
      ]
     },
     "execution_count": 267,
     "metadata": {},
     "output_type": "execute_result"
    },
    {
     "data": {
      "text/html": [
       "<div>\n",
       "<table border=\"1\" class=\"dataframe\">\n",
       "  <thead>\n",
       "    <tr style=\"text-align: right;\">\n",
       "      <th></th>\n",
       "      <th>row_id</th>\n",
       "      <th>place_id</th>\n",
       "    </tr>\n",
       "  </thead>\n",
       "  <tbody>\n",
       "    <tr>\n",
       "      <th>0</th>\n",
       "      <td>0</td>\n",
       "      <td>8017323210 1985125281 6131996960</td>\n",
       "    </tr>\n",
       "    <tr>\n",
       "      <th>1</th>\n",
       "      <td>1</td>\n",
       "      <td>2465239230 5801740503 4223683383</td>\n",
       "    </tr>\n",
       "    <tr>\n",
       "      <th>2</th>\n",
       "      <td>2</td>\n",
       "      <td>2516481553 6692804575 7862615088</td>\n",
       "    </tr>\n",
       "    <tr>\n",
       "      <th>3</th>\n",
       "      <td>3</td>\n",
       "      <td>7995458948 3243409743 5345410711</td>\n",
       "    </tr>\n",
       "    <tr>\n",
       "      <th>4</th>\n",
       "      <td>4</td>\n",
       "      <td>8711861736 2766376680 9619154293</td>\n",
       "    </tr>\n",
       "  </tbody>\n",
       "</table>\n",
       "</div>"
      ],
      "text/plain": [
       "   row_id                          place_id\n",
       "0       0  8017323210 1985125281 6131996960\n",
       "1       1  2465239230 5801740503 4223683383\n",
       "2       2  2516481553 6692804575 7862615088\n",
       "3       3  7995458948 3243409743 5345410711\n",
       "4       4  8711861736 2766376680 9619154293"
      ]
     },
     "execution_count": 267,
     "metadata": {},
     "output_type": "execute_result"
    }
   ],
   "source": [
    "p300=pd.read_csv('../submissions/rf300Trees10_250.csv').head()\n",
    "p50=pd.read_csv('../submissions/rf50Trees10_250.csv').head()\n",
    "p300\n",
    "p50"
   ]
  },
  {
   "cell_type": "code",
   "execution_count": 238,
   "metadata": {
    "collapsed": true
   },
   "outputs": [],
   "source": [
    "others=pd.read_csv('../submissions/rf_submission_2016-06-03-19-57.csv')"
   ]
  },
  {
   "cell_type": "code",
   "execution_count": 189,
   "metadata": {
    "collapsed": false
   },
   "outputs": [
    {
     "name": "stderr",
     "output_type": "stream",
     "text": [
      "/home/zhenjie/anaconda2/lib/python2.7/site-packages/ipykernel/__main__.py:9: FutureWarning: sort(columns=....) is deprecated, use sort_values(by=.....)\n"
     ]
    },
    {
     "name": "stdout",
     "output_type": "stream",
     "text": [
      "5730846\n",
      "5730846\n",
      "0.570895466394\n",
      "0.494175961688\n"
     ]
    }
   ],
   "source": [
    "results=makeSubmission('rf-Tue Jun 14 18:18:14 2016')\n",
    "predictions=results[['pred0','pred1','pred2']].values\n",
    "\n",
    "realXMin=0\n",
    "realXMax=10.1\n",
    "realYMin=0\n",
    "realYMax=10.1\n",
    "\n",
    "real=_train_[int(len(_train_)*trainRatio):]\n",
    "\n",
    "real=real[(real['x']<realXMax) & (real['x']>=realXMin) & (real['y']<realYMax) & (real['y']>=realYMin)]\n",
    "real=real[['place_id']]\n",
    "\n",
    "print len(real)\n",
    "print len(predictions)\n",
    "\n",
    "# print len(predictions), len(real), results['originalIndex'].value_counts()\n",
    "\n",
    "totalHit=sum([real['place_id'].iloc[i] in predictions[i] for i in xrange(len(predictions))])\n",
    "score=0\n",
    "score+=1.0*sum([real['place_id'].iloc[i] in predictions[i][:1] for i in xrange(len(predictions))])\n",
    "score+=1.0/2*sum([real['place_id'].iloc[i] in predictions[i][1:2] for i in xrange(len(predictions))])\n",
    "score+=1.0/3*sum([real['place_id'].iloc[i] in predictions[i][2:3] for i in xrange(len(predictions))])\n",
    "\n",
    "print 1.0*totalHit/len(predictions)\n",
    "print score/len(predictions)\n",
    "\n"
   ]
  },
  {
   "cell_type": "code",
   "execution_count": 23,
   "metadata": {
    "collapsed": false
   },
   "outputs": [
    {
     "data": {
      "text/plain": [
       "23294733    9851590985\n",
       "23294779    1983039994\n",
       "23294813    3915691710\n",
       "23295061    4751915737\n",
       "23295121    7372147589\n",
       "Name: place_id, dtype: int64"
      ]
     },
     "execution_count": 23,
     "metadata": {},
     "output_type": "execute_result"
    },
    {
     "data": {
      "text/html": [
       "<div>\n",
       "<table border=\"1\" class=\"dataframe\">\n",
       "  <thead>\n",
       "    <tr style=\"text-align: right;\">\n",
       "      <th></th>\n",
       "      <th>Unnamed: 0</th>\n",
       "      <th>accuracy</th>\n",
       "      <th>conf0</th>\n",
       "      <th>conf1</th>\n",
       "      <th>conf2</th>\n",
       "      <th>originalIndex</th>\n",
       "      <th>pred0</th>\n",
       "      <th>pred1</th>\n",
       "      <th>pred2</th>\n",
       "      <th>x</th>\n",
       "      <th>y</th>\n",
       "    </tr>\n",
       "  </thead>\n",
       "  <tbody>\n",
       "    <tr>\n",
       "      <th>306</th>\n",
       "      <td>306</td>\n",
       "      <td>65</td>\n",
       "      <td>0.44</td>\n",
       "      <td>0.26</td>\n",
       "      <td>0.20</td>\n",
       "      <td>934546</td>\n",
       "      <td>3137026172</td>\n",
       "      <td>5758936842</td>\n",
       "      <td>8767363147</td>\n",
       "      <td>0.3569</td>\n",
       "      <td>0.84</td>\n",
       "    </tr>\n",
       "    <tr>\n",
       "      <th>393</th>\n",
       "      <td>393</td>\n",
       "      <td>65</td>\n",
       "      <td>0.44</td>\n",
       "      <td>0.22</td>\n",
       "      <td>0.06</td>\n",
       "      <td>934546</td>\n",
       "      <td>3137026172</td>\n",
       "      <td>5758936842</td>\n",
       "      <td>8675906672</td>\n",
       "      <td>0.3569</td>\n",
       "      <td>0.84</td>\n",
       "    </tr>\n",
       "  </tbody>\n",
       "</table>\n",
       "</div>"
      ],
      "text/plain": [
       "     Unnamed: 0  accuracy  conf0  conf1  conf2  originalIndex       pred0  \\\n",
       "306         306        65   0.44   0.26   0.20         934546  3137026172   \n",
       "393         393        65   0.44   0.22   0.06         934546  3137026172   \n",
       "\n",
       "          pred1       pred2       x     y  \n",
       "306  5758936842  8767363147  0.3569  0.84  \n",
       "393  5758936842  8675906672  0.3569  0.84  "
      ]
     },
     "execution_count": 23,
     "metadata": {},
     "output_type": "execute_result"
    }
   ],
   "source": [
    "real.head()\n",
    "\n",
    "results[results['originalIndex']==934546]"
   ]
  },
  {
   "cell_type": "code",
   "execution_count": 29,
   "metadata": {
    "collapsed": false
   },
   "outputs": [],
   "source": [
    "r=pd.read_csv('rf-Sun Jun 12 12:17:04 2016/0000-0.0-1.0-0.0-0.04.rst')"
   ]
  },
  {
   "cell_type": "code",
   "execution_count": 30,
   "metadata": {
    "collapsed": false
   },
   "outputs": [
    {
     "data": {
      "text/html": [
       "<div>\n",
       "<table border=\"1\" class=\"dataframe\">\n",
       "  <thead>\n",
       "    <tr style=\"text-align: right;\">\n",
       "      <th></th>\n",
       "      <th>Unnamed: 0</th>\n",
       "      <th>accuracy</th>\n",
       "      <th>confidence</th>\n",
       "      <th>prediction</th>\n",
       "      <th>x</th>\n",
       "      <th>y</th>\n",
       "    </tr>\n",
       "  </thead>\n",
       "  <tbody>\n",
       "    <tr>\n",
       "      <th>0</th>\n",
       "      <td>23295372</td>\n",
       "      <td>3</td>\n",
       "      <td>(0.76000000000000001, 0.14000000000000001, 0.0...</td>\n",
       "      <td>(9516247724, 7965058889, 8813608705)</td>\n",
       "      <td>0.4866</td>\n",
       "      <td>0.0119</td>\n",
       "    </tr>\n",
       "    <tr>\n",
       "      <th>1</th>\n",
       "      <td>23295972</td>\n",
       "      <td>169</td>\n",
       "      <td>(0.28000000000000003, 0.20000000000000001, 0.12)</td>\n",
       "      <td>(4941765890, 1342336464, 2797440100)</td>\n",
       "      <td>0.8878</td>\n",
       "      <td>0.0279</td>\n",
       "    </tr>\n",
       "    <tr>\n",
       "      <th>2</th>\n",
       "      <td>23296020</td>\n",
       "      <td>8</td>\n",
       "      <td>(1.0, 0.0, 0.0)</td>\n",
       "      <td>(1425204074, 9973067176, 9922884570)</td>\n",
       "      <td>0.9640</td>\n",
       "      <td>0.0213</td>\n",
       "    </tr>\n",
       "    <tr>\n",
       "      <th>3</th>\n",
       "      <td>23297600</td>\n",
       "      <td>77</td>\n",
       "      <td>(1.0, 0.0, 0.0)</td>\n",
       "      <td>(9019790086, 9973067176, 9922884570)</td>\n",
       "      <td>0.9911</td>\n",
       "      <td>0.0206</td>\n",
       "    </tr>\n",
       "    <tr>\n",
       "      <th>4</th>\n",
       "      <td>23299123</td>\n",
       "      <td>16</td>\n",
       "      <td>(0.32000000000000001, 0.29999999999999999, 0.1...</td>\n",
       "      <td>(2718702529, 9727638738, 7937617850)</td>\n",
       "      <td>0.1835</td>\n",
       "      <td>0.0201</td>\n",
       "    </tr>\n",
       "  </tbody>\n",
       "</table>\n",
       "</div>"
      ],
      "text/plain": [
       "   Unnamed: 0  accuracy                                         confidence  \\\n",
       "0    23295372         3  (0.76000000000000001, 0.14000000000000001, 0.0...   \n",
       "1    23295972       169   (0.28000000000000003, 0.20000000000000001, 0.12)   \n",
       "2    23296020         8                                    (1.0, 0.0, 0.0)   \n",
       "3    23297600        77                                    (1.0, 0.0, 0.0)   \n",
       "4    23299123        16  (0.32000000000000001, 0.29999999999999999, 0.1...   \n",
       "\n",
       "                             prediction       x       y  \n",
       "0  (9516247724, 7965058889, 8813608705)  0.4866  0.0119  \n",
       "1  (4941765890, 1342336464, 2797440100)  0.8878  0.0279  \n",
       "2  (1425204074, 9973067176, 9922884570)  0.9640  0.0213  \n",
       "3  (9019790086, 9973067176, 9922884570)  0.9911  0.0206  \n",
       "4  (2718702529, 9727638738, 7937617850)  0.1835  0.0201  "
      ]
     },
     "execution_count": 30,
     "metadata": {},
     "output_type": "execute_result"
    }
   ],
   "source": [
    "r.head()"
   ]
  },
  {
   "cell_type": "code",
   "execution_count": null,
   "metadata": {
    "collapsed": true
   },
   "outputs": [],
   "source": []
  }
 ],
 "metadata": {
  "kernelspec": {
   "display_name": "Python 2",
   "language": "python",
   "name": "python2"
  },
  "language_info": {
   "codemirror_mode": {
    "name": "ipython",
    "version": 2
   },
   "file_extension": ".py",
   "mimetype": "text/x-python",
   "name": "python",
   "nbconvert_exporter": "python",
   "pygments_lexer": "ipython2",
   "version": "2.7.11"
  }
 },
 "nbformat": 4,
 "nbformat_minor": 0
}
