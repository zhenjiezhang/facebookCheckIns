{
 "cells": [
  {
   "cell_type": "code",
   "execution_count": 1,
   "metadata": {
    "collapsed": true
   },
   "outputs": [],
   "source": [
    "import pandas as pd\n",
    "from matplotlib import pyplot as plt\n",
    "from matplotlib import cm as cm\n",
    "import numpy as np\n",
    "%matplotlib inline"
   ]
  },
  {
   "cell_type": "code",
   "execution_count": 4,
   "metadata": {
    "collapsed": false
   },
   "outputs": [],
   "source": [
    "train=pd.read_csv('../input/train.csv')\n",
    "train.describe()"
   ]
  },
  {
   "cell_type": "code",
   "execution_count": 7,
   "metadata": {
    "collapsed": false
   },
   "outputs": [],
   "source": [
    "placesToSee=10\n",
    "topPlaces=train.groupby('place_id', sort=False).count()\n",
    "topPlaces=topPlaces[['time']].sort_values('time', ascending=False)\n",
    "topPlaces=topPlaces.head(placesToSee)\n",
    "topPlaces=topPlaces.index"
   ]
  },
  {
   "cell_type": "code",
   "execution_count": null,
   "metadata": {
    "collapsed": true
   },
   "outputs": [],
   "source": [
    "colors=cm.rainbow(np.linspace(0,1,placesToSee))\n",
    "plt.figure(1, figsize=[10,10])\n",
    "plt.xlim(0,10)\n",
    "\n",
    "plt.ylim(0,10)\n",
    "for p,c in zip(topPlaces, colors):\n",
    "    pos=train[train['place_id']==p]\n",
    "    \n",
    "    \n",
    "    pos.plot.scatter('x','y')\n",
    "    plt.figure()\n",
    "    pos['x'].plot(kind='hist', bins=100)\n",
    "    plt.figure()\n",
    "\n",
    "    pos['time'].plot(kind='hist', bins=10000/60, range=[200000, 210000])\n",
    "    plt.figure()\n",
    "\n",
    "    pos.plot.scatter('x', 'accuracy')\n",
    "    \n",
    "    centerX=pos['x'].mean()\n",
    "    centerY=pos['y'].mean()\n",
    "    pos['deviation']=((pos['x']-centerX)**2+(pos['y']-centerY)**2)**0.5\n",
    "    pos.plot.scatter('deviation','accuracy')\n",
    "\n",
    "    plt.figure(1)\n",
    "    plt.scatter(pos.x,pos.y,color=c)\n",
    "\n",
    "plt.show()"
   ]
  },
  {
   "cell_type": "code",
   "execution_count": 17,
   "metadata": {
    "collapsed": false
   },
   "outputs": [],
   "source": []
  },
  {
   "cell_type": "code",
   "execution_count": null,
   "metadata": {
    "collapsed": false
   },
   "outputs": [],
   "source": []
  },
  {
   "cell_type": "code",
   "execution_count": null,
   "metadata": {
    "collapsed": false
   },
   "outputs": [],
   "source": []
  },
  {
   "cell_type": "code",
   "execution_count": null,
   "metadata": {
    "collapsed": true
   },
   "outputs": [],
   "source": []
  }
 ],
 "metadata": {
  "kernelspec": {
   "display_name": "Python 2",
   "language": "python",
   "name": "python2"
  },
  "language_info": {
   "codemirror_mode": {
    "name": "ipython",
    "version": 2
   },
   "file_extension": ".py",
   "mimetype": "text/x-python",
   "name": "python",
   "nbconvert_exporter": "python",
   "pygments_lexer": "ipython2",
   "version": "2.7.11"
  }
 },
 "nbformat": 4,
 "nbformat_minor": 0
}
