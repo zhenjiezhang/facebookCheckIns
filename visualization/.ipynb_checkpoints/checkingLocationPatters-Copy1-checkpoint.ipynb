{
 "cells": [
  {
   "cell_type": "code",
   "execution_count": 1,
   "metadata": {
    "collapsed": false
   },
   "outputs": [],
   "source": [
    "import pandas as pd\n",
    "from matplotlib import pyplot as plt\n",
    "from matplotlib import cm as cm\n",
    "import numpy as np\n",
    "from sklearn.naive_bayes import GaussianNB\n",
    "\n",
    "from IPython.core.interactiveshell import InteractiveShell\n",
    "InteractiveShell.ast_node_interactivity = \"all\"\n",
    "\n",
    "%matplotlib inline\n"
   ]
  },
  {
   "cell_type": "code",
   "execution_count": 2,
   "metadata": {
    "collapsed": false
   },
   "outputs": [
    {
     "data": {
      "text/html": [
       "<div>\n",
       "<table border=\"1\" class=\"dataframe\">\n",
       "  <thead>\n",
       "    <tr style=\"text-align: right;\">\n",
       "      <th></th>\n",
       "      <th>row_id</th>\n",
       "      <th>x</th>\n",
       "      <th>y</th>\n",
       "      <th>accuracy</th>\n",
       "      <th>time</th>\n",
       "      <th>place_id</th>\n",
       "    </tr>\n",
       "  </thead>\n",
       "  <tbody>\n",
       "    <tr>\n",
       "      <th>count</th>\n",
       "      <td>2.911802e+07</td>\n",
       "      <td>2.911802e+07</td>\n",
       "      <td>2.911802e+07</td>\n",
       "      <td>2.911802e+07</td>\n",
       "      <td>2.911802e+07</td>\n",
       "      <td>2.911802e+07</td>\n",
       "    </tr>\n",
       "    <tr>\n",
       "      <th>mean</th>\n",
       "      <td>1.455901e+07</td>\n",
       "      <td>4.999770e+00</td>\n",
       "      <td>5.001814e+00</td>\n",
       "      <td>8.284912e+01</td>\n",
       "      <td>4.170104e+05</td>\n",
       "      <td>5.493787e+09</td>\n",
       "    </tr>\n",
       "    <tr>\n",
       "      <th>std</th>\n",
       "      <td>8.405649e+06</td>\n",
       "      <td>2.857601e+00</td>\n",
       "      <td>2.887505e+00</td>\n",
       "      <td>1.147518e+02</td>\n",
       "      <td>2.311761e+05</td>\n",
       "      <td>2.611088e+09</td>\n",
       "    </tr>\n",
       "    <tr>\n",
       "      <th>min</th>\n",
       "      <td>0.000000e+00</td>\n",
       "      <td>0.000000e+00</td>\n",
       "      <td>0.000000e+00</td>\n",
       "      <td>1.000000e+00</td>\n",
       "      <td>1.000000e+00</td>\n",
       "      <td>1.000016e+09</td>\n",
       "    </tr>\n",
       "    <tr>\n",
       "      <th>25%</th>\n",
       "      <td>7.279505e+06</td>\n",
       "      <td>2.534700e+00</td>\n",
       "      <td>2.496700e+00</td>\n",
       "      <td>2.700000e+01</td>\n",
       "      <td>2.030570e+05</td>\n",
       "      <td>3.222911e+09</td>\n",
       "    </tr>\n",
       "    <tr>\n",
       "      <th>50%</th>\n",
       "      <td>1.455901e+07</td>\n",
       "      <td>5.009100e+00</td>\n",
       "      <td>4.988300e+00</td>\n",
       "      <td>6.200000e+01</td>\n",
       "      <td>4.339220e+05</td>\n",
       "      <td>5.518573e+09</td>\n",
       "    </tr>\n",
       "    <tr>\n",
       "      <th>75%</th>\n",
       "      <td>2.183852e+07</td>\n",
       "      <td>7.461400e+00</td>\n",
       "      <td>7.510300e+00</td>\n",
       "      <td>7.500000e+01</td>\n",
       "      <td>6.204910e+05</td>\n",
       "      <td>7.764307e+09</td>\n",
       "    </tr>\n",
       "    <tr>\n",
       "      <th>max</th>\n",
       "      <td>2.911802e+07</td>\n",
       "      <td>1.000000e+01</td>\n",
       "      <td>1.000000e+01</td>\n",
       "      <td>1.033000e+03</td>\n",
       "      <td>7.862390e+05</td>\n",
       "      <td>9.999932e+09</td>\n",
       "    </tr>\n",
       "  </tbody>\n",
       "</table>\n",
       "</div>"
      ],
      "text/plain": [
       "             row_id             x             y      accuracy          time  \\\n",
       "count  2.911802e+07  2.911802e+07  2.911802e+07  2.911802e+07  2.911802e+07   \n",
       "mean   1.455901e+07  4.999770e+00  5.001814e+00  8.284912e+01  4.170104e+05   \n",
       "std    8.405649e+06  2.857601e+00  2.887505e+00  1.147518e+02  2.311761e+05   \n",
       "min    0.000000e+00  0.000000e+00  0.000000e+00  1.000000e+00  1.000000e+00   \n",
       "25%    7.279505e+06  2.534700e+00  2.496700e+00  2.700000e+01  2.030570e+05   \n",
       "50%    1.455901e+07  5.009100e+00  4.988300e+00  6.200000e+01  4.339220e+05   \n",
       "75%    2.183852e+07  7.461400e+00  7.510300e+00  7.500000e+01  6.204910e+05   \n",
       "max    2.911802e+07  1.000000e+01  1.000000e+01  1.033000e+03  7.862390e+05   \n",
       "\n",
       "           place_id  \n",
       "count  2.911802e+07  \n",
       "mean   5.493787e+09  \n",
       "std    2.611088e+09  \n",
       "min    1.000016e+09  \n",
       "25%    3.222911e+09  \n",
       "50%    5.518573e+09  \n",
       "75%    7.764307e+09  \n",
       "max    9.999932e+09  "
      ]
     },
     "execution_count": 2,
     "metadata": {},
     "output_type": "execute_result"
    }
   ],
   "source": [
    "train=pd.read_csv('../input/train.csv')\n",
    "train.describe()"
   ]
  },
  {
   "cell_type": "code",
   "execution_count": 3,
   "metadata": {
    "collapsed": false
   },
   "outputs": [
    {
     "data": {
      "text/plain": [
       "108390"
      ]
     },
     "execution_count": 3,
     "metadata": {},
     "output_type": "execute_result"
    }
   ],
   "source": [
    "places=train['place_id'].unique()\n",
    "len(places)"
   ]
  },
  {
   "cell_type": "code",
   "execution_count": 4,
   "metadata": {
    "collapsed": false
   },
   "outputs": [],
   "source": [
    "testTrain=train[:int(len(train)*0.9)]\n",
    "withold=train[int(len(train)*0.9):]\n"
   ]
  },
  {
   "cell_type": "code",
   "execution_count": 5,
   "metadata": {
    "collapsed": false
   },
   "outputs": [],
   "source": [
    "g=testTrain.groupby('place_id')\n",
    "summary=pd.DataFrame()\n",
    "summary['count']=g['y'].count()\n",
    "summary['yMin']=g['y'].min()\n",
    "summary.sort_values(by='yMin', inplace=True, ascending=False)\n",
    "summary.head(20)\n",
    "summary.reset_index(inplace=True);"
   ]
  },
  {
   "cell_type": "code",
   "execution_count": 6,
   "metadata": {
    "collapsed": false
   },
   "outputs": [
    {
     "data": {
      "text/plain": [
       "numpy.int64"
      ]
     },
     "execution_count": 6,
     "metadata": {},
     "output_type": "execute_result"
    }
   ],
   "source": [
    "type(testTrain['place_id'].iloc[0])"
   ]
  },
  {
   "cell_type": "code",
   "execution_count": 59,
   "metadata": {
    "collapsed": false
   },
   "outputs": [
    {
     "name": "stdout",
     "output_type": "stream",
     "text": [
      "406\n",
      "48\n"
     ]
    }
   ],
   "source": [
    "# threshold=summary['yMin'].iloc[108]\n",
    "place_ids=set(summary['place_id'][:10])\n",
    "subSet=testTrain[testTrain['place_id'].isin(place_ids)]\n",
    "# threshold=summary['yMin'].iloc[1008]\n",
    "testSubSet=withold[withold['place_id'].isin(place_ids)]\n",
    "print len(subSet)\n",
    "print len(testSubSet)\n",
    "# threshold"
   ]
  },
  {
   "cell_type": "code",
   "execution_count": 103,
   "metadata": {
    "collapsed": false
   },
   "outputs": [
    {
     "data": {
      "text/plain": [
       "GaussianNB()"
      ]
     },
     "execution_count": 103,
     "metadata": {},
     "output_type": "execute_result"
    },
    {
     "data": {
      "text/plain": [
       "array([[  0.00000000e+000,   2.47937569e-009,   4.48150857e-002,\n",
       "          8.49926365e-002,   0.00000000e+000,   8.70192275e-001,\n",
       "          0.00000000e+000,   1.70097035e-084,   2.13281755e-018,\n",
       "          4.96731263e-010],\n",
       "       [  0.00000000e+000,   1.90753102e-011,   1.57764397e-007,\n",
       "          1.63929146e-006,   0.00000000e+000,   1.37754432e-009,\n",
       "          3.04662982e-125,   9.99976403e-001,   4.88791257e-031,\n",
       "          2.17984204e-005]])"
      ]
     },
     "execution_count": 103,
     "metadata": {},
     "output_type": "execute_result"
    },
    {
     "data": {
      "text/plain": [
       "array([ 0.00246305,  0.07142857,  0.10344828,  0.22167488,  0.08866995,\n",
       "        0.16995074,  0.04187192,  0.1182266 ,  0.01724138,  0.16502463])"
      ]
     },
     "execution_count": 103,
     "metadata": {},
     "output_type": "execute_result"
    },
    {
     "data": {
      "text/plain": [
       "array([[  0.00000000e+000,   1.77098264e-010,   4.63604334e-003,\n",
       "          1.88407322e-002,   0.00000000e+000,   1.47889820e-001,\n",
       "          0.00000000e+000,   2.01099943e-085,   3.67727164e-020,\n",
       "          8.19728931e-011],\n",
       "       [  0.00000000e+000,   1.36252215e-012,   1.63204549e-008,\n",
       "          3.63389734e-007,   0.00000000e+000,   2.34114675e-010,\n",
       "          1.27568244e-126,   1.18223811e-001,   8.42743547e-033,\n",
       "          3.59727627e-006]])"
      ]
     },
     "execution_count": 103,
     "metadata": {},
     "output_type": "execute_result"
    },
    {
     "data": {
      "text/plain": [
       "array([[  1.47889820e-01,   2.47774091e+09],\n",
       "       [  1.88407322e-02,   9.54828909e+09],\n",
       "       [  4.63604334e-03,   7.83868905e+09],\n",
       "       [  1.77098264e-10,   7.76148287e+09],\n",
       "       [  8.19728931e-11,   1.66021940e+09],\n",
       "       [  3.67727164e-20,   8.19834766e+09],\n",
       "       [  2.01099943e-85,   9.54126443e+09],\n",
       "       [  0.00000000e+00,   9.25821352e+09],\n",
       "       [  0.00000000e+00,   6.05784390e+09],\n",
       "       [  0.00000000e+00,   1.96631718e+09]])"
      ]
     },
     "execution_count": 103,
     "metadata": {},
     "output_type": "execute_result"
    },
    {
     "data": {
      "text/plain": [
       "69"
      ]
     },
     "execution_count": 103,
     "metadata": {},
     "output_type": "execute_result"
    },
    {
     "data": {
      "text/plain": [
       "array([7838689051, 9258213522, 6057843905, 7838689051, 7838689051,\n",
       "       6057843905, 2477740908, 6057843905, 6057843905, 7838689051,\n",
       "       7838689051, 9541264434, 6057843905, 9541264434, 9258213522,\n",
       "       7838689051, 9548289088, 8198347659, 1966317180, 9548289088,\n",
       "       2477740908, 6057843905, 9548289088, 6057843905, 6057843905,\n",
       "       2477740908, 1966317180, 7838689051, 7761482869, 6057843905,\n",
       "       7838689051, 6057843905, 9258213522, 1966317180, 6057843905,\n",
       "       7761482869, 7838689051, 9548289088, 6057843905, 2477740908,\n",
       "       9258213522, 9548289088, 1966317180, 6057843905, 7838689051,\n",
       "       9548289088, 6057843905, 7838689051])"
      ]
     },
     "execution_count": 103,
     "metadata": {},
     "output_type": "execute_result"
    },
    {
     "data": {
      "text/html": [
       "<div>\n",
       "<table border=\"1\" class=\"dataframe\">\n",
       "  <thead>\n",
       "    <tr style=\"text-align: right;\">\n",
       "      <th></th>\n",
       "      <th>pred</th>\n",
       "      <th>place_id</th>\n",
       "    </tr>\n",
       "  </thead>\n",
       "  <tbody>\n",
       "    <tr>\n",
       "      <th>26220004</th>\n",
       "      <td>2.477741e+09</td>\n",
       "      <td>7838689051</td>\n",
       "    </tr>\n",
       "    <tr>\n",
       "      <th>26288283</th>\n",
       "      <td>9.541264e+09</td>\n",
       "      <td>9258213522</td>\n",
       "    </tr>\n",
       "    <tr>\n",
       "      <th>26344124</th>\n",
       "      <td>9.548289e+09</td>\n",
       "      <td>6057843905</td>\n",
       "    </tr>\n",
       "    <tr>\n",
       "      <th>26357837</th>\n",
       "      <td>2.477741e+09</td>\n",
       "      <td>7838689051</td>\n",
       "    </tr>\n",
       "    <tr>\n",
       "      <th>26405726</th>\n",
       "      <td>2.477741e+09</td>\n",
       "      <td>6057843905</td>\n",
       "    </tr>\n",
       "    <tr>\n",
       "      <th>26442993</th>\n",
       "      <td>9.548289e+09</td>\n",
       "      <td>6057843905</td>\n",
       "    </tr>\n",
       "    <tr>\n",
       "      <th>26467084</th>\n",
       "      <td>7.838689e+09</td>\n",
       "      <td>2477740908</td>\n",
       "    </tr>\n",
       "    <tr>\n",
       "      <th>26615929</th>\n",
       "      <td>9.548289e+09</td>\n",
       "      <td>6057843905</td>\n",
       "    </tr>\n",
       "    <tr>\n",
       "      <th>26629952</th>\n",
       "      <td>9.548289e+09</td>\n",
       "      <td>6057843905</td>\n",
       "    </tr>\n",
       "    <tr>\n",
       "      <th>26638289</th>\n",
       "      <td>9.548289e+09</td>\n",
       "      <td>6057843905</td>\n",
       "    </tr>\n",
       "    <tr>\n",
       "      <th>26716687</th>\n",
       "      <td>2.477741e+09</td>\n",
       "      <td>6057843905</td>\n",
       "    </tr>\n",
       "    <tr>\n",
       "      <th>26773624</th>\n",
       "      <td>8.198348e+09</td>\n",
       "      <td>9541264434</td>\n",
       "    </tr>\n",
       "    <tr>\n",
       "      <th>26779165</th>\n",
       "      <td>9.548289e+09</td>\n",
       "      <td>6057843905</td>\n",
       "    </tr>\n",
       "    <tr>\n",
       "      <th>26881824</th>\n",
       "      <td>7.761483e+09</td>\n",
       "      <td>9541264434</td>\n",
       "    </tr>\n",
       "    <tr>\n",
       "      <th>26907441</th>\n",
       "      <td>9.541264e+09</td>\n",
       "      <td>9258213522</td>\n",
       "    </tr>\n",
       "    <tr>\n",
       "      <th>26924316</th>\n",
       "      <td>2.477741e+09</td>\n",
       "      <td>7838689051</td>\n",
       "    </tr>\n",
       "    <tr>\n",
       "      <th>26956605</th>\n",
       "      <td>1.660219e+09</td>\n",
       "      <td>9548289088</td>\n",
       "    </tr>\n",
       "    <tr>\n",
       "      <th>27076016</th>\n",
       "      <td>1.966317e+09</td>\n",
       "      <td>8198347659</td>\n",
       "    </tr>\n",
       "    <tr>\n",
       "      <th>27090829</th>\n",
       "      <td>7.761483e+09</td>\n",
       "      <td>1966317180</td>\n",
       "    </tr>\n",
       "    <tr>\n",
       "      <th>27143901</th>\n",
       "      <td>1.660219e+09</td>\n",
       "      <td>9548289088</td>\n",
       "    </tr>\n",
       "    <tr>\n",
       "      <th>27172392</th>\n",
       "      <td>7.838689e+09</td>\n",
       "      <td>2477740908</td>\n",
       "    </tr>\n",
       "    <tr>\n",
       "      <th>27185088</th>\n",
       "      <td>9.548289e+09</td>\n",
       "      <td>6057843905</td>\n",
       "    </tr>\n",
       "    <tr>\n",
       "      <th>27290472</th>\n",
       "      <td>1.660219e+09</td>\n",
       "      <td>9548289088</td>\n",
       "    </tr>\n",
       "    <tr>\n",
       "      <th>27362231</th>\n",
       "      <td>9.548289e+09</td>\n",
       "      <td>6057843905</td>\n",
       "    </tr>\n",
       "    <tr>\n",
       "      <th>27429925</th>\n",
       "      <td>9.548289e+09</td>\n",
       "      <td>6057843905</td>\n",
       "    </tr>\n",
       "    <tr>\n",
       "      <th>27495654</th>\n",
       "      <td>7.838689e+09</td>\n",
       "      <td>2477740908</td>\n",
       "    </tr>\n",
       "    <tr>\n",
       "      <th>27520758</th>\n",
       "      <td>7.761483e+09</td>\n",
       "      <td>1966317180</td>\n",
       "    </tr>\n",
       "    <tr>\n",
       "      <th>27539028</th>\n",
       "      <td>2.477741e+09</td>\n",
       "      <td>7838689051</td>\n",
       "    </tr>\n",
       "    <tr>\n",
       "      <th>27552221</th>\n",
       "      <td>9.258214e+09</td>\n",
       "      <td>9548289088</td>\n",
       "    </tr>\n",
       "    <tr>\n",
       "      <th>27702485</th>\n",
       "      <td>9.548289e+09</td>\n",
       "      <td>6057843905</td>\n",
       "    </tr>\n",
       "    <tr>\n",
       "      <th>27715124</th>\n",
       "      <td>2.477741e+09</td>\n",
       "      <td>7838689051</td>\n",
       "    </tr>\n",
       "    <tr>\n",
       "      <th>27921491</th>\n",
       "      <td>9.548289e+09</td>\n",
       "      <td>6057843905</td>\n",
       "    </tr>\n",
       "    <tr>\n",
       "      <th>28057788</th>\n",
       "      <td>9.541264e+09</td>\n",
       "      <td>9258213522</td>\n",
       "    </tr>\n",
       "    <tr>\n",
       "      <th>28073592</th>\n",
       "      <td>7.761483e+09</td>\n",
       "      <td>1966317180</td>\n",
       "    </tr>\n",
       "    <tr>\n",
       "      <th>28178210</th>\n",
       "      <td>9.548289e+09</td>\n",
       "      <td>9548289088</td>\n",
       "    </tr>\n",
       "    <tr>\n",
       "      <th>28290122</th>\n",
       "      <td>9.258214e+09</td>\n",
       "      <td>7761482869</td>\n",
       "    </tr>\n",
       "    <tr>\n",
       "      <th>28384496</th>\n",
       "      <td>2.477741e+09</td>\n",
       "      <td>6057843905</td>\n",
       "    </tr>\n",
       "    <tr>\n",
       "      <th>28419318</th>\n",
       "      <td>1.660219e+09</td>\n",
       "      <td>9548289088</td>\n",
       "    </tr>\n",
       "    <tr>\n",
       "      <th>28582875</th>\n",
       "      <td>9.548289e+09</td>\n",
       "      <td>6057843905</td>\n",
       "    </tr>\n",
       "    <tr>\n",
       "      <th>28730247</th>\n",
       "      <td>7.838689e+09</td>\n",
       "      <td>2477740908</td>\n",
       "    </tr>\n",
       "    <tr>\n",
       "      <th>28786461</th>\n",
       "      <td>9.541264e+09</td>\n",
       "      <td>9258213522</td>\n",
       "    </tr>\n",
       "    <tr>\n",
       "      <th>28789718</th>\n",
       "      <td>1.660219e+09</td>\n",
       "      <td>9548289088</td>\n",
       "    </tr>\n",
       "    <tr>\n",
       "      <th>28879709</th>\n",
       "      <td>7.761483e+09</td>\n",
       "      <td>9541264434</td>\n",
       "    </tr>\n",
       "    <tr>\n",
       "      <th>28929787</th>\n",
       "      <td>9.548289e+09</td>\n",
       "      <td>6057843905</td>\n",
       "    </tr>\n",
       "    <tr>\n",
       "      <th>28960534</th>\n",
       "      <td>2.477741e+09</td>\n",
       "      <td>7838689051</td>\n",
       "    </tr>\n",
       "    <tr>\n",
       "      <th>29025969</th>\n",
       "      <td>1.660219e+09</td>\n",
       "      <td>9548289088</td>\n",
       "    </tr>\n",
       "    <tr>\n",
       "      <th>29032449</th>\n",
       "      <td>9.548289e+09</td>\n",
       "      <td>6057843905</td>\n",
       "    </tr>\n",
       "    <tr>\n",
       "      <th>29090406</th>\n",
       "      <td>2.477741e+09</td>\n",
       "      <td>7838689051</td>\n",
       "    </tr>\n",
       "  </tbody>\n",
       "</table>\n",
       "</div>"
      ],
      "text/plain": [
       "                  pred    place_id\n",
       "26220004  2.477741e+09  7838689051\n",
       "26288283  9.541264e+09  9258213522\n",
       "26344124  9.548289e+09  6057843905\n",
       "26357837  2.477741e+09  7838689051\n",
       "26405726  2.477741e+09  6057843905\n",
       "26442993  9.548289e+09  6057843905\n",
       "26467084  7.838689e+09  2477740908\n",
       "26615929  9.548289e+09  6057843905\n",
       "26629952  9.548289e+09  6057843905\n",
       "26638289  9.548289e+09  6057843905\n",
       "26716687  2.477741e+09  6057843905\n",
       "26773624  8.198348e+09  9541264434\n",
       "26779165  9.548289e+09  6057843905\n",
       "26881824  7.761483e+09  9541264434\n",
       "26907441  9.541264e+09  9258213522\n",
       "26924316  2.477741e+09  7838689051\n",
       "26956605  1.660219e+09  9548289088\n",
       "27076016  1.966317e+09  8198347659\n",
       "27090829  7.761483e+09  1966317180\n",
       "27143901  1.660219e+09  9548289088\n",
       "27172392  7.838689e+09  2477740908\n",
       "27185088  9.548289e+09  6057843905\n",
       "27290472  1.660219e+09  9548289088\n",
       "27362231  9.548289e+09  6057843905\n",
       "27429925  9.548289e+09  6057843905\n",
       "27495654  7.838689e+09  2477740908\n",
       "27520758  7.761483e+09  1966317180\n",
       "27539028  2.477741e+09  7838689051\n",
       "27552221  9.258214e+09  9548289088\n",
       "27702485  9.548289e+09  6057843905\n",
       "27715124  2.477741e+09  7838689051\n",
       "27921491  9.548289e+09  6057843905\n",
       "28057788  9.541264e+09  9258213522\n",
       "28073592  7.761483e+09  1966317180\n",
       "28178210  9.548289e+09  9548289088\n",
       "28290122  9.258214e+09  7761482869\n",
       "28384496  2.477741e+09  6057843905\n",
       "28419318  1.660219e+09  9548289088\n",
       "28582875  9.548289e+09  6057843905\n",
       "28730247  7.838689e+09  2477740908\n",
       "28786461  9.541264e+09  9258213522\n",
       "28789718  1.660219e+09  9548289088\n",
       "28879709  7.761483e+09  9541264434\n",
       "28929787  9.548289e+09  6057843905\n",
       "28960534  2.477741e+09  7838689051\n",
       "29025969  1.660219e+09  9548289088\n",
       "29032449  9.548289e+09  6057843905\n",
       "29090406  2.477741e+09  7838689051"
      ]
     },
     "execution_count": 103,
     "metadata": {},
     "output_type": "execute_result"
    },
    {
     "name": "stdout",
     "output_type": "stream",
     "text": [
      "0.0208333333333\n"
     ]
    }
   ],
   "source": [
    "subSet.loc[:,'day']=subSet.loc[:, 'time'].div(1440).map(int)\n",
    "subSet.loc[:,'weekday']=subSet.loc[:,'day']%7\n",
    "subSet.loc[:,'hour']=subSet.loc[:,'time'].div(60).map(int)\n",
    "subSet.loc[:, 'hourInDay']=subSet.loc[:,'hour']%24\n",
    "\n",
    "testSubSet.loc[:, 'day']=testSubSet.loc[:,'time'].div(1440).map(int)\n",
    "testSubSet.loc[:, 'weekday']=testSubSet.loc[:, 'day']%7\n",
    "testSubSet.loc[:, 'hour']=testSubSet.loc[:, 'time'].div(60).map(int)\n",
    "testSubSet.loc[:, 'hourInDay']=testSubSet.loc[:,'hour']%24\n",
    "\n",
    "f=['x','y', 'weekday', 'day', 'hourInDay']\n",
    "\n",
    "\n",
    "gnb=GaussianNB()\n",
    "gnb.fit(subSet[f], subSet['place_id'])\n",
    "prob=gnb.predict_proba(testSubSet[f])\n",
    "prob[:2]\n",
    "prob=prob*gnb.class_prior_\n",
    "gnb.class_prior_\n",
    "prob[:2]\n",
    "\n",
    "\n",
    "tags=subSet['place_id'].unique()\n",
    "tags=gnb.classes_\n",
    "# gnb.classes_[:5]\n",
    "# tags[:5]\n",
    "# subSet['place_id'].head(5)\n",
    "\n",
    "pred=np.array([sorted(zip(i,tags))[::-1] for i in prob])\n",
    "pred[0]\n",
    "len(subSet[subSet['place_id']==7838689051])\n",
    "pred=pred[:,0][:,1]\n",
    "# gnb.class_prior_\n",
    "# np.array([zip(i,tags) for i in prob])[0]\n",
    "\n",
    "gnb.predict(testSubSet[f])\n",
    "testSubSet.loc[:,'pred']=pred\n",
    "testSubSet[['pred','place_id']]\n",
    "\n",
    "\n",
    "\n",
    "accuracy=1.0*(testSubSet['place_id']==testSubSet['pred']).sum()/len(testSubSet)\n",
    "print accuracy\n",
    "\n"
   ]
  },
  {
   "cell_type": "code",
   "execution_count": 9,
   "metadata": {
    "collapsed": false
   },
   "outputs": [],
   "source": [
    "# gnb=GaussianNB()\n",
    "# gnb.fit(train[['x','y','time']], train['place_id'])"
   ]
  },
  {
   "cell_type": "code",
   "execution_count": null,
   "metadata": {
    "collapsed": true
   },
   "outputs": [],
   "source": []
  },
  {
   "cell_type": "code",
   "execution_count": null,
   "metadata": {
    "collapsed": true
   },
   "outputs": [],
   "source": []
  }
 ],
 "metadata": {
  "kernelspec": {
   "display_name": "Python 2",
   "language": "python",
   "name": "python2"
  },
  "language_info": {
   "codemirror_mode": {
    "name": "ipython",
    "version": 2
   },
   "file_extension": ".py",
   "mimetype": "text/x-python",
   "name": "python",
   "nbconvert_exporter": "python",
   "pygments_lexer": "ipython2",
   "version": "2.7.11"
  }
 },
 "nbformat": 4,
 "nbformat_minor": 0
}
